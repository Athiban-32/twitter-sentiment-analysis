{
  "nbformat": 4,
  "nbformat_minor": 0,
  "metadata": {
    "colab": {
      "provenance": [],
      "collapsed_sections": []
    },
    "kernelspec": {
      "name": "python3",
      "display_name": "Python 3"
    },
    "language_info": {
      "name": "python"
    }
  },
  "cells": [
    {
      "cell_type": "code",
      "source": [
        "!pip install pyLDAvis"
      ],
      "metadata": {
        "id": "_Umjp82Tyly_"
      },
      "execution_count": null,
      "outputs": []
    },
    {
      "cell_type": "code",
      "execution_count": 42,
      "metadata": {
        "id": "AGxq3AVfyNj8"
      },
      "outputs": [],
      "source": [
        "#Loading the required Libraries\n",
        "import pandas as pd\n",
        "import numpy as np\n",
        "import seaborn as sns\n",
        "# *matplotlib* for 2D plots and graphs\n",
        "import matplotlib.pyplot as plt\n",
        "import os\n",
        "\n",
        "#TEXT PROCESSING libs\n",
        "import re\n",
        "# *textblob* for textual data processing\n",
        "from textblob import TextBlob\n",
        "import logging\n",
        "import gensim\n",
        "from gensim import corpora, models, similarities\n",
        "import tempfile\n",
        "from sklearn.feature_extraction.text import CountVectorizer\n",
        "import pyLDAvis.gensim_models as gensimvis"
      ]
    },
    {
      "cell_type": "code",
      "source": [
        "df = pd.read_csv(\"firing.csv\")\n",
        "df.columns\n",
        "df.head(30000)"
      ],
      "metadata": {
        "colab": {
          "base_uri": "https://localhost:8080/",
          "height": 423
        },
        "id": "rhjYGxodyZos",
        "outputId": "592160c2-c227-445b-9775-b23a80d83e25"
      },
      "execution_count": 43,
      "outputs": [
        {
          "output_type": "execute_result",
          "data": {
            "text/plain": [
              "       Unnamed: 0        date  \\\n",
              "0               0  2022-11-03   \n",
              "1               1  2022-11-03   \n",
              "2               2  2022-11-03   \n",
              "3               3  2022-11-03   \n",
              "4               4  2022-11-03   \n",
              "...           ...         ...   \n",
              "24007       24007  2022-11-03   \n",
              "24008       24008  2022-11-03   \n",
              "24009       24009  2022-11-03   \n",
              "24010       24010  2022-11-03   \n",
              "24011       24011  2022-11-03   \n",
              "\n",
              "                                                   tweet  \n",
              "0      @SdqJaan پولیس نے حملہ آور کو AK-47 کے ساتھ کی...  \n",
              "1      BLACK DAY FOR PAKISTAN😭😭 #Firing #ImranKhan #ع...  \n",
              "2      Imran Khan himself has created this drama to e...  \n",
              "3      Shooter details*   Name: General Qamar Javed B...  \n",
              "4      Only Army Bajwa's bastards are behind him. Fuc...  \n",
              "...                                                  ...  \n",
              "24007  Wondering about Firing incident on PTI dharna ...  \n",
              "24008  Will Rana sanaullah be accountable for what he...  \n",
              "24009  @GFarooqi Abay aur firing papian dene ke liye ...  \n",
              "24010  ۔ لانگ مارچ میں بہت سی انسانی جانوں کا نقصان ہ...  \n",
              "24011  Saw the devastated news!!! I hope he's safe an...  \n",
              "\n",
              "[24012 rows x 3 columns]"
            ],
            "text/html": [
              "\n",
              "  <div id=\"df-6e5b471f-8baf-4b15-ae88-ea6cbe5fdc09\">\n",
              "    <div class=\"colab-df-container\">\n",
              "      <div>\n",
              "<style scoped>\n",
              "    .dataframe tbody tr th:only-of-type {\n",
              "        vertical-align: middle;\n",
              "    }\n",
              "\n",
              "    .dataframe tbody tr th {\n",
              "        vertical-align: top;\n",
              "    }\n",
              "\n",
              "    .dataframe thead th {\n",
              "        text-align: right;\n",
              "    }\n",
              "</style>\n",
              "<table border=\"1\" class=\"dataframe\">\n",
              "  <thead>\n",
              "    <tr style=\"text-align: right;\">\n",
              "      <th></th>\n",
              "      <th>Unnamed: 0</th>\n",
              "      <th>date</th>\n",
              "      <th>tweet</th>\n",
              "    </tr>\n",
              "  </thead>\n",
              "  <tbody>\n",
              "    <tr>\n",
              "      <th>0</th>\n",
              "      <td>0</td>\n",
              "      <td>2022-11-03</td>\n",
              "      <td>@SdqJaan پولیس نے حملہ آور کو AK-47 کے ساتھ کی...</td>\n",
              "    </tr>\n",
              "    <tr>\n",
              "      <th>1</th>\n",
              "      <td>1</td>\n",
              "      <td>2022-11-03</td>\n",
              "      <td>BLACK DAY FOR PAKISTAN😭😭 #Firing #ImranKhan #ع...</td>\n",
              "    </tr>\n",
              "    <tr>\n",
              "      <th>2</th>\n",
              "      <td>2</td>\n",
              "      <td>2022-11-03</td>\n",
              "      <td>Imran Khan himself has created this drama to e...</td>\n",
              "    </tr>\n",
              "    <tr>\n",
              "      <th>3</th>\n",
              "      <td>3</td>\n",
              "      <td>2022-11-03</td>\n",
              "      <td>Shooter details*   Name: General Qamar Javed B...</td>\n",
              "    </tr>\n",
              "    <tr>\n",
              "      <th>4</th>\n",
              "      <td>4</td>\n",
              "      <td>2022-11-03</td>\n",
              "      <td>Only Army Bajwa's bastards are behind him. Fuc...</td>\n",
              "    </tr>\n",
              "    <tr>\n",
              "      <th>...</th>\n",
              "      <td>...</td>\n",
              "      <td>...</td>\n",
              "      <td>...</td>\n",
              "    </tr>\n",
              "    <tr>\n",
              "      <th>24007</th>\n",
              "      <td>24007</td>\n",
              "      <td>2022-11-03</td>\n",
              "      <td>Wondering about Firing incident on PTI dharna ...</td>\n",
              "    </tr>\n",
              "    <tr>\n",
              "      <th>24008</th>\n",
              "      <td>24008</td>\n",
              "      <td>2022-11-03</td>\n",
              "      <td>Will Rana sanaullah be accountable for what he...</td>\n",
              "    </tr>\n",
              "    <tr>\n",
              "      <th>24009</th>\n",
              "      <td>24009</td>\n",
              "      <td>2022-11-03</td>\n",
              "      <td>@GFarooqi Abay aur firing papian dene ke liye ...</td>\n",
              "    </tr>\n",
              "    <tr>\n",
              "      <th>24010</th>\n",
              "      <td>24010</td>\n",
              "      <td>2022-11-03</td>\n",
              "      <td>۔ لانگ مارچ میں بہت سی انسانی جانوں کا نقصان ہ...</td>\n",
              "    </tr>\n",
              "    <tr>\n",
              "      <th>24011</th>\n",
              "      <td>24011</td>\n",
              "      <td>2022-11-03</td>\n",
              "      <td>Saw the devastated news!!! I hope he's safe an...</td>\n",
              "    </tr>\n",
              "  </tbody>\n",
              "</table>\n",
              "<p>24012 rows × 3 columns</p>\n",
              "</div>\n",
              "      <button class=\"colab-df-convert\" onclick=\"convertToInteractive('df-6e5b471f-8baf-4b15-ae88-ea6cbe5fdc09')\"\n",
              "              title=\"Convert this dataframe to an interactive table.\"\n",
              "              style=\"display:none;\">\n",
              "        \n",
              "  <svg xmlns=\"http://www.w3.org/2000/svg\" height=\"24px\"viewBox=\"0 0 24 24\"\n",
              "       width=\"24px\">\n",
              "    <path d=\"M0 0h24v24H0V0z\" fill=\"none\"/>\n",
              "    <path d=\"M18.56 5.44l.94 2.06.94-2.06 2.06-.94-2.06-.94-.94-2.06-.94 2.06-2.06.94zm-11 1L8.5 8.5l.94-2.06 2.06-.94-2.06-.94L8.5 2.5l-.94 2.06-2.06.94zm10 10l.94 2.06.94-2.06 2.06-.94-2.06-.94-.94-2.06-.94 2.06-2.06.94z\"/><path d=\"M17.41 7.96l-1.37-1.37c-.4-.4-.92-.59-1.43-.59-.52 0-1.04.2-1.43.59L10.3 9.45l-7.72 7.72c-.78.78-.78 2.05 0 2.83L4 21.41c.39.39.9.59 1.41.59.51 0 1.02-.2 1.41-.59l7.78-7.78 2.81-2.81c.8-.78.8-2.07 0-2.86zM5.41 20L4 18.59l7.72-7.72 1.47 1.35L5.41 20z\"/>\n",
              "  </svg>\n",
              "      </button>\n",
              "      \n",
              "  <style>\n",
              "    .colab-df-container {\n",
              "      display:flex;\n",
              "      flex-wrap:wrap;\n",
              "      gap: 12px;\n",
              "    }\n",
              "\n",
              "    .colab-df-convert {\n",
              "      background-color: #E8F0FE;\n",
              "      border: none;\n",
              "      border-radius: 50%;\n",
              "      cursor: pointer;\n",
              "      display: none;\n",
              "      fill: #1967D2;\n",
              "      height: 32px;\n",
              "      padding: 0 0 0 0;\n",
              "      width: 32px;\n",
              "    }\n",
              "\n",
              "    .colab-df-convert:hover {\n",
              "      background-color: #E2EBFA;\n",
              "      box-shadow: 0px 1px 2px rgba(60, 64, 67, 0.3), 0px 1px 3px 1px rgba(60, 64, 67, 0.15);\n",
              "      fill: #174EA6;\n",
              "    }\n",
              "\n",
              "    [theme=dark] .colab-df-convert {\n",
              "      background-color: #3B4455;\n",
              "      fill: #D2E3FC;\n",
              "    }\n",
              "\n",
              "    [theme=dark] .colab-df-convert:hover {\n",
              "      background-color: #434B5C;\n",
              "      box-shadow: 0px 1px 3px 1px rgba(0, 0, 0, 0.15);\n",
              "      filter: drop-shadow(0px 1px 2px rgba(0, 0, 0, 0.3));\n",
              "      fill: #FFFFFF;\n",
              "    }\n",
              "  </style>\n",
              "\n",
              "      <script>\n",
              "        const buttonEl =\n",
              "          document.querySelector('#df-6e5b471f-8baf-4b15-ae88-ea6cbe5fdc09 button.colab-df-convert');\n",
              "        buttonEl.style.display =\n",
              "          google.colab.kernel.accessAllowed ? 'block' : 'none';\n",
              "\n",
              "        async function convertToInteractive(key) {\n",
              "          const element = document.querySelector('#df-6e5b471f-8baf-4b15-ae88-ea6cbe5fdc09');\n",
              "          const dataTable =\n",
              "            await google.colab.kernel.invokeFunction('convertToInteractive',\n",
              "                                                     [key], {});\n",
              "          if (!dataTable) return;\n",
              "\n",
              "          const docLinkHtml = 'Like what you see? Visit the ' +\n",
              "            '<a target=\"_blank\" href=https://colab.research.google.com/notebooks/data_table.ipynb>data table notebook</a>'\n",
              "            + ' to learn more about interactive tables.';\n",
              "          element.innerHTML = '';\n",
              "          dataTable['output_type'] = 'display_data';\n",
              "          await google.colab.output.renderOutput(dataTable, element);\n",
              "          const docLink = document.createElement('div');\n",
              "          docLink.innerHTML = docLinkHtml;\n",
              "          element.appendChild(docLink);\n",
              "        }\n",
              "      </script>\n",
              "    </div>\n",
              "  </div>\n",
              "  "
            ]
          },
          "metadata": {},
          "execution_count": 43
        }
      ]
    },
    {
      "cell_type": "code",
      "source": [
        "##Preprocessing the dataset for Formatting and Duplicacies\n",
        "\n",
        "# Lowercase \n",
        "df['tweet']=df['tweet'].str.lower()\n",
        "df.head(25000)"
      ],
      "metadata": {
        "colab": {
          "base_uri": "https://localhost:8080/",
          "height": 423
        },
        "id": "FagIe2mdzKUU",
        "outputId": "9ab3ee98-89f6-49a0-d510-0b80cfa4e653"
      },
      "execution_count": 44,
      "outputs": [
        {
          "output_type": "execute_result",
          "data": {
            "text/plain": [
              "       Unnamed: 0        date  \\\n",
              "0               0  2022-11-03   \n",
              "1               1  2022-11-03   \n",
              "2               2  2022-11-03   \n",
              "3               3  2022-11-03   \n",
              "4               4  2022-11-03   \n",
              "...           ...         ...   \n",
              "24007       24007  2022-11-03   \n",
              "24008       24008  2022-11-03   \n",
              "24009       24009  2022-11-03   \n",
              "24010       24010  2022-11-03   \n",
              "24011       24011  2022-11-03   \n",
              "\n",
              "                                                   tweet  \n",
              "0      @sdqjaan پولیس نے حملہ آور کو ak-47 کے ساتھ کی...  \n",
              "1      black day for pakistan😭😭 #firing #imrankhan #ع...  \n",
              "2      imran khan himself has created this drama to e...  \n",
              "3      shooter details*   name: general qamar javed b...  \n",
              "4      only army bajwa's bastards are behind him. fuc...  \n",
              "...                                                  ...  \n",
              "24007  wondering about firing incident on pti dharna ...  \n",
              "24008  will rana sanaullah be accountable for what he...  \n",
              "24009  @gfarooqi abay aur firing papian dene ke liye ...  \n",
              "24010  ۔ لانگ مارچ میں بہت سی انسانی جانوں کا نقصان ہ...  \n",
              "24011  saw the devastated news!!! i hope he's safe an...  \n",
              "\n",
              "[24012 rows x 3 columns]"
            ],
            "text/html": [
              "\n",
              "  <div id=\"df-c4ee9336-09a2-434e-93a7-cdd11e6d45f0\">\n",
              "    <div class=\"colab-df-container\">\n",
              "      <div>\n",
              "<style scoped>\n",
              "    .dataframe tbody tr th:only-of-type {\n",
              "        vertical-align: middle;\n",
              "    }\n",
              "\n",
              "    .dataframe tbody tr th {\n",
              "        vertical-align: top;\n",
              "    }\n",
              "\n",
              "    .dataframe thead th {\n",
              "        text-align: right;\n",
              "    }\n",
              "</style>\n",
              "<table border=\"1\" class=\"dataframe\">\n",
              "  <thead>\n",
              "    <tr style=\"text-align: right;\">\n",
              "      <th></th>\n",
              "      <th>Unnamed: 0</th>\n",
              "      <th>date</th>\n",
              "      <th>tweet</th>\n",
              "    </tr>\n",
              "  </thead>\n",
              "  <tbody>\n",
              "    <tr>\n",
              "      <th>0</th>\n",
              "      <td>0</td>\n",
              "      <td>2022-11-03</td>\n",
              "      <td>@sdqjaan پولیس نے حملہ آور کو ak-47 کے ساتھ کی...</td>\n",
              "    </tr>\n",
              "    <tr>\n",
              "      <th>1</th>\n",
              "      <td>1</td>\n",
              "      <td>2022-11-03</td>\n",
              "      <td>black day for pakistan😭😭 #firing #imrankhan #ع...</td>\n",
              "    </tr>\n",
              "    <tr>\n",
              "      <th>2</th>\n",
              "      <td>2</td>\n",
              "      <td>2022-11-03</td>\n",
              "      <td>imran khan himself has created this drama to e...</td>\n",
              "    </tr>\n",
              "    <tr>\n",
              "      <th>3</th>\n",
              "      <td>3</td>\n",
              "      <td>2022-11-03</td>\n",
              "      <td>shooter details*   name: general qamar javed b...</td>\n",
              "    </tr>\n",
              "    <tr>\n",
              "      <th>4</th>\n",
              "      <td>4</td>\n",
              "      <td>2022-11-03</td>\n",
              "      <td>only army bajwa's bastards are behind him. fuc...</td>\n",
              "    </tr>\n",
              "    <tr>\n",
              "      <th>...</th>\n",
              "      <td>...</td>\n",
              "      <td>...</td>\n",
              "      <td>...</td>\n",
              "    </tr>\n",
              "    <tr>\n",
              "      <th>24007</th>\n",
              "      <td>24007</td>\n",
              "      <td>2022-11-03</td>\n",
              "      <td>wondering about firing incident on pti dharna ...</td>\n",
              "    </tr>\n",
              "    <tr>\n",
              "      <th>24008</th>\n",
              "      <td>24008</td>\n",
              "      <td>2022-11-03</td>\n",
              "      <td>will rana sanaullah be accountable for what he...</td>\n",
              "    </tr>\n",
              "    <tr>\n",
              "      <th>24009</th>\n",
              "      <td>24009</td>\n",
              "      <td>2022-11-03</td>\n",
              "      <td>@gfarooqi abay aur firing papian dene ke liye ...</td>\n",
              "    </tr>\n",
              "    <tr>\n",
              "      <th>24010</th>\n",
              "      <td>24010</td>\n",
              "      <td>2022-11-03</td>\n",
              "      <td>۔ لانگ مارچ میں بہت سی انسانی جانوں کا نقصان ہ...</td>\n",
              "    </tr>\n",
              "    <tr>\n",
              "      <th>24011</th>\n",
              "      <td>24011</td>\n",
              "      <td>2022-11-03</td>\n",
              "      <td>saw the devastated news!!! i hope he's safe an...</td>\n",
              "    </tr>\n",
              "  </tbody>\n",
              "</table>\n",
              "<p>24012 rows × 3 columns</p>\n",
              "</div>\n",
              "      <button class=\"colab-df-convert\" onclick=\"convertToInteractive('df-c4ee9336-09a2-434e-93a7-cdd11e6d45f0')\"\n",
              "              title=\"Convert this dataframe to an interactive table.\"\n",
              "              style=\"display:none;\">\n",
              "        \n",
              "  <svg xmlns=\"http://www.w3.org/2000/svg\" height=\"24px\"viewBox=\"0 0 24 24\"\n",
              "       width=\"24px\">\n",
              "    <path d=\"M0 0h24v24H0V0z\" fill=\"none\"/>\n",
              "    <path d=\"M18.56 5.44l.94 2.06.94-2.06 2.06-.94-2.06-.94-.94-2.06-.94 2.06-2.06.94zm-11 1L8.5 8.5l.94-2.06 2.06-.94-2.06-.94L8.5 2.5l-.94 2.06-2.06.94zm10 10l.94 2.06.94-2.06 2.06-.94-2.06-.94-.94-2.06-.94 2.06-2.06.94z\"/><path d=\"M17.41 7.96l-1.37-1.37c-.4-.4-.92-.59-1.43-.59-.52 0-1.04.2-1.43.59L10.3 9.45l-7.72 7.72c-.78.78-.78 2.05 0 2.83L4 21.41c.39.39.9.59 1.41.59.51 0 1.02-.2 1.41-.59l7.78-7.78 2.81-2.81c.8-.78.8-2.07 0-2.86zM5.41 20L4 18.59l7.72-7.72 1.47 1.35L5.41 20z\"/>\n",
              "  </svg>\n",
              "      </button>\n",
              "      \n",
              "  <style>\n",
              "    .colab-df-container {\n",
              "      display:flex;\n",
              "      flex-wrap:wrap;\n",
              "      gap: 12px;\n",
              "    }\n",
              "\n",
              "    .colab-df-convert {\n",
              "      background-color: #E8F0FE;\n",
              "      border: none;\n",
              "      border-radius: 50%;\n",
              "      cursor: pointer;\n",
              "      display: none;\n",
              "      fill: #1967D2;\n",
              "      height: 32px;\n",
              "      padding: 0 0 0 0;\n",
              "      width: 32px;\n",
              "    }\n",
              "\n",
              "    .colab-df-convert:hover {\n",
              "      background-color: #E2EBFA;\n",
              "      box-shadow: 0px 1px 2px rgba(60, 64, 67, 0.3), 0px 1px 3px 1px rgba(60, 64, 67, 0.15);\n",
              "      fill: #174EA6;\n",
              "    }\n",
              "\n",
              "    [theme=dark] .colab-df-convert {\n",
              "      background-color: #3B4455;\n",
              "      fill: #D2E3FC;\n",
              "    }\n",
              "\n",
              "    [theme=dark] .colab-df-convert:hover {\n",
              "      background-color: #434B5C;\n",
              "      box-shadow: 0px 1px 3px 1px rgba(0, 0, 0, 0.15);\n",
              "      filter: drop-shadow(0px 1px 2px rgba(0, 0, 0, 0.3));\n",
              "      fill: #FFFFFF;\n",
              "    }\n",
              "  </style>\n",
              "\n",
              "      <script>\n",
              "        const buttonEl =\n",
              "          document.querySelector('#df-c4ee9336-09a2-434e-93a7-cdd11e6d45f0 button.colab-df-convert');\n",
              "        buttonEl.style.display =\n",
              "          google.colab.kernel.accessAllowed ? 'block' : 'none';\n",
              "\n",
              "        async function convertToInteractive(key) {\n",
              "          const element = document.querySelector('#df-c4ee9336-09a2-434e-93a7-cdd11e6d45f0');\n",
              "          const dataTable =\n",
              "            await google.colab.kernel.invokeFunction('convertToInteractive',\n",
              "                                                     [key], {});\n",
              "          if (!dataTable) return;\n",
              "\n",
              "          const docLinkHtml = 'Like what you see? Visit the ' +\n",
              "            '<a target=\"_blank\" href=https://colab.research.google.com/notebooks/data_table.ipynb>data table notebook</a>'\n",
              "            + ' to learn more about interactive tables.';\n",
              "          element.innerHTML = '';\n",
              "          dataTable['output_type'] = 'display_data';\n",
              "          await google.colab.output.renderOutput(dataTable, element);\n",
              "          const docLink = document.createElement('div');\n",
              "          docLink.innerHTML = docLinkHtml;\n",
              "          element.appendChild(docLink);\n",
              "        }\n",
              "      </script>\n",
              "    </div>\n",
              "  </div>\n",
              "  "
            ]
          },
          "metadata": {},
          "execution_count": 44
        }
      ]
    },
    {
      "cell_type": "code",
      "source": [
        "# Removing twitter user id's mentioned in the tweets\n",
        "def remove_twitter_ids(tweet):\n",
        "  mention_removed_tweet = re.sub(r\"(@[A-Za-z0-9]+)|([^0-9A-Za-z \\t])|(\\w+:\\/\\/\\S+)\", \"\", str(tweet)) # remove any sequence of characters followed by '@' sign\n",
        "  spaces_removed = re.sub(r\"\\s\\s+\", \" \", str(mention_removed_tweet)) # remove multiple spaces\n",
        "  return spaces_removed\n",
        "\n",
        "df['tweet'] = df['tweet'].apply(remove_twitter_ids)\n",
        "df.head(30000)"
      ],
      "metadata": {
        "colab": {
          "base_uri": "https://localhost:8080/",
          "height": 423
        },
        "id": "nerWkQUg0lyY",
        "outputId": "649378d2-bc96-4373-a139-d2871746c1fd"
      },
      "execution_count": 45,
      "outputs": [
        {
          "output_type": "execute_result",
          "data": {
            "text/plain": [
              "       Unnamed: 0        date  \\\n",
              "0               0  2022-11-03   \n",
              "1               1  2022-11-03   \n",
              "2               2  2022-11-03   \n",
              "3               3  2022-11-03   \n",
              "4               4  2022-11-03   \n",
              "...           ...         ...   \n",
              "24007       24007  2022-11-03   \n",
              "24008       24008  2022-11-03   \n",
              "24009       24009  2022-11-03   \n",
              "24010       24010  2022-11-03   \n",
              "24011       24011  2022-11-03   \n",
              "\n",
              "                                                   tweet  \n",
              "0                     ak47 imrankhan firing ptilongmarch  \n",
              "1               black day for pakistan firing imrankhan   \n",
              "2      imran khan himself has created this drama to e...  \n",
              "3      shooter details name general qamar javed bajwa...  \n",
              "4      only army bajwas bastards are behind him fuck ...  \n",
              "...                                                  ...  \n",
              "24007  wondering about firing incident on pti dharna ...  \n",
              "24008  will rana sanaullah be accountable for what he...  \n",
              "24009   abay aur firing papian dene ke liye karte hai...  \n",
              "24010                               firing coas genbajwa  \n",
              "24011  saw the devastated news i hope hes safe and ev...  \n",
              "\n",
              "[24012 rows x 3 columns]"
            ],
            "text/html": [
              "\n",
              "  <div id=\"df-466784b5-fe86-485f-8a05-2ac083089c09\">\n",
              "    <div class=\"colab-df-container\">\n",
              "      <div>\n",
              "<style scoped>\n",
              "    .dataframe tbody tr th:only-of-type {\n",
              "        vertical-align: middle;\n",
              "    }\n",
              "\n",
              "    .dataframe tbody tr th {\n",
              "        vertical-align: top;\n",
              "    }\n",
              "\n",
              "    .dataframe thead th {\n",
              "        text-align: right;\n",
              "    }\n",
              "</style>\n",
              "<table border=\"1\" class=\"dataframe\">\n",
              "  <thead>\n",
              "    <tr style=\"text-align: right;\">\n",
              "      <th></th>\n",
              "      <th>Unnamed: 0</th>\n",
              "      <th>date</th>\n",
              "      <th>tweet</th>\n",
              "    </tr>\n",
              "  </thead>\n",
              "  <tbody>\n",
              "    <tr>\n",
              "      <th>0</th>\n",
              "      <td>0</td>\n",
              "      <td>2022-11-03</td>\n",
              "      <td>ak47 imrankhan firing ptilongmarch</td>\n",
              "    </tr>\n",
              "    <tr>\n",
              "      <th>1</th>\n",
              "      <td>1</td>\n",
              "      <td>2022-11-03</td>\n",
              "      <td>black day for pakistan firing imrankhan</td>\n",
              "    </tr>\n",
              "    <tr>\n",
              "      <th>2</th>\n",
              "      <td>2</td>\n",
              "      <td>2022-11-03</td>\n",
              "      <td>imran khan himself has created this drama to e...</td>\n",
              "    </tr>\n",
              "    <tr>\n",
              "      <th>3</th>\n",
              "      <td>3</td>\n",
              "      <td>2022-11-03</td>\n",
              "      <td>shooter details name general qamar javed bajwa...</td>\n",
              "    </tr>\n",
              "    <tr>\n",
              "      <th>4</th>\n",
              "      <td>4</td>\n",
              "      <td>2022-11-03</td>\n",
              "      <td>only army bajwas bastards are behind him fuck ...</td>\n",
              "    </tr>\n",
              "    <tr>\n",
              "      <th>...</th>\n",
              "      <td>...</td>\n",
              "      <td>...</td>\n",
              "      <td>...</td>\n",
              "    </tr>\n",
              "    <tr>\n",
              "      <th>24007</th>\n",
              "      <td>24007</td>\n",
              "      <td>2022-11-03</td>\n",
              "      <td>wondering about firing incident on pti dharna ...</td>\n",
              "    </tr>\n",
              "    <tr>\n",
              "      <th>24008</th>\n",
              "      <td>24008</td>\n",
              "      <td>2022-11-03</td>\n",
              "      <td>will rana sanaullah be accountable for what he...</td>\n",
              "    </tr>\n",
              "    <tr>\n",
              "      <th>24009</th>\n",
              "      <td>24009</td>\n",
              "      <td>2022-11-03</td>\n",
              "      <td>abay aur firing papian dene ke liye karte hai...</td>\n",
              "    </tr>\n",
              "    <tr>\n",
              "      <th>24010</th>\n",
              "      <td>24010</td>\n",
              "      <td>2022-11-03</td>\n",
              "      <td>firing coas genbajwa</td>\n",
              "    </tr>\n",
              "    <tr>\n",
              "      <th>24011</th>\n",
              "      <td>24011</td>\n",
              "      <td>2022-11-03</td>\n",
              "      <td>saw the devastated news i hope hes safe and ev...</td>\n",
              "    </tr>\n",
              "  </tbody>\n",
              "</table>\n",
              "<p>24012 rows × 3 columns</p>\n",
              "</div>\n",
              "      <button class=\"colab-df-convert\" onclick=\"convertToInteractive('df-466784b5-fe86-485f-8a05-2ac083089c09')\"\n",
              "              title=\"Convert this dataframe to an interactive table.\"\n",
              "              style=\"display:none;\">\n",
              "        \n",
              "  <svg xmlns=\"http://www.w3.org/2000/svg\" height=\"24px\"viewBox=\"0 0 24 24\"\n",
              "       width=\"24px\">\n",
              "    <path d=\"M0 0h24v24H0V0z\" fill=\"none\"/>\n",
              "    <path d=\"M18.56 5.44l.94 2.06.94-2.06 2.06-.94-2.06-.94-.94-2.06-.94 2.06-2.06.94zm-11 1L8.5 8.5l.94-2.06 2.06-.94-2.06-.94L8.5 2.5l-.94 2.06-2.06.94zm10 10l.94 2.06.94-2.06 2.06-.94-2.06-.94-.94-2.06-.94 2.06-2.06.94z\"/><path d=\"M17.41 7.96l-1.37-1.37c-.4-.4-.92-.59-1.43-.59-.52 0-1.04.2-1.43.59L10.3 9.45l-7.72 7.72c-.78.78-.78 2.05 0 2.83L4 21.41c.39.39.9.59 1.41.59.51 0 1.02-.2 1.41-.59l7.78-7.78 2.81-2.81c.8-.78.8-2.07 0-2.86zM5.41 20L4 18.59l7.72-7.72 1.47 1.35L5.41 20z\"/>\n",
              "  </svg>\n",
              "      </button>\n",
              "      \n",
              "  <style>\n",
              "    .colab-df-container {\n",
              "      display:flex;\n",
              "      flex-wrap:wrap;\n",
              "      gap: 12px;\n",
              "    }\n",
              "\n",
              "    .colab-df-convert {\n",
              "      background-color: #E8F0FE;\n",
              "      border: none;\n",
              "      border-radius: 50%;\n",
              "      cursor: pointer;\n",
              "      display: none;\n",
              "      fill: #1967D2;\n",
              "      height: 32px;\n",
              "      padding: 0 0 0 0;\n",
              "      width: 32px;\n",
              "    }\n",
              "\n",
              "    .colab-df-convert:hover {\n",
              "      background-color: #E2EBFA;\n",
              "      box-shadow: 0px 1px 2px rgba(60, 64, 67, 0.3), 0px 1px 3px 1px rgba(60, 64, 67, 0.15);\n",
              "      fill: #174EA6;\n",
              "    }\n",
              "\n",
              "    [theme=dark] .colab-df-convert {\n",
              "      background-color: #3B4455;\n",
              "      fill: #D2E3FC;\n",
              "    }\n",
              "\n",
              "    [theme=dark] .colab-df-convert:hover {\n",
              "      background-color: #434B5C;\n",
              "      box-shadow: 0px 1px 3px 1px rgba(0, 0, 0, 0.15);\n",
              "      filter: drop-shadow(0px 1px 2px rgba(0, 0, 0, 0.3));\n",
              "      fill: #FFFFFF;\n",
              "    }\n",
              "  </style>\n",
              "\n",
              "      <script>\n",
              "        const buttonEl =\n",
              "          document.querySelector('#df-466784b5-fe86-485f-8a05-2ac083089c09 button.colab-df-convert');\n",
              "        buttonEl.style.display =\n",
              "          google.colab.kernel.accessAllowed ? 'block' : 'none';\n",
              "\n",
              "        async function convertToInteractive(key) {\n",
              "          const element = document.querySelector('#df-466784b5-fe86-485f-8a05-2ac083089c09');\n",
              "          const dataTable =\n",
              "            await google.colab.kernel.invokeFunction('convertToInteractive',\n",
              "                                                     [key], {});\n",
              "          if (!dataTable) return;\n",
              "\n",
              "          const docLinkHtml = 'Like what you see? Visit the ' +\n",
              "            '<a target=\"_blank\" href=https://colab.research.google.com/notebooks/data_table.ipynb>data table notebook</a>'\n",
              "            + ' to learn more about interactive tables.';\n",
              "          element.innerHTML = '';\n",
              "          dataTable['output_type'] = 'display_data';\n",
              "          await google.colab.output.renderOutput(dataTable, element);\n",
              "          const docLink = document.createElement('div');\n",
              "          docLink.innerHTML = docLinkHtml;\n",
              "          element.appendChild(docLink);\n",
              "        }\n",
              "      </script>\n",
              "    </div>\n",
              "  </div>\n",
              "  "
            ]
          },
          "metadata": {},
          "execution_count": 45
        }
      ]
    },
    {
      "cell_type": "code",
      "source": [
        "# Duplicate tweet count\n",
        "duplicate_count = len(df['tweet'])-len(df['tweet'].drop_duplicates())\n",
        "print('duplicate count:', duplicate_count)\n",
        "print('total records before remove duplicates:', df.shape[0])"
      ],
      "metadata": {
        "colab": {
          "base_uri": "https://localhost:8080/"
        },
        "id": "FP4YhD7H0w9y",
        "outputId": "589763a8-663b-45f2-fe82-fefa521d3b66"
      },
      "execution_count": 46,
      "outputs": [
        {
          "output_type": "stream",
          "name": "stdout",
          "text": [
            "duplicate count: 15244\n",
            "total records before remove duplicates: 24012\n"
          ]
        }
      ]
    },
    {
      "cell_type": "code",
      "source": [
        "# Drop duplicates (keeping the last tweet of each of the duplicates)\n",
        "df_Coles = df.drop_duplicates(subset='tweet', keep=\"last\")\n",
        "print('updated record count:', df.shape[0])"
      ],
      "metadata": {
        "colab": {
          "base_uri": "https://localhost:8080/"
        },
        "id": "ND-OsdS20_TT",
        "outputId": "93a1455e-c00f-4731-af8e-b4258c341841"
      },
      "execution_count": 47,
      "outputs": [
        {
          "output_type": "stream",
          "name": "stdout",
          "text": [
            "updated record count: 24012\n"
          ]
        }
      ]
    },
    {
      "cell_type": "code",
      "source": [
        "# Removing punctuatuions\n",
        "df['tweet'] = df['tweet'].str.replace(r'[^\\w\\s]','')  # This is the use of regular expressions.\n",
        "df.head(30000)"
      ],
      "metadata": {
        "colab": {
          "base_uri": "https://localhost:8080/",
          "height": 480
        },
        "id": "aEiO8Rxf1IT7",
        "outputId": "fcf4f73e-59fe-40af-c43c-710d942b4615"
      },
      "execution_count": 48,
      "outputs": [
        {
          "output_type": "stream",
          "name": "stderr",
          "text": [
            "/usr/local/lib/python3.7/dist-packages/ipykernel_launcher.py:2: FutureWarning: The default value of regex will change from True to False in a future version.\n",
            "  \n"
          ]
        },
        {
          "output_type": "execute_result",
          "data": {
            "text/plain": [
              "       Unnamed: 0        date  \\\n",
              "0               0  2022-11-03   \n",
              "1               1  2022-11-03   \n",
              "2               2  2022-11-03   \n",
              "3               3  2022-11-03   \n",
              "4               4  2022-11-03   \n",
              "...           ...         ...   \n",
              "24007       24007  2022-11-03   \n",
              "24008       24008  2022-11-03   \n",
              "24009       24009  2022-11-03   \n",
              "24010       24010  2022-11-03   \n",
              "24011       24011  2022-11-03   \n",
              "\n",
              "                                                   tweet  \n",
              "0                     ak47 imrankhan firing ptilongmarch  \n",
              "1               black day for pakistan firing imrankhan   \n",
              "2      imran khan himself has created this drama to e...  \n",
              "3      shooter details name general qamar javed bajwa...  \n",
              "4      only army bajwas bastards are behind him fuck ...  \n",
              "...                                                  ...  \n",
              "24007  wondering about firing incident on pti dharna ...  \n",
              "24008  will rana sanaullah be accountable for what he...  \n",
              "24009   abay aur firing papian dene ke liye karte hai...  \n",
              "24010                               firing coas genbajwa  \n",
              "24011  saw the devastated news i hope hes safe and ev...  \n",
              "\n",
              "[24012 rows x 3 columns]"
            ],
            "text/html": [
              "\n",
              "  <div id=\"df-5cb4c08d-b4c1-44f5-9487-58f01b72a961\">\n",
              "    <div class=\"colab-df-container\">\n",
              "      <div>\n",
              "<style scoped>\n",
              "    .dataframe tbody tr th:only-of-type {\n",
              "        vertical-align: middle;\n",
              "    }\n",
              "\n",
              "    .dataframe tbody tr th {\n",
              "        vertical-align: top;\n",
              "    }\n",
              "\n",
              "    .dataframe thead th {\n",
              "        text-align: right;\n",
              "    }\n",
              "</style>\n",
              "<table border=\"1\" class=\"dataframe\">\n",
              "  <thead>\n",
              "    <tr style=\"text-align: right;\">\n",
              "      <th></th>\n",
              "      <th>Unnamed: 0</th>\n",
              "      <th>date</th>\n",
              "      <th>tweet</th>\n",
              "    </tr>\n",
              "  </thead>\n",
              "  <tbody>\n",
              "    <tr>\n",
              "      <th>0</th>\n",
              "      <td>0</td>\n",
              "      <td>2022-11-03</td>\n",
              "      <td>ak47 imrankhan firing ptilongmarch</td>\n",
              "    </tr>\n",
              "    <tr>\n",
              "      <th>1</th>\n",
              "      <td>1</td>\n",
              "      <td>2022-11-03</td>\n",
              "      <td>black day for pakistan firing imrankhan</td>\n",
              "    </tr>\n",
              "    <tr>\n",
              "      <th>2</th>\n",
              "      <td>2</td>\n",
              "      <td>2022-11-03</td>\n",
              "      <td>imran khan himself has created this drama to e...</td>\n",
              "    </tr>\n",
              "    <tr>\n",
              "      <th>3</th>\n",
              "      <td>3</td>\n",
              "      <td>2022-11-03</td>\n",
              "      <td>shooter details name general qamar javed bajwa...</td>\n",
              "    </tr>\n",
              "    <tr>\n",
              "      <th>4</th>\n",
              "      <td>4</td>\n",
              "      <td>2022-11-03</td>\n",
              "      <td>only army bajwas bastards are behind him fuck ...</td>\n",
              "    </tr>\n",
              "    <tr>\n",
              "      <th>...</th>\n",
              "      <td>...</td>\n",
              "      <td>...</td>\n",
              "      <td>...</td>\n",
              "    </tr>\n",
              "    <tr>\n",
              "      <th>24007</th>\n",
              "      <td>24007</td>\n",
              "      <td>2022-11-03</td>\n",
              "      <td>wondering about firing incident on pti dharna ...</td>\n",
              "    </tr>\n",
              "    <tr>\n",
              "      <th>24008</th>\n",
              "      <td>24008</td>\n",
              "      <td>2022-11-03</td>\n",
              "      <td>will rana sanaullah be accountable for what he...</td>\n",
              "    </tr>\n",
              "    <tr>\n",
              "      <th>24009</th>\n",
              "      <td>24009</td>\n",
              "      <td>2022-11-03</td>\n",
              "      <td>abay aur firing papian dene ke liye karte hai...</td>\n",
              "    </tr>\n",
              "    <tr>\n",
              "      <th>24010</th>\n",
              "      <td>24010</td>\n",
              "      <td>2022-11-03</td>\n",
              "      <td>firing coas genbajwa</td>\n",
              "    </tr>\n",
              "    <tr>\n",
              "      <th>24011</th>\n",
              "      <td>24011</td>\n",
              "      <td>2022-11-03</td>\n",
              "      <td>saw the devastated news i hope hes safe and ev...</td>\n",
              "    </tr>\n",
              "  </tbody>\n",
              "</table>\n",
              "<p>24012 rows × 3 columns</p>\n",
              "</div>\n",
              "      <button class=\"colab-df-convert\" onclick=\"convertToInteractive('df-5cb4c08d-b4c1-44f5-9487-58f01b72a961')\"\n",
              "              title=\"Convert this dataframe to an interactive table.\"\n",
              "              style=\"display:none;\">\n",
              "        \n",
              "  <svg xmlns=\"http://www.w3.org/2000/svg\" height=\"24px\"viewBox=\"0 0 24 24\"\n",
              "       width=\"24px\">\n",
              "    <path d=\"M0 0h24v24H0V0z\" fill=\"none\"/>\n",
              "    <path d=\"M18.56 5.44l.94 2.06.94-2.06 2.06-.94-2.06-.94-.94-2.06-.94 2.06-2.06.94zm-11 1L8.5 8.5l.94-2.06 2.06-.94-2.06-.94L8.5 2.5l-.94 2.06-2.06.94zm10 10l.94 2.06.94-2.06 2.06-.94-2.06-.94-.94-2.06-.94 2.06-2.06.94z\"/><path d=\"M17.41 7.96l-1.37-1.37c-.4-.4-.92-.59-1.43-.59-.52 0-1.04.2-1.43.59L10.3 9.45l-7.72 7.72c-.78.78-.78 2.05 0 2.83L4 21.41c.39.39.9.59 1.41.59.51 0 1.02-.2 1.41-.59l7.78-7.78 2.81-2.81c.8-.78.8-2.07 0-2.86zM5.41 20L4 18.59l7.72-7.72 1.47 1.35L5.41 20z\"/>\n",
              "  </svg>\n",
              "      </button>\n",
              "      \n",
              "  <style>\n",
              "    .colab-df-container {\n",
              "      display:flex;\n",
              "      flex-wrap:wrap;\n",
              "      gap: 12px;\n",
              "    }\n",
              "\n",
              "    .colab-df-convert {\n",
              "      background-color: #E8F0FE;\n",
              "      border: none;\n",
              "      border-radius: 50%;\n",
              "      cursor: pointer;\n",
              "      display: none;\n",
              "      fill: #1967D2;\n",
              "      height: 32px;\n",
              "      padding: 0 0 0 0;\n",
              "      width: 32px;\n",
              "    }\n",
              "\n",
              "    .colab-df-convert:hover {\n",
              "      background-color: #E2EBFA;\n",
              "      box-shadow: 0px 1px 2px rgba(60, 64, 67, 0.3), 0px 1px 3px 1px rgba(60, 64, 67, 0.15);\n",
              "      fill: #174EA6;\n",
              "    }\n",
              "\n",
              "    [theme=dark] .colab-df-convert {\n",
              "      background-color: #3B4455;\n",
              "      fill: #D2E3FC;\n",
              "    }\n",
              "\n",
              "    [theme=dark] .colab-df-convert:hover {\n",
              "      background-color: #434B5C;\n",
              "      box-shadow: 0px 1px 3px 1px rgba(0, 0, 0, 0.15);\n",
              "      filter: drop-shadow(0px 1px 2px rgba(0, 0, 0, 0.3));\n",
              "      fill: #FFFFFF;\n",
              "    }\n",
              "  </style>\n",
              "\n",
              "      <script>\n",
              "        const buttonEl =\n",
              "          document.querySelector('#df-5cb4c08d-b4c1-44f5-9487-58f01b72a961 button.colab-df-convert');\n",
              "        buttonEl.style.display =\n",
              "          google.colab.kernel.accessAllowed ? 'block' : 'none';\n",
              "\n",
              "        async function convertToInteractive(key) {\n",
              "          const element = document.querySelector('#df-5cb4c08d-b4c1-44f5-9487-58f01b72a961');\n",
              "          const dataTable =\n",
              "            await google.colab.kernel.invokeFunction('convertToInteractive',\n",
              "                                                     [key], {});\n",
              "          if (!dataTable) return;\n",
              "\n",
              "          const docLinkHtml = 'Like what you see? Visit the ' +\n",
              "            '<a target=\"_blank\" href=https://colab.research.google.com/notebooks/data_table.ipynb>data table notebook</a>'\n",
              "            + ' to learn more about interactive tables.';\n",
              "          element.innerHTML = '';\n",
              "          dataTable['output_type'] = 'display_data';\n",
              "          await google.colab.output.renderOutput(dataTable, element);\n",
              "          const docLink = document.createElement('div');\n",
              "          docLink.innerHTML = docLinkHtml;\n",
              "          element.appendChild(docLink);\n",
              "        }\n",
              "      </script>\n",
              "    </div>\n",
              "  </div>\n",
              "  "
            ]
          },
          "metadata": {},
          "execution_count": 48
        }
      ]
    },
    {
      "cell_type": "code",
      "source": [
        "# Load NLTK library\n",
        "#Langauage processing libraries\n",
        "import nltk\n",
        "\n",
        "# Download the stopwords to the nltk library\n",
        "nltk.download('stopwords')\n",
        "\n",
        "# Load the stopwords\n",
        "from nltk.corpus import stopwords\n"
      ],
      "metadata": {
        "colab": {
          "base_uri": "https://localhost:8080/"
        },
        "id": "hlCzxFy11QOO",
        "outputId": "5b5e8700-b973-48ea-b80e-0b9552e612c0"
      },
      "execution_count": 49,
      "outputs": [
        {
          "output_type": "stream",
          "name": "stderr",
          "text": [
            "[nltk_data] Downloading package stopwords to /root/nltk_data...\n",
            "[nltk_data]   Package stopwords is already up-to-date!\n"
          ]
        }
      ]
    },
    {
      "cell_type": "code",
      "source": [
        "# get the list of all stopwords from the library (Language - 'en')\n",
        "stop = stopwords.words('english')\n",
        "print(stop)"
      ],
      "metadata": {
        "colab": {
          "base_uri": "https://localhost:8080/"
        },
        "id": "DaD6104o1WU9",
        "outputId": "05412174-2366-4421-922a-d448eff66638"
      },
      "execution_count": 50,
      "outputs": [
        {
          "output_type": "stream",
          "name": "stdout",
          "text": [
            "['i', 'me', 'my', 'myself', 'we', 'our', 'ours', 'ourselves', 'you', \"you're\", \"you've\", \"you'll\", \"you'd\", 'your', 'yours', 'yourself', 'yourselves', 'he', 'him', 'his', 'himself', 'she', \"she's\", 'her', 'hers', 'herself', 'it', \"it's\", 'its', 'itself', 'they', 'them', 'their', 'theirs', 'themselves', 'what', 'which', 'who', 'whom', 'this', 'that', \"that'll\", 'these', 'those', 'am', 'is', 'are', 'was', 'were', 'be', 'been', 'being', 'have', 'has', 'had', 'having', 'do', 'does', 'did', 'doing', 'a', 'an', 'the', 'and', 'but', 'if', 'or', 'because', 'as', 'until', 'while', 'of', 'at', 'by', 'for', 'with', 'about', 'against', 'between', 'into', 'through', 'during', 'before', 'after', 'above', 'below', 'to', 'from', 'up', 'down', 'in', 'out', 'on', 'off', 'over', 'under', 'again', 'further', 'then', 'once', 'here', 'there', 'when', 'where', 'why', 'how', 'all', 'any', 'both', 'each', 'few', 'more', 'most', 'other', 'some', 'such', 'no', 'nor', 'not', 'only', 'own', 'same', 'so', 'than', 'too', 'very', 's', 't', 'can', 'will', 'just', 'don', \"don't\", 'should', \"should've\", 'now', 'd', 'll', 'm', 'o', 're', 've', 'y', 'ain', 'aren', \"aren't\", 'couldn', \"couldn't\", 'didn', \"didn't\", 'doesn', \"doesn't\", 'hadn', \"hadn't\", 'hasn', \"hasn't\", 'haven', \"haven't\", 'isn', \"isn't\", 'ma', 'mightn', \"mightn't\", 'mustn', \"mustn't\", 'needn', \"needn't\", 'shan', \"shan't\", 'shouldn', \"shouldn't\", 'wasn', \"wasn't\", 'weren', \"weren't\", 'won', \"won't\", 'wouldn', \"wouldn't\"]\n"
          ]
        }
      ]
    },
    {
      "cell_type": "code",
      "source": [
        "stop.remove('not')\n",
        "print(stop)"
      ],
      "metadata": {
        "colab": {
          "base_uri": "https://localhost:8080/"
        },
        "id": "aHDiZeWn3idn",
        "outputId": "de988606-d4b2-4124-a4b7-45be7fbbebc8"
      },
      "execution_count": 51,
      "outputs": [
        {
          "output_type": "stream",
          "name": "stdout",
          "text": [
            "['i', 'me', 'my', 'myself', 'we', 'our', 'ours', 'ourselves', 'you', \"you're\", \"you've\", \"you'll\", \"you'd\", 'your', 'yours', 'yourself', 'yourselves', 'he', 'him', 'his', 'himself', 'she', \"she's\", 'her', 'hers', 'herself', 'it', \"it's\", 'its', 'itself', 'they', 'them', 'their', 'theirs', 'themselves', 'what', 'which', 'who', 'whom', 'this', 'that', \"that'll\", 'these', 'those', 'am', 'is', 'are', 'was', 'were', 'be', 'been', 'being', 'have', 'has', 'had', 'having', 'do', 'does', 'did', 'doing', 'a', 'an', 'the', 'and', 'but', 'if', 'or', 'because', 'as', 'until', 'while', 'of', 'at', 'by', 'for', 'with', 'about', 'against', 'between', 'into', 'through', 'during', 'before', 'after', 'above', 'below', 'to', 'from', 'up', 'down', 'in', 'out', 'on', 'off', 'over', 'under', 'again', 'further', 'then', 'once', 'here', 'there', 'when', 'where', 'why', 'how', 'all', 'any', 'both', 'each', 'few', 'more', 'most', 'other', 'some', 'such', 'no', 'nor', 'only', 'own', 'same', 'so', 'than', 'too', 'very', 's', 't', 'can', 'will', 'just', 'don', \"don't\", 'should', \"should've\", 'now', 'd', 'll', 'm', 'o', 're', 've', 'y', 'ain', 'aren', \"aren't\", 'couldn', \"couldn't\", 'didn', \"didn't\", 'doesn', \"doesn't\", 'hadn', \"hadn't\", 'hasn', \"hasn't\", 'haven', \"haven't\", 'isn', \"isn't\", 'ma', 'mightn', \"mightn't\", 'mustn', \"mustn't\", 'needn', \"needn't\", 'shan', \"shan't\", 'shouldn', \"shouldn't\", 'wasn', \"wasn't\", 'weren', \"weren't\", 'won', \"won't\", 'wouldn', \"wouldn't\"]\n"
          ]
        }
      ]
    },
    {
      "cell_type": "code",
      "source": [
        "# Removing the words in 'stop' list\n",
        "def remove_stop_words(tweet):\n",
        "  tokens = tweet.split()\n",
        "  stop_removed_tokens = [t for t in tokens if t not in stop]\n",
        "  convert_to_string = \" \".join(stop_removed_tokens)\n",
        "  return convert_to_string\n",
        "  \n",
        "df['tweet'] = df['tweet'].apply(remove_stop_words)\n",
        "df.head(30000)\n"
      ],
      "metadata": {
        "colab": {
          "base_uri": "https://localhost:8080/",
          "height": 423
        },
        "id": "6j-QrlLW1cai",
        "outputId": "49d132b8-1083-451c-c659-c0018f321b9d"
      },
      "execution_count": 53,
      "outputs": [
        {
          "output_type": "execute_result",
          "data": {
            "text/plain": [
              "       Unnamed: 0        date  \\\n",
              "0               0  2022-11-03   \n",
              "1               1  2022-11-03   \n",
              "2               2  2022-11-03   \n",
              "3               3  2022-11-03   \n",
              "4               4  2022-11-03   \n",
              "...           ...         ...   \n",
              "24007       24007  2022-11-03   \n",
              "24008       24008  2022-11-03   \n",
              "24009       24009  2022-11-03   \n",
              "24010       24010  2022-11-03   \n",
              "24011       24011  2022-11-03   \n",
              "\n",
              "                                                   tweet  \n",
              "0                     ak47 imrankhan firing ptilongmarch  \n",
              "1                    black day pakistan firing imrankhan  \n",
              "2      imran khan created drama end long march confid...  \n",
              "3      shooter details name general qamar javed bajwa...  \n",
              "4      army bajwas bastards behind fuck bajwa company...  \n",
              "...                                                  ...  \n",
              "24007  wondering firing incident pti dharna punjab go...  \n",
              "24008  rana sanaullah accountable said earlier would ...  \n",
              "24009  abay aur firing papian dene ke liye karte hain...  \n",
              "24010                               firing coas genbajwa  \n",
              "24011  saw devastated news hope hes safe everyone aro...  \n",
              "\n",
              "[24012 rows x 3 columns]"
            ],
            "text/html": [
              "\n",
              "  <div id=\"df-1b05d57f-035b-41f9-83f2-67722d5bd5a4\">\n",
              "    <div class=\"colab-df-container\">\n",
              "      <div>\n",
              "<style scoped>\n",
              "    .dataframe tbody tr th:only-of-type {\n",
              "        vertical-align: middle;\n",
              "    }\n",
              "\n",
              "    .dataframe tbody tr th {\n",
              "        vertical-align: top;\n",
              "    }\n",
              "\n",
              "    .dataframe thead th {\n",
              "        text-align: right;\n",
              "    }\n",
              "</style>\n",
              "<table border=\"1\" class=\"dataframe\">\n",
              "  <thead>\n",
              "    <tr style=\"text-align: right;\">\n",
              "      <th></th>\n",
              "      <th>Unnamed: 0</th>\n",
              "      <th>date</th>\n",
              "      <th>tweet</th>\n",
              "    </tr>\n",
              "  </thead>\n",
              "  <tbody>\n",
              "    <tr>\n",
              "      <th>0</th>\n",
              "      <td>0</td>\n",
              "      <td>2022-11-03</td>\n",
              "      <td>ak47 imrankhan firing ptilongmarch</td>\n",
              "    </tr>\n",
              "    <tr>\n",
              "      <th>1</th>\n",
              "      <td>1</td>\n",
              "      <td>2022-11-03</td>\n",
              "      <td>black day pakistan firing imrankhan</td>\n",
              "    </tr>\n",
              "    <tr>\n",
              "      <th>2</th>\n",
              "      <td>2</td>\n",
              "      <td>2022-11-03</td>\n",
              "      <td>imran khan created drama end long march confid...</td>\n",
              "    </tr>\n",
              "    <tr>\n",
              "      <th>3</th>\n",
              "      <td>3</td>\n",
              "      <td>2022-11-03</td>\n",
              "      <td>shooter details name general qamar javed bajwa...</td>\n",
              "    </tr>\n",
              "    <tr>\n",
              "      <th>4</th>\n",
              "      <td>4</td>\n",
              "      <td>2022-11-03</td>\n",
              "      <td>army bajwas bastards behind fuck bajwa company...</td>\n",
              "    </tr>\n",
              "    <tr>\n",
              "      <th>...</th>\n",
              "      <td>...</td>\n",
              "      <td>...</td>\n",
              "      <td>...</td>\n",
              "    </tr>\n",
              "    <tr>\n",
              "      <th>24007</th>\n",
              "      <td>24007</td>\n",
              "      <td>2022-11-03</td>\n",
              "      <td>wondering firing incident pti dharna punjab go...</td>\n",
              "    </tr>\n",
              "    <tr>\n",
              "      <th>24008</th>\n",
              "      <td>24008</td>\n",
              "      <td>2022-11-03</td>\n",
              "      <td>rana sanaullah accountable said earlier would ...</td>\n",
              "    </tr>\n",
              "    <tr>\n",
              "      <th>24009</th>\n",
              "      <td>24009</td>\n",
              "      <td>2022-11-03</td>\n",
              "      <td>abay aur firing papian dene ke liye karte hain...</td>\n",
              "    </tr>\n",
              "    <tr>\n",
              "      <th>24010</th>\n",
              "      <td>24010</td>\n",
              "      <td>2022-11-03</td>\n",
              "      <td>firing coas genbajwa</td>\n",
              "    </tr>\n",
              "    <tr>\n",
              "      <th>24011</th>\n",
              "      <td>24011</td>\n",
              "      <td>2022-11-03</td>\n",
              "      <td>saw devastated news hope hes safe everyone aro...</td>\n",
              "    </tr>\n",
              "  </tbody>\n",
              "</table>\n",
              "<p>24012 rows × 3 columns</p>\n",
              "</div>\n",
              "      <button class=\"colab-df-convert\" onclick=\"convertToInteractive('df-1b05d57f-035b-41f9-83f2-67722d5bd5a4')\"\n",
              "              title=\"Convert this dataframe to an interactive table.\"\n",
              "              style=\"display:none;\">\n",
              "        \n",
              "  <svg xmlns=\"http://www.w3.org/2000/svg\" height=\"24px\"viewBox=\"0 0 24 24\"\n",
              "       width=\"24px\">\n",
              "    <path d=\"M0 0h24v24H0V0z\" fill=\"none\"/>\n",
              "    <path d=\"M18.56 5.44l.94 2.06.94-2.06 2.06-.94-2.06-.94-.94-2.06-.94 2.06-2.06.94zm-11 1L8.5 8.5l.94-2.06 2.06-.94-2.06-.94L8.5 2.5l-.94 2.06-2.06.94zm10 10l.94 2.06.94-2.06 2.06-.94-2.06-.94-.94-2.06-.94 2.06-2.06.94z\"/><path d=\"M17.41 7.96l-1.37-1.37c-.4-.4-.92-.59-1.43-.59-.52 0-1.04.2-1.43.59L10.3 9.45l-7.72 7.72c-.78.78-.78 2.05 0 2.83L4 21.41c.39.39.9.59 1.41.59.51 0 1.02-.2 1.41-.59l7.78-7.78 2.81-2.81c.8-.78.8-2.07 0-2.86zM5.41 20L4 18.59l7.72-7.72 1.47 1.35L5.41 20z\"/>\n",
              "  </svg>\n",
              "      </button>\n",
              "      \n",
              "  <style>\n",
              "    .colab-df-container {\n",
              "      display:flex;\n",
              "      flex-wrap:wrap;\n",
              "      gap: 12px;\n",
              "    }\n",
              "\n",
              "    .colab-df-convert {\n",
              "      background-color: #E8F0FE;\n",
              "      border: none;\n",
              "      border-radius: 50%;\n",
              "      cursor: pointer;\n",
              "      display: none;\n",
              "      fill: #1967D2;\n",
              "      height: 32px;\n",
              "      padding: 0 0 0 0;\n",
              "      width: 32px;\n",
              "    }\n",
              "\n",
              "    .colab-df-convert:hover {\n",
              "      background-color: #E2EBFA;\n",
              "      box-shadow: 0px 1px 2px rgba(60, 64, 67, 0.3), 0px 1px 3px 1px rgba(60, 64, 67, 0.15);\n",
              "      fill: #174EA6;\n",
              "    }\n",
              "\n",
              "    [theme=dark] .colab-df-convert {\n",
              "      background-color: #3B4455;\n",
              "      fill: #D2E3FC;\n",
              "    }\n",
              "\n",
              "    [theme=dark] .colab-df-convert:hover {\n",
              "      background-color: #434B5C;\n",
              "      box-shadow: 0px 1px 3px 1px rgba(0, 0, 0, 0.15);\n",
              "      filter: drop-shadow(0px 1px 2px rgba(0, 0, 0, 0.3));\n",
              "      fill: #FFFFFF;\n",
              "    }\n",
              "  </style>\n",
              "\n",
              "      <script>\n",
              "        const buttonEl =\n",
              "          document.querySelector('#df-1b05d57f-035b-41f9-83f2-67722d5bd5a4 button.colab-df-convert');\n",
              "        buttonEl.style.display =\n",
              "          google.colab.kernel.accessAllowed ? 'block' : 'none';\n",
              "\n",
              "        async function convertToInteractive(key) {\n",
              "          const element = document.querySelector('#df-1b05d57f-035b-41f9-83f2-67722d5bd5a4');\n",
              "          const dataTable =\n",
              "            await google.colab.kernel.invokeFunction('convertToInteractive',\n",
              "                                                     [key], {});\n",
              "          if (!dataTable) return;\n",
              "\n",
              "          const docLinkHtml = 'Like what you see? Visit the ' +\n",
              "            '<a target=\"_blank\" href=https://colab.research.google.com/notebooks/data_table.ipynb>data table notebook</a>'\n",
              "            + ' to learn more about interactive tables.';\n",
              "          element.innerHTML = '';\n",
              "          dataTable['output_type'] = 'display_data';\n",
              "          await google.colab.output.renderOutput(dataTable, element);\n",
              "          const docLink = document.createElement('div');\n",
              "          docLink.innerHTML = docLinkHtml;\n",
              "          element.appendChild(docLink);\n",
              "        }\n",
              "      </script>\n",
              "    </div>\n",
              "  </div>\n",
              "  "
            ]
          },
          "metadata": {},
          "execution_count": 53
        }
      ]
    },
    {
      "cell_type": "code",
      "source": [
        "##Standardization of tweets using NLTK Library\n",
        "\n",
        "from nltk.stem import PorterStemmer\n",
        "\n",
        "stemmer = PorterStemmer()\n",
        "\n",
        "def stemming_function(sent):\n",
        "  word_list = sent.split()\n",
        "  stemmed_word_list = [stemmer.stem(word) for word in word_list]\n",
        "  stemmed_sentence = \" \".join(stemmed_word_list)\n",
        "  return stemmed_sentence\n",
        "\n",
        "df['tweet_stem'] = df['tweet'].apply(stemming_function)"
      ],
      "metadata": {
        "id": "ZB0DS2ub1l35"
      },
      "execution_count": 54,
      "outputs": []
    },
    {
      "cell_type": "code",
      "source": [
        "# Compare the content vs. stemmed content\n",
        "df[['tweet', 'tweet_stem']].head(25000)"
      ],
      "metadata": {
        "colab": {
          "base_uri": "https://localhost:8080/",
          "height": 423
        },
        "id": "xSnJmwut4YS7",
        "outputId": "75f4e371-2628-43c6-feb9-122bb968dea0"
      },
      "execution_count": 55,
      "outputs": [
        {
          "output_type": "execute_result",
          "data": {
            "text/plain": [
              "                                                   tweet  \\\n",
              "0                     ak47 imrankhan firing ptilongmarch   \n",
              "1                    black day pakistan firing imrankhan   \n",
              "2      imran khan created drama end long march confid...   \n",
              "3      shooter details name general qamar javed bajwa...   \n",
              "4      army bajwas bastards behind fuck bajwa company...   \n",
              "...                                                  ...   \n",
              "24007  wondering firing incident pti dharna punjab go...   \n",
              "24008  rana sanaullah accountable said earlier would ...   \n",
              "24009  abay aur firing papian dene ke liye karte hain...   \n",
              "24010                               firing coas genbajwa   \n",
              "24011  saw devastated news hope hes safe everyone aro...   \n",
              "\n",
              "                                              tweet_stem  \n",
              "0                       ak47 imrankhan fire ptilongmarch  \n",
              "1                      black day pakistan fire imrankhan  \n",
              "2      imran khan creat drama end long march confiden...  \n",
              "3      shooter detail name gener qamar jave bajwa arr...  \n",
              "4      armi bajwa bastard behind fuck bajwa compani i...  \n",
              "...                                                  ...  \n",
              "24007  wonder fire incid pti dharna punjab govtbelong...  \n",
              "24008  rana sanaullah account said earlier would go p...  \n",
              "24009  abay aur fire papian dene ke liy kart hain aje...  \n",
              "24010                                  fire coa genbajwa  \n",
              "24011  saw devast news hope he safe everyon around go...  \n",
              "\n",
              "[24012 rows x 2 columns]"
            ],
            "text/html": [
              "\n",
              "  <div id=\"df-6638abba-bf29-4038-b291-7ea2af150e73\">\n",
              "    <div class=\"colab-df-container\">\n",
              "      <div>\n",
              "<style scoped>\n",
              "    .dataframe tbody tr th:only-of-type {\n",
              "        vertical-align: middle;\n",
              "    }\n",
              "\n",
              "    .dataframe tbody tr th {\n",
              "        vertical-align: top;\n",
              "    }\n",
              "\n",
              "    .dataframe thead th {\n",
              "        text-align: right;\n",
              "    }\n",
              "</style>\n",
              "<table border=\"1\" class=\"dataframe\">\n",
              "  <thead>\n",
              "    <tr style=\"text-align: right;\">\n",
              "      <th></th>\n",
              "      <th>tweet</th>\n",
              "      <th>tweet_stem</th>\n",
              "    </tr>\n",
              "  </thead>\n",
              "  <tbody>\n",
              "    <tr>\n",
              "      <th>0</th>\n",
              "      <td>ak47 imrankhan firing ptilongmarch</td>\n",
              "      <td>ak47 imrankhan fire ptilongmarch</td>\n",
              "    </tr>\n",
              "    <tr>\n",
              "      <th>1</th>\n",
              "      <td>black day pakistan firing imrankhan</td>\n",
              "      <td>black day pakistan fire imrankhan</td>\n",
              "    </tr>\n",
              "    <tr>\n",
              "      <th>2</th>\n",
              "      <td>imran khan created drama end long march confid...</td>\n",
              "      <td>imran khan creat drama end long march confiden...</td>\n",
              "    </tr>\n",
              "    <tr>\n",
              "      <th>3</th>\n",
              "      <td>shooter details name general qamar javed bajwa...</td>\n",
              "      <td>shooter detail name gener qamar jave bajwa arr...</td>\n",
              "    </tr>\n",
              "    <tr>\n",
              "      <th>4</th>\n",
              "      <td>army bajwas bastards behind fuck bajwa company...</td>\n",
              "      <td>armi bajwa bastard behind fuck bajwa compani i...</td>\n",
              "    </tr>\n",
              "    <tr>\n",
              "      <th>...</th>\n",
              "      <td>...</td>\n",
              "      <td>...</td>\n",
              "    </tr>\n",
              "    <tr>\n",
              "      <th>24007</th>\n",
              "      <td>wondering firing incident pti dharna punjab go...</td>\n",
              "      <td>wonder fire incid pti dharna punjab govtbelong...</td>\n",
              "    </tr>\n",
              "    <tr>\n",
              "      <th>24008</th>\n",
              "      <td>rana sanaullah accountable said earlier would ...</td>\n",
              "      <td>rana sanaullah account said earlier would go p...</td>\n",
              "    </tr>\n",
              "    <tr>\n",
              "      <th>24009</th>\n",
              "      <td>abay aur firing papian dene ke liye karte hain...</td>\n",
              "      <td>abay aur fire papian dene ke liy kart hain aje...</td>\n",
              "    </tr>\n",
              "    <tr>\n",
              "      <th>24010</th>\n",
              "      <td>firing coas genbajwa</td>\n",
              "      <td>fire coa genbajwa</td>\n",
              "    </tr>\n",
              "    <tr>\n",
              "      <th>24011</th>\n",
              "      <td>saw devastated news hope hes safe everyone aro...</td>\n",
              "      <td>saw devast news hope he safe everyon around go...</td>\n",
              "    </tr>\n",
              "  </tbody>\n",
              "</table>\n",
              "<p>24012 rows × 2 columns</p>\n",
              "</div>\n",
              "      <button class=\"colab-df-convert\" onclick=\"convertToInteractive('df-6638abba-bf29-4038-b291-7ea2af150e73')\"\n",
              "              title=\"Convert this dataframe to an interactive table.\"\n",
              "              style=\"display:none;\">\n",
              "        \n",
              "  <svg xmlns=\"http://www.w3.org/2000/svg\" height=\"24px\"viewBox=\"0 0 24 24\"\n",
              "       width=\"24px\">\n",
              "    <path d=\"M0 0h24v24H0V0z\" fill=\"none\"/>\n",
              "    <path d=\"M18.56 5.44l.94 2.06.94-2.06 2.06-.94-2.06-.94-.94-2.06-.94 2.06-2.06.94zm-11 1L8.5 8.5l.94-2.06 2.06-.94-2.06-.94L8.5 2.5l-.94 2.06-2.06.94zm10 10l.94 2.06.94-2.06 2.06-.94-2.06-.94-.94-2.06-.94 2.06-2.06.94z\"/><path d=\"M17.41 7.96l-1.37-1.37c-.4-.4-.92-.59-1.43-.59-.52 0-1.04.2-1.43.59L10.3 9.45l-7.72 7.72c-.78.78-.78 2.05 0 2.83L4 21.41c.39.39.9.59 1.41.59.51 0 1.02-.2 1.41-.59l7.78-7.78 2.81-2.81c.8-.78.8-2.07 0-2.86zM5.41 20L4 18.59l7.72-7.72 1.47 1.35L5.41 20z\"/>\n",
              "  </svg>\n",
              "      </button>\n",
              "      \n",
              "  <style>\n",
              "    .colab-df-container {\n",
              "      display:flex;\n",
              "      flex-wrap:wrap;\n",
              "      gap: 12px;\n",
              "    }\n",
              "\n",
              "    .colab-df-convert {\n",
              "      background-color: #E8F0FE;\n",
              "      border: none;\n",
              "      border-radius: 50%;\n",
              "      cursor: pointer;\n",
              "      display: none;\n",
              "      fill: #1967D2;\n",
              "      height: 32px;\n",
              "      padding: 0 0 0 0;\n",
              "      width: 32px;\n",
              "    }\n",
              "\n",
              "    .colab-df-convert:hover {\n",
              "      background-color: #E2EBFA;\n",
              "      box-shadow: 0px 1px 2px rgba(60, 64, 67, 0.3), 0px 1px 3px 1px rgba(60, 64, 67, 0.15);\n",
              "      fill: #174EA6;\n",
              "    }\n",
              "\n",
              "    [theme=dark] .colab-df-convert {\n",
              "      background-color: #3B4455;\n",
              "      fill: #D2E3FC;\n",
              "    }\n",
              "\n",
              "    [theme=dark] .colab-df-convert:hover {\n",
              "      background-color: #434B5C;\n",
              "      box-shadow: 0px 1px 3px 1px rgba(0, 0, 0, 0.15);\n",
              "      filter: drop-shadow(0px 1px 2px rgba(0, 0, 0, 0.3));\n",
              "      fill: #FFFFFF;\n",
              "    }\n",
              "  </style>\n",
              "\n",
              "      <script>\n",
              "        const buttonEl =\n",
              "          document.querySelector('#df-6638abba-bf29-4038-b291-7ea2af150e73 button.colab-df-convert');\n",
              "        buttonEl.style.display =\n",
              "          google.colab.kernel.accessAllowed ? 'block' : 'none';\n",
              "\n",
              "        async function convertToInteractive(key) {\n",
              "          const element = document.querySelector('#df-6638abba-bf29-4038-b291-7ea2af150e73');\n",
              "          const dataTable =\n",
              "            await google.colab.kernel.invokeFunction('convertToInteractive',\n",
              "                                                     [key], {});\n",
              "          if (!dataTable) return;\n",
              "\n",
              "          const docLinkHtml = 'Like what you see? Visit the ' +\n",
              "            '<a target=\"_blank\" href=https://colab.research.google.com/notebooks/data_table.ipynb>data table notebook</a>'\n",
              "            + ' to learn more about interactive tables.';\n",
              "          element.innerHTML = '';\n",
              "          dataTable['output_type'] = 'display_data';\n",
              "          await google.colab.output.renderOutput(dataTable, element);\n",
              "          const docLink = document.createElement('div');\n",
              "          docLink.innerHTML = docLinkHtml;\n",
              "          element.appendChild(docLink);\n",
              "        }\n",
              "      </script>\n",
              "    </div>\n",
              "  </div>\n",
              "  "
            ]
          },
          "metadata": {},
          "execution_count": 55
        }
      ]
    },
    {
      "cell_type": "code",
      "source": [
        "##WORD FREQUENCY ANALYSIS\n",
        "\n",
        "# Creating a word frequency series\n",
        "#(This is a **pandas** series)\n",
        "word_frequency = pd.Series(' '.join(df['tweet']).split()).value_counts()"
      ],
      "metadata": {
        "id": "Fjt_nQ6q4fyt"
      },
      "execution_count": 57,
      "outputs": []
    },
    {
      "cell_type": "code",
      "source": [
        "# Display top 10 words\n",
        "word_frequency[:10]"
      ],
      "metadata": {
        "colab": {
          "base_uri": "https://localhost:8080/"
        },
        "id": "JRrb_KuS5B7Y",
        "outputId": "c4b89cdb-f260-4eeb-be98-f9aa3e1a670e"
      },
      "execution_count": 62,
      "outputs": [
        {
          "output_type": "execute_result",
          "data": {
            "text/plain": [
              "firing                 25015\n",
              "imrankhan               9933\n",
              "khan                    5134\n",
              "imran                   4887\n",
              "pakistan                2378\n",
              "imrankhanourredline     2133\n",
              "allah                   2107\n",
              "imrankhanlongmarch      2040\n",
              "imrankhanpti            1855\n",
              "pti                     1699\n",
              "dtype: int64"
            ]
          },
          "metadata": {},
          "execution_count": 62
        }
      ]
    },
    {
      "cell_type": "code",
      "source": [
        "# Visualizing the top 10 word counts \n",
        "\n",
        "word_count  = word_frequency\n",
        "word_count = word_count[:10,]\n",
        "plt.figure(figsize=(10,5))\n",
        "sns.barplot(word_count.index, word_count.values, alpha=0.8)\n",
        "plt.title('Top 100 Words in Tweets')\n",
        "plt.ylabel('Number of Occurrences', fontsize=12)\n",
        "plt.xlabel('Word', fontsize=12)\n",
        "plt.show()"
      ],
      "metadata": {
        "colab": {
          "base_uri": "https://localhost:8080/",
          "height": 409
        },
        "id": "gEVrDa4b5HrA",
        "outputId": "893035db-c352-4278-d12e-9aaaf26fd14e"
      },
      "execution_count": 63,
      "outputs": [
        {
          "output_type": "stream",
          "name": "stderr",
          "text": [
            "/usr/local/lib/python3.7/dist-packages/seaborn/_decorators.py:43: FutureWarning: Pass the following variables as keyword args: x, y. From version 0.12, the only valid positional argument will be `data`, and passing other arguments without an explicit keyword will result in an error or misinterpretation.\n",
            "  FutureWarning\n"
          ]
        },
        {
          "output_type": "display_data",
          "data": {
            "text/plain": [
              "<Figure size 720x360 with 1 Axes>"
            ],
            "image/png": "[encoded data removed]"
          },
          "metadata": {
            "needs_background": "light"
          }
        }
      ]
    },
    {
      "cell_type": "code",
      "source": [
        "from PIL import Image\n",
        "from wordcloud import WordCloud"
      ],
      "metadata": {
        "id": "0Lbr9pNg5TFE"
      },
      "execution_count": 64,
      "outputs": []
    },
    {
      "cell_type": "code",
      "source": [
        "#Visualizing text corpus\n",
        "corpus = list(df['tweet'])\n",
        "wordcloud = WordCloud(background_color='white', max_words=200, max_font_size=50, random_state=42).generate(str(corpus))\n",
        "\n",
        "fig = plt.figure(1)\n",
        "plt.imshow(wordcloud)\n",
        "plt.axis('off')\n",
        "plt.show()"
      ],
      "metadata": {
        "colab": {
          "base_uri": "https://localhost:8080/",
          "height": 198
        },
        "id": "DwgcEY_H5iSH",
        "outputId": "5a310e8b-1318-4ffe-cc41-3d88cf45b562"
      },
      "execution_count": 67,
      "outputs": [
        {
          "output_type": "display_data",
          "data": {
            "text/plain": [
              "<Figure size 432x288 with 1 Axes>"
            ],
            "image/png": "[encoded data removed]"
          },
          "metadata": {
            "needs_background": "light"
          }
        }
      ]
    },
    {
      "cell_type": "code",
      "source": [
        "##BIGRAMS\n",
        "\n",
        "#Extracting Bigrams from the tweet dataset\n",
        "#This function will generate most frequently occuring Bi-grams\n",
        "def get_ngrams(corpus, ngram_range=(2, 2)):\n",
        "    \n",
        "    # Create CountVectorizer object from sklearn library with bigrams\n",
        "    vec1 = CountVectorizer(ngram_range=ngram_range, max_features=2000).fit(corpus)\n",
        "\n",
        "    # Create BoW feature representation using word frequency\n",
        "    bag_of_words = vec1.transform(corpus)\n",
        "\n",
        "    # compute sum of words\n",
        "    sum_words = bag_of_words.sum(axis=0) \n",
        "\n",
        "    # create (word, frequency) tuples for bigrams\n",
        "    words_freq = [(word, sum_words[0, idx]) for word, idx in vec1.vocabulary_.items()]\n",
        "    words_freq =sorted(words_freq, key = lambda x: x[1], reverse=True)\n",
        "    return words_freq"
      ],
      "metadata": {
        "id": "5KWDghLT5qZE"
      },
      "execution_count": 68,
      "outputs": []
    },
    {
      "cell_type": "code",
      "source": [
        "bigrams_tweets = get_ngrams(df['tweet'].tolist(), ngram_range=(2, 2))"
      ],
      "metadata": {
        "id": "z62OJ8xi6GZ3"
      },
      "execution_count": 69,
      "outputs": []
    },
    {
      "cell_type": "code",
      "source": [
        "#Converting bigram to a dataframe with column names bi-gram and frequency.\n",
        "bigrams_tweets_df = pd.DataFrame(bigrams_tweets)\n",
        "bigrams_tweets_df.columns=[\"Bigrams\", \"Freqency\"]"
      ],
      "metadata": {
        "id": "jBF0WK_W6J-J"
      },
      "execution_count": 70,
      "outputs": []
    },
    {
      "cell_type": "code",
      "source": [
        "# Barplot of most freq Bi-grams\n",
        "top_bigrams_to_show = 20\n",
        "\n",
        "sns.set(rc={'figure.figsize':(13,8)})\n",
        "h=sns.barplot(x=\"Bigrams\", y=\"Freqency\", data=bigrams_tweets_df[:top_bigrams_to_show])\n",
        "h.set_xticklabels(h.get_xticklabels(), rotation=45)  # here rotation parameter shows the angle of your x-axis labels\n",
        "plt.title('Bigram Analysis')\n",
        "plt.show()"
      ],
      "metadata": {
        "colab": {
          "base_uri": "https://localhost:8080/",
          "height": 622
        },
        "id": "14213fpX6QEH",
        "outputId": "cd5ac243-d3f2-472e-ac5a-518d39329a29"
      },
      "execution_count": 73,
      "outputs": [
        {
          "output_type": "display_data",
          "data": {
            "text/plain": [
              "<Figure size 936x576 with 1 Axes>"
            ],
            "image/png": "[encoded data removed]"
          },
          "metadata": {}
        }
      ]
    },
    {
      "cell_type": "code",
      "source": [
        "# Trigrams\n",
        "#Most frequently occuring Tri-grams\n",
        "def get_trigrams(corpus):\n",
        "    vec1 = CountVectorizer(ngram_range=(3,3), max_features=2000).fit(corpus)\n",
        "    bag_of_words = vec1.transform(corpus)\n",
        "    sum_words = bag_of_words.sum(axis=0) \n",
        "    words_freq = [(word, sum_words[0, idx]) for word, idx in vec1.vocabulary_.items()]\n",
        "    words_freq =sorted(words_freq, key = lambda x: x[1], reverse=True)\n",
        "    return words_freq\n",
        "\n",
        "trigrams_tweets = get_ngrams(df['tweet'].tolist(), ngram_range=(3, 3))"
      ],
      "metadata": {
        "id": "BnnFAvmb6Xlz"
      },
      "execution_count": 74,
      "outputs": []
    },
    {
      "cell_type": "code",
      "source": [
        "#Converting tri-gram of dataset to a dataframe with column names tri-gram and frequency.\n",
        "trigrams_tweets_df = pd.DataFrame(trigrams_tweets)\n",
        "trigrams_tweets_df.columns=[\"Trigrams\", \"Freqency\"]"
      ],
      "metadata": {
        "id": "oUeRAjmE6uiS"
      },
      "execution_count": 75,
      "outputs": []
    },
    {
      "cell_type": "code",
      "source": [
        "# Barplot of most freq Tri-grams\n",
        "top_trigrams_to_show = 20\n",
        "\n",
        "sns.set(rc={'figure.figsize':(13,8)})\n",
        "h=sns.barplot(x=\"Trigrams\", y=\"Freqency\", data=trigrams_tweets_df[:top_trigrams_to_show])\n",
        "h.set_xticklabels(h.get_xticklabels(), rotation=90)\n",
        "plt.title('Trigram Analysis')\n",
        "plt.show()"
      ],
      "metadata": {
        "colab": {
          "base_uri": "https://localhost:8080/",
          "height": 667
        },
        "id": "zhw_-0R060Qx",
        "outputId": "a3bfcef2-629a-4395-98bf-69828cc5cd60"
      },
      "execution_count": 76,
      "outputs": [
        {
          "output_type": "display_data",
          "data": {
            "text/plain": [
              "<Figure size 936x576 with 1 Axes>"
            ],
            "image/png": "[encoded data removed]"
          },
          "metadata": {}
        }
      ]
    },
    {
      "cell_type": "code",
      "source": [
        "# Group the twitter dataset based on the date field and get the count per each day.\n",
        "df_date_wise = df.groupby(['date'])['tweet'].count().reset_index(name='tweet_count').set_index('date')\n",
        "\n",
        "#Display top n \n",
        "df_date_wise.head(5)"
      ],
      "metadata": {
        "colab": {
          "base_uri": "https://localhost:8080/",
          "height": 112
        },
        "id": "3Fh2KWvv653T",
        "outputId": "ed2f8401-a0fa-4683-c81f-42b1024e5b4c"
      },
      "execution_count": 78,
      "outputs": [
        {
          "output_type": "execute_result",
          "data": {
            "text/plain": [
              "            tweet_count\n",
              "date                   \n",
              "2022-11-03        24012"
            ],
            "text/html": [
              "\n",
              "  <div id=\"df-03c368ba-5e79-45f6-a937-a1235e49e320\">\n",
              "    <div class=\"colab-df-container\">\n",
              "      <div>\n",
              "<style scoped>\n",
              "    .dataframe tbody tr th:only-of-type {\n",
              "        vertical-align: middle;\n",
              "    }\n",
              "\n",
              "    .dataframe tbody tr th {\n",
              "        vertical-align: top;\n",
              "    }\n",
              "\n",
              "    .dataframe thead th {\n",
              "        text-align: right;\n",
              "    }\n",
              "</style>\n",
              "<table border=\"1\" class=\"dataframe\">\n",
              "  <thead>\n",
              "    <tr style=\"text-align: right;\">\n",
              "      <th></th>\n",
              "      <th>tweet_count</th>\n",
              "    </tr>\n",
              "    <tr>\n",
              "      <th>date</th>\n",
              "      <th></th>\n",
              "    </tr>\n",
              "  </thead>\n",
              "  <tbody>\n",
              "    <tr>\n",
              "      <th>2022-11-03</th>\n",
              "      <td>24012</td>\n",
              "    </tr>\n",
              "  </tbody>\n",
              "</table>\n",
              "</div>\n",
              "      <button class=\"colab-df-convert\" onclick=\"convertToInteractive('df-03c368ba-5e79-45f6-a937-a1235e49e320')\"\n",
              "              title=\"Convert this dataframe to an interactive table.\"\n",
              "              style=\"display:none;\">\n",
              "        \n",
              "  <svg xmlns=\"http://www.w3.org/2000/svg\" height=\"24px\"viewBox=\"0 0 24 24\"\n",
              "       width=\"24px\">\n",
              "    <path d=\"M0 0h24v24H0V0z\" fill=\"none\"/>\n",
              "    <path d=\"M18.56 5.44l.94 2.06.94-2.06 2.06-.94-2.06-.94-.94-2.06-.94 2.06-2.06.94zm-11 1L8.5 8.5l.94-2.06 2.06-.94-2.06-.94L8.5 2.5l-.94 2.06-2.06.94zm10 10l.94 2.06.94-2.06 2.06-.94-2.06-.94-.94-2.06-.94 2.06-2.06.94z\"/><path d=\"M17.41 7.96l-1.37-1.37c-.4-.4-.92-.59-1.43-.59-.52 0-1.04.2-1.43.59L10.3 9.45l-7.72 7.72c-.78.78-.78 2.05 0 2.83L4 21.41c.39.39.9.59 1.41.59.51 0 1.02-.2 1.41-.59l7.78-7.78 2.81-2.81c.8-.78.8-2.07 0-2.86zM5.41 20L4 18.59l7.72-7.72 1.47 1.35L5.41 20z\"/>\n",
              "  </svg>\n",
              "      </button>\n",
              "      \n",
              "  <style>\n",
              "    .colab-df-container {\n",
              "      display:flex;\n",
              "      flex-wrap:wrap;\n",
              "      gap: 12px;\n",
              "    }\n",
              "\n",
              "    .colab-df-convert {\n",
              "      background-color: #E8F0FE;\n",
              "      border: none;\n",
              "      border-radius: 50%;\n",
              "      cursor: pointer;\n",
              "      display: none;\n",
              "      fill: #1967D2;\n",
              "      height: 32px;\n",
              "      padding: 0 0 0 0;\n",
              "      width: 32px;\n",
              "    }\n",
              "\n",
              "    .colab-df-convert:hover {\n",
              "      background-color: #E2EBFA;\n",
              "      box-shadow: 0px 1px 2px rgba(60, 64, 67, 0.3), 0px 1px 3px 1px rgba(60, 64, 67, 0.15);\n",
              "      fill: #174EA6;\n",
              "    }\n",
              "\n",
              "    [theme=dark] .colab-df-convert {\n",
              "      background-color: #3B4455;\n",
              "      fill: #D2E3FC;\n",
              "    }\n",
              "\n",
              "    [theme=dark] .colab-df-convert:hover {\n",
              "      background-color: #434B5C;\n",
              "      box-shadow: 0px 1px 3px 1px rgba(0, 0, 0, 0.15);\n",
              "      filter: drop-shadow(0px 1px 2px rgba(0, 0, 0, 0.3));\n",
              "      fill: #FFFFFF;\n",
              "    }\n",
              "  </style>\n",
              "\n",
              "      <script>\n",
              "        const buttonEl =\n",
              "          document.querySelector('#df-03c368ba-5e79-45f6-a937-a1235e49e320 button.colab-df-convert');\n",
              "        buttonEl.style.display =\n",
              "          google.colab.kernel.accessAllowed ? 'block' : 'none';\n",
              "\n",
              "        async function convertToInteractive(key) {\n",
              "          const element = document.querySelector('#df-03c368ba-5e79-45f6-a937-a1235e49e320');\n",
              "          const dataTable =\n",
              "            await google.colab.kernel.invokeFunction('convertToInteractive',\n",
              "                                                     [key], {});\n",
              "          if (!dataTable) return;\n",
              "\n",
              "          const docLinkHtml = 'Like what you see? Visit the ' +\n",
              "            '<a target=\"_blank\" href=https://colab.research.google.com/notebooks/data_table.ipynb>data table notebook</a>'\n",
              "            + ' to learn more about interactive tables.';\n",
              "          element.innerHTML = '';\n",
              "          dataTable['output_type'] = 'display_data';\n",
              "          await google.colab.output.renderOutput(dataTable, element);\n",
              "          const docLink = document.createElement('div');\n",
              "          docLink.innerHTML = docLinkHtml;\n",
              "          element.appendChild(docLink);\n",
              "        }\n",
              "      </script>\n",
              "    </div>\n",
              "  </div>\n",
              "  "
            ]
          },
          "metadata": {},
          "execution_count": 78
        }
      ]
    },
    {
      "cell_type": "code",
      "source": [
        "#Text Blob (Data Labeling)\n",
        "\n",
        "def getSubjectivity(twt):\n",
        "  return TextBlob(twt).sentiment.subjectivity\n",
        "\n",
        "def getPolarity(twt):\n",
        "  return TextBlob(twt).sentiment.polarity\n",
        "\n",
        "#creating two columns subjectivity and polarity\n",
        "\n",
        "df['Subjectivity'] = df['tweet'].apply(getSubjectivity)\n",
        "df['Polarity'] = df['tweet'].apply(getPolarity)\n",
        "\n",
        "df.head(25000)"
      ],
      "metadata": {
        "colab": {
          "base_uri": "https://localhost:8080/",
          "height": 658
        },
        "id": "SX9kDFeh7ZhP",
        "outputId": "cd6353c9-b70f-4236-ba4c-1a41bc6facf0"
      },
      "execution_count": 83,
      "outputs": [
        {
          "output_type": "execute_result",
          "data": {
            "text/plain": [
              "       Unnamed: 0        date  \\\n",
              "0               0  2022-11-03   \n",
              "1               1  2022-11-03   \n",
              "2               2  2022-11-03   \n",
              "3               3  2022-11-03   \n",
              "4               4  2022-11-03   \n",
              "...           ...         ...   \n",
              "24007       24007  2022-11-03   \n",
              "24008       24008  2022-11-03   \n",
              "24009       24009  2022-11-03   \n",
              "24010       24010  2022-11-03   \n",
              "24011       24011  2022-11-03   \n",
              "\n",
              "                                                   tweet  \\\n",
              "0                     ak47 imrankhan firing ptilongmarch   \n",
              "1                    black day pakistan firing imrankhan   \n",
              "2      imran khan created drama end long march confid...   \n",
              "3      shooter details name general qamar javed bajwa...   \n",
              "4      army bajwas bastards behind fuck bajwa company...   \n",
              "...                                                  ...   \n",
              "24007  wondering firing incident pti dharna punjab go...   \n",
              "24008  rana sanaullah accountable said earlier would ...   \n",
              "24009  abay aur firing papian dene ke liye karte hain...   \n",
              "24010                               firing coas genbajwa   \n",
              "24011  saw devastated news hope hes safe everyone aro...   \n",
              "\n",
              "                                              tweet_stem  sentiment  \\\n",
              "0                       ak47 imrankhan fire ptilongmarch   0.000000   \n",
              "1                      black day pakistan fire imrankhan  -0.166667   \n",
              "2      imran khan creat drama end long march confiden...  -0.050000   \n",
              "3      shooter detail name gener qamar jave bajwa arr...  -0.025000   \n",
              "4      armi bajwa bastard behind fuck bajwa compani i...  -0.400000   \n",
              "...                                                  ...        ...   \n",
              "24007  wonder fire incid pti dharna punjab govtbelong...   0.000000   \n",
              "24008  rana sanaullah account said earlier would go p...   0.000000   \n",
              "24009  abay aur fire papian dene ke liy kart hain aje...   0.000000   \n",
              "24010                                  fire coa genbajwa   0.000000   \n",
              "24011  saw devast news hope he safe everyon around go...   0.366667   \n",
              "\n",
              "       Subjectivity  Polarity  \n",
              "0          0.000000  0.000000  \n",
              "1          0.433333 -0.166667  \n",
              "2          0.400000 -0.050000  \n",
              "3          0.500000 -0.025000  \n",
              "4          0.650000 -0.400000  \n",
              "...             ...       ...  \n",
              "24007      0.000000  0.000000  \n",
              "24008      0.241667  0.000000  \n",
              "24009      0.000000  0.000000  \n",
              "24010      0.000000  0.000000  \n",
              "24011      0.500000  0.366667  \n",
              "\n",
              "[24012 rows x 7 columns]"
            ],
            "text/html": [
              "\n",
              "  <div id=\"df-b672012a-9aeb-4ecf-b1f6-ddfcab9338c9\">\n",
              "    <div class=\"colab-df-container\">\n",
              "      <div>\n",
              "<style scoped>\n",
              "    .dataframe tbody tr th:only-of-type {\n",
              "        vertical-align: middle;\n",
              "    }\n",
              "\n",
              "    .dataframe tbody tr th {\n",
              "        vertical-align: top;\n",
              "    }\n",
              "\n",
              "    .dataframe thead th {\n",
              "        text-align: right;\n",
              "    }\n",
              "</style>\n",
              "<table border=\"1\" class=\"dataframe\">\n",
              "  <thead>\n",
              "    <tr style=\"text-align: right;\">\n",
              "      <th></th>\n",
              "      <th>Unnamed: 0</th>\n",
              "      <th>date</th>\n",
              "      <th>tweet</th>\n",
              "      <th>tweet_stem</th>\n",
              "      <th>sentiment</th>\n",
              "      <th>Subjectivity</th>\n",
              "      <th>Polarity</th>\n",
              "    </tr>\n",
              "  </thead>\n",
              "  <tbody>\n",
              "    <tr>\n",
              "      <th>0</th>\n",
              "      <td>0</td>\n",
              "      <td>2022-11-03</td>\n",
              "      <td>ak47 imrankhan firing ptilongmarch</td>\n",
              "      <td>ak47 imrankhan fire ptilongmarch</td>\n",
              "      <td>0.000000</td>\n",
              "      <td>0.000000</td>\n",
              "      <td>0.000000</td>\n",
              "    </tr>\n",
              "    <tr>\n",
              "      <th>1</th>\n",
              "      <td>1</td>\n",
              "      <td>2022-11-03</td>\n",
              "      <td>black day pakistan firing imrankhan</td>\n",
              "      <td>black day pakistan fire imrankhan</td>\n",
              "      <td>-0.166667</td>\n",
              "      <td>0.433333</td>\n",
              "      <td>-0.166667</td>\n",
              "    </tr>\n",
              "    <tr>\n",
              "      <th>2</th>\n",
              "      <td>2</td>\n",
              "      <td>2022-11-03</td>\n",
              "      <td>imran khan created drama end long march confid...</td>\n",
              "      <td>imran khan creat drama end long march confiden...</td>\n",
              "      <td>-0.050000</td>\n",
              "      <td>0.400000</td>\n",
              "      <td>-0.050000</td>\n",
              "    </tr>\n",
              "    <tr>\n",
              "      <th>3</th>\n",
              "      <td>3</td>\n",
              "      <td>2022-11-03</td>\n",
              "      <td>shooter details name general qamar javed bajwa...</td>\n",
              "      <td>shooter detail name gener qamar jave bajwa arr...</td>\n",
              "      <td>-0.025000</td>\n",
              "      <td>0.500000</td>\n",
              "      <td>-0.025000</td>\n",
              "    </tr>\n",
              "    <tr>\n",
              "      <th>4</th>\n",
              "      <td>4</td>\n",
              "      <td>2022-11-03</td>\n",
              "      <td>army bajwas bastards behind fuck bajwa company...</td>\n",
              "      <td>armi bajwa bastard behind fuck bajwa compani i...</td>\n",
              "      <td>-0.400000</td>\n",
              "      <td>0.650000</td>\n",
              "      <td>-0.400000</td>\n",
              "    </tr>\n",
              "    <tr>\n",
              "      <th>...</th>\n",
              "      <td>...</td>\n",
              "      <td>...</td>\n",
              "      <td>...</td>\n",
              "      <td>...</td>\n",
              "      <td>...</td>\n",
              "      <td>...</td>\n",
              "      <td>...</td>\n",
              "    </tr>\n",
              "    <tr>\n",
              "      <th>24007</th>\n",
              "      <td>24007</td>\n",
              "      <td>2022-11-03</td>\n",
              "      <td>wondering firing incident pti dharna punjab go...</td>\n",
              "      <td>wonder fire incid pti dharna punjab govtbelong...</td>\n",
              "      <td>0.000000</td>\n",
              "      <td>0.000000</td>\n",
              "      <td>0.000000</td>\n",
              "    </tr>\n",
              "    <tr>\n",
              "      <th>24008</th>\n",
              "      <td>24008</td>\n",
              "      <td>2022-11-03</td>\n",
              "      <td>rana sanaullah accountable said earlier would ...</td>\n",
              "      <td>rana sanaullah account said earlier would go p...</td>\n",
              "      <td>0.000000</td>\n",
              "      <td>0.241667</td>\n",
              "      <td>0.000000</td>\n",
              "    </tr>\n",
              "    <tr>\n",
              "      <th>24009</th>\n",
              "      <td>24009</td>\n",
              "      <td>2022-11-03</td>\n",
              "      <td>abay aur firing papian dene ke liye karte hain...</td>\n",
              "      <td>abay aur fire papian dene ke liy kart hain aje...</td>\n",
              "      <td>0.000000</td>\n",
              "      <td>0.000000</td>\n",
              "      <td>0.000000</td>\n",
              "    </tr>\n",
              "    <tr>\n",
              "      <th>24010</th>\n",
              "      <td>24010</td>\n",
              "      <td>2022-11-03</td>\n",
              "      <td>firing coas genbajwa</td>\n",
              "      <td>fire coa genbajwa</td>\n",
              "      <td>0.000000</td>\n",
              "      <td>0.000000</td>\n",
              "      <td>0.000000</td>\n",
              "    </tr>\n",
              "    <tr>\n",
              "      <th>24011</th>\n",
              "      <td>24011</td>\n",
              "      <td>2022-11-03</td>\n",
              "      <td>saw devastated news hope hes safe everyone aro...</td>\n",
              "      <td>saw devast news hope he safe everyon around go...</td>\n",
              "      <td>0.366667</td>\n",
              "      <td>0.500000</td>\n",
              "      <td>0.366667</td>\n",
              "    </tr>\n",
              "  </tbody>\n",
              "</table>\n",
              "<p>24012 rows × 7 columns</p>\n",
              "</div>\n",
              "      <button class=\"colab-df-convert\" onclick=\"convertToInteractive('df-b672012a-9aeb-4ecf-b1f6-ddfcab9338c9')\"\n",
              "              title=\"Convert this dataframe to an interactive table.\"\n",
              "              style=\"display:none;\">\n",
              "        \n",
              "  <svg xmlns=\"http://www.w3.org/2000/svg\" height=\"24px\"viewBox=\"0 0 24 24\"\n",
              "       width=\"24px\">\n",
              "    <path d=\"M0 0h24v24H0V0z\" fill=\"none\"/>\n",
              "    <path d=\"M18.56 5.44l.94 2.06.94-2.06 2.06-.94-2.06-.94-.94-2.06-.94 2.06-2.06.94zm-11 1L8.5 8.5l.94-2.06 2.06-.94-2.06-.94L8.5 2.5l-.94 2.06-2.06.94zm10 10l.94 2.06.94-2.06 2.06-.94-2.06-.94-.94-2.06-.94 2.06-2.06.94z\"/><path d=\"M17.41 7.96l-1.37-1.37c-.4-.4-.92-.59-1.43-.59-.52 0-1.04.2-1.43.59L10.3 9.45l-7.72 7.72c-.78.78-.78 2.05 0 2.83L4 21.41c.39.39.9.59 1.41.59.51 0 1.02-.2 1.41-.59l7.78-7.78 2.81-2.81c.8-.78.8-2.07 0-2.86zM5.41 20L4 18.59l7.72-7.72 1.47 1.35L5.41 20z\"/>\n",
              "  </svg>\n",
              "      </button>\n",
              "      \n",
              "  <style>\n",
              "    .colab-df-container {\n",
              "      display:flex;\n",
              "      flex-wrap:wrap;\n",
              "      gap: 12px;\n",
              "    }\n",
              "\n",
              "    .colab-df-convert {\n",
              "      background-color: #E8F0FE;\n",
              "      border: none;\n",
              "      border-radius: 50%;\n",
              "      cursor: pointer;\n",
              "      display: none;\n",
              "      fill: #1967D2;\n",
              "      height: 32px;\n",
              "      padding: 0 0 0 0;\n",
              "      width: 32px;\n",
              "    }\n",
              "\n",
              "    .colab-df-convert:hover {\n",
              "      background-color: #E2EBFA;\n",
              "      box-shadow: 0px 1px 2px rgba(60, 64, 67, 0.3), 0px 1px 3px 1px rgba(60, 64, 67, 0.15);\n",
              "      fill: #174EA6;\n",
              "    }\n",
              "\n",
              "    [theme=dark] .colab-df-convert {\n",
              "      background-color: #3B4455;\n",
              "      fill: #D2E3FC;\n",
              "    }\n",
              "\n",
              "    [theme=dark] .colab-df-convert:hover {\n",
              "      background-color: #434B5C;\n",
              "      box-shadow: 0px 1px 3px 1px rgba(0, 0, 0, 0.15);\n",
              "      filter: drop-shadow(0px 1px 2px rgba(0, 0, 0, 0.3));\n",
              "      fill: #FFFFFF;\n",
              "    }\n",
              "  </style>\n",
              "\n",
              "      <script>\n",
              "        const buttonEl =\n",
              "          document.querySelector('#df-b672012a-9aeb-4ecf-b1f6-ddfcab9338c9 button.colab-df-convert');\n",
              "        buttonEl.style.display =\n",
              "          google.colab.kernel.accessAllowed ? 'block' : 'none';\n",
              "\n",
              "        async function convertToInteractive(key) {\n",
              "          const element = document.querySelector('#df-b672012a-9aeb-4ecf-b1f6-ddfcab9338c9');\n",
              "          const dataTable =\n",
              "            await google.colab.kernel.invokeFunction('convertToInteractive',\n",
              "                                                     [key], {});\n",
              "          if (!dataTable) return;\n",
              "\n",
              "          const docLinkHtml = 'Like what you see? Visit the ' +\n",
              "            '<a target=\"_blank\" href=https://colab.research.google.com/notebooks/data_table.ipynb>data table notebook</a>'\n",
              "            + ' to learn more about interactive tables.';\n",
              "          element.innerHTML = '';\n",
              "          dataTable['output_type'] = 'display_data';\n",
              "          await google.colab.output.renderOutput(dataTable, element);\n",
              "          const docLink = document.createElement('div');\n",
              "          docLink.innerHTML = docLinkHtml;\n",
              "          element.appendChild(docLink);\n",
              "        }\n",
              "      </script>\n",
              "    </div>\n",
              "  </div>\n",
              "  "
            ]
          },
          "metadata": {},
          "execution_count": 83
        }
      ]
    },
    {
      "cell_type": "code",
      "source": [
        "#creating a function for sentiment text\n",
        "\n",
        "def getSentiment(score):\n",
        "  if score < 0:\n",
        "    return 'Negative'\n",
        "\n",
        "  elif score == 0:\n",
        "    return 'Netural'\n",
        "\n",
        "  elif score > 0:\n",
        "    return 'Positive'"
      ],
      "metadata": {
        "id": "nj1VWE5C7rrG"
      },
      "execution_count": 84,
      "outputs": []
    },
    {
      "cell_type": "code",
      "source": [
        "df['Sentiment'] = df['Polarity'].apply(getSentiment)\n",
        "\n",
        "df.head(25000)"
      ],
      "metadata": {
        "colab": {
          "base_uri": "https://localhost:8080/",
          "height": 658
        },
        "id": "8vD9iXlD8tkn",
        "outputId": "d17e57c1-5b82-40cc-c1ee-e0c0f2d05601"
      },
      "execution_count": 86,
      "outputs": [
        {
          "output_type": "execute_result",
          "data": {
            "text/plain": [
              "       Unnamed: 0        date  \\\n",
              "0               0  2022-11-03   \n",
              "1               1  2022-11-03   \n",
              "2               2  2022-11-03   \n",
              "3               3  2022-11-03   \n",
              "4               4  2022-11-03   \n",
              "...           ...         ...   \n",
              "24007       24007  2022-11-03   \n",
              "24008       24008  2022-11-03   \n",
              "24009       24009  2022-11-03   \n",
              "24010       24010  2022-11-03   \n",
              "24011       24011  2022-11-03   \n",
              "\n",
              "                                                   tweet  \\\n",
              "0                     ak47 imrankhan firing ptilongmarch   \n",
              "1                    black day pakistan firing imrankhan   \n",
              "2      imran khan created drama end long march confid...   \n",
              "3      shooter details name general qamar javed bajwa...   \n",
              "4      army bajwas bastards behind fuck bajwa company...   \n",
              "...                                                  ...   \n",
              "24007  wondering firing incident pti dharna punjab go...   \n",
              "24008  rana sanaullah accountable said earlier would ...   \n",
              "24009  abay aur firing papian dene ke liye karte hain...   \n",
              "24010                               firing coas genbajwa   \n",
              "24011  saw devastated news hope hes safe everyone aro...   \n",
              "\n",
              "                                              tweet_stem  sentiment  \\\n",
              "0                       ak47 imrankhan fire ptilongmarch   0.000000   \n",
              "1                      black day pakistan fire imrankhan  -0.166667   \n",
              "2      imran khan creat drama end long march confiden...  -0.050000   \n",
              "3      shooter detail name gener qamar jave bajwa arr...  -0.025000   \n",
              "4      armi bajwa bastard behind fuck bajwa compani i...  -0.400000   \n",
              "...                                                  ...        ...   \n",
              "24007  wonder fire incid pti dharna punjab govtbelong...   0.000000   \n",
              "24008  rana sanaullah account said earlier would go p...   0.000000   \n",
              "24009  abay aur fire papian dene ke liy kart hain aje...   0.000000   \n",
              "24010                                  fire coa genbajwa   0.000000   \n",
              "24011  saw devast news hope he safe everyon around go...   0.366667   \n",
              "\n",
              "       Subjectivity  Polarity Sentiment  \n",
              "0          0.000000  0.000000   Netural  \n",
              "1          0.433333 -0.166667  Negative  \n",
              "2          0.400000 -0.050000  Negative  \n",
              "3          0.500000 -0.025000  Negative  \n",
              "4          0.650000 -0.400000  Negative  \n",
              "...             ...       ...       ...  \n",
              "24007      0.000000  0.000000   Netural  \n",
              "24008      0.241667  0.000000   Netural  \n",
              "24009      0.000000  0.000000   Netural  \n",
              "24010      0.000000  0.000000   Netural  \n",
              "24011      0.500000  0.366667  Positive  \n",
              "\n",
              "[24012 rows x 8 columns]"
            ],
            "text/html": [
              "\n",
              "  <div id=\"df-9aa96762-7ae9-4db1-af2e-42202dd6568c\">\n",
              "    <div class=\"colab-df-container\">\n",
              "      <div>\n",
              "<style scoped>\n",
              "    .dataframe tbody tr th:only-of-type {\n",
              "        vertical-align: middle;\n",
              "    }\n",
              "\n",
              "    .dataframe tbody tr th {\n",
              "        vertical-align: top;\n",
              "    }\n",
              "\n",
              "    .dataframe thead th {\n",
              "        text-align: right;\n",
              "    }\n",
              "</style>\n",
              "<table border=\"1\" class=\"dataframe\">\n",
              "  <thead>\n",
              "    <tr style=\"text-align: right;\">\n",
              "      <th></th>\n",
              "      <th>Unnamed: 0</th>\n",
              "      <th>date</th>\n",
              "      <th>tweet</th>\n",
              "      <th>tweet_stem</th>\n",
              "      <th>sentiment</th>\n",
              "      <th>Subjectivity</th>\n",
              "      <th>Polarity</th>\n",
              "      <th>Sentiment</th>\n",
              "    </tr>\n",
              "  </thead>\n",
              "  <tbody>\n",
              "    <tr>\n",
              "      <th>0</th>\n",
              "      <td>0</td>\n",
              "      <td>2022-11-03</td>\n",
              "      <td>ak47 imrankhan firing ptilongmarch</td>\n",
              "      <td>ak47 imrankhan fire ptilongmarch</td>\n",
              "      <td>0.000000</td>\n",
              "      <td>0.000000</td>\n",
              "      <td>0.000000</td>\n",
              "      <td>Netural</td>\n",
              "    </tr>\n",
              "    <tr>\n",
              "      <th>1</th>\n",
              "      <td>1</td>\n",
              "      <td>2022-11-03</td>\n",
              "      <td>black day pakistan firing imrankhan</td>\n",
              "      <td>black day pakistan fire imrankhan</td>\n",
              "      <td>-0.166667</td>\n",
              "      <td>0.433333</td>\n",
              "      <td>-0.166667</td>\n",
              "      <td>Negative</td>\n",
              "    </tr>\n",
              "    <tr>\n",
              "      <th>2</th>\n",
              "      <td>2</td>\n",
              "      <td>2022-11-03</td>\n",
              "      <td>imran khan created drama end long march confid...</td>\n",
              "      <td>imran khan creat drama end long march confiden...</td>\n",
              "      <td>-0.050000</td>\n",
              "      <td>0.400000</td>\n",
              "      <td>-0.050000</td>\n",
              "      <td>Negative</td>\n",
              "    </tr>\n",
              "    <tr>\n",
              "      <th>3</th>\n",
              "      <td>3</td>\n",
              "      <td>2022-11-03</td>\n",
              "      <td>shooter details name general qamar javed bajwa...</td>\n",
              "      <td>shooter detail name gener qamar jave bajwa arr...</td>\n",
              "      <td>-0.025000</td>\n",
              "      <td>0.500000</td>\n",
              "      <td>-0.025000</td>\n",
              "      <td>Negative</td>\n",
              "    </tr>\n",
              "    <tr>\n",
              "      <th>4</th>\n",
              "      <td>4</td>\n",
              "      <td>2022-11-03</td>\n",
              "      <td>army bajwas bastards behind fuck bajwa company...</td>\n",
              "      <td>armi bajwa bastard behind fuck bajwa compani i...</td>\n",
              "      <td>-0.400000</td>\n",
              "      <td>0.650000</td>\n",
              "      <td>-0.400000</td>\n",
              "      <td>Negative</td>\n",
              "    </tr>\n",
              "    <tr>\n",
              "      <th>...</th>\n",
              "      <td>...</td>\n",
              "      <td>...</td>\n",
              "      <td>...</td>\n",
              "      <td>...</td>\n",
              "      <td>...</td>\n",
              "      <td>...</td>\n",
              "      <td>...</td>\n",
              "      <td>...</td>\n",
              "    </tr>\n",
              "    <tr>\n",
              "      <th>24007</th>\n",
              "      <td>24007</td>\n",
              "      <td>2022-11-03</td>\n",
              "      <td>wondering firing incident pti dharna punjab go...</td>\n",
              "      <td>wonder fire incid pti dharna punjab govtbelong...</td>\n",
              "      <td>0.000000</td>\n",
              "      <td>0.000000</td>\n",
              "      <td>0.000000</td>\n",
              "      <td>Netural</td>\n",
              "    </tr>\n",
              "    <tr>\n",
              "      <th>24008</th>\n",
              "      <td>24008</td>\n",
              "      <td>2022-11-03</td>\n",
              "      <td>rana sanaullah accountable said earlier would ...</td>\n",
              "      <td>rana sanaullah account said earlier would go p...</td>\n",
              "      <td>0.000000</td>\n",
              "      <td>0.241667</td>\n",
              "      <td>0.000000</td>\n",
              "      <td>Netural</td>\n",
              "    </tr>\n",
              "    <tr>\n",
              "      <th>24009</th>\n",
              "      <td>24009</td>\n",
              "      <td>2022-11-03</td>\n",
              "      <td>abay aur firing papian dene ke liye karte hain...</td>\n",
              "      <td>abay aur fire papian dene ke liy kart hain aje...</td>\n",
              "      <td>0.000000</td>\n",
              "      <td>0.000000</td>\n",
              "      <td>0.000000</td>\n",
              "      <td>Netural</td>\n",
              "    </tr>\n",
              "    <tr>\n",
              "      <th>24010</th>\n",
              "      <td>24010</td>\n",
              "      <td>2022-11-03</td>\n",
              "      <td>firing coas genbajwa</td>\n",
              "      <td>fire coa genbajwa</td>\n",
              "      <td>0.000000</td>\n",
              "      <td>0.000000</td>\n",
              "      <td>0.000000</td>\n",
              "      <td>Netural</td>\n",
              "    </tr>\n",
              "    <tr>\n",
              "      <th>24011</th>\n",
              "      <td>24011</td>\n",
              "      <td>2022-11-03</td>\n",
              "      <td>saw devastated news hope hes safe everyone aro...</td>\n",
              "      <td>saw devast news hope he safe everyon around go...</td>\n",
              "      <td>0.366667</td>\n",
              "      <td>0.500000</td>\n",
              "      <td>0.366667</td>\n",
              "      <td>Positive</td>\n",
              "    </tr>\n",
              "  </tbody>\n",
              "</table>\n",
              "<p>24012 rows × 8 columns</p>\n",
              "</div>\n",
              "      <button class=\"colab-df-convert\" onclick=\"convertToInteractive('df-9aa96762-7ae9-4db1-af2e-42202dd6568c')\"\n",
              "              title=\"Convert this dataframe to an interactive table.\"\n",
              "              style=\"display:none;\">\n",
              "        \n",
              "  <svg xmlns=\"http://www.w3.org/2000/svg\" height=\"24px\"viewBox=\"0 0 24 24\"\n",
              "       width=\"24px\">\n",
              "    <path d=\"M0 0h24v24H0V0z\" fill=\"none\"/>\n",
              "    <path d=\"M18.56 5.44l.94 2.06.94-2.06 2.06-.94-2.06-.94-.94-2.06-.94 2.06-2.06.94zm-11 1L8.5 8.5l.94-2.06 2.06-.94-2.06-.94L8.5 2.5l-.94 2.06-2.06.94zm10 10l.94 2.06.94-2.06 2.06-.94-2.06-.94-.94-2.06-.94 2.06-2.06.94z\"/><path d=\"M17.41 7.96l-1.37-1.37c-.4-.4-.92-.59-1.43-.59-.52 0-1.04.2-1.43.59L10.3 9.45l-7.72 7.72c-.78.78-.78 2.05 0 2.83L4 21.41c.39.39.9.59 1.41.59.51 0 1.02-.2 1.41-.59l7.78-7.78 2.81-2.81c.8-.78.8-2.07 0-2.86zM5.41 20L4 18.59l7.72-7.72 1.47 1.35L5.41 20z\"/>\n",
              "  </svg>\n",
              "      </button>\n",
              "      \n",
              "  <style>\n",
              "    .colab-df-container {\n",
              "      display:flex;\n",
              "      flex-wrap:wrap;\n",
              "      gap: 12px;\n",
              "    }\n",
              "\n",
              "    .colab-df-convert {\n",
              "      background-color: #E8F0FE;\n",
              "      border: none;\n",
              "      border-radius: 50%;\n",
              "      cursor: pointer;\n",
              "      display: none;\n",
              "      fill: #1967D2;\n",
              "      height: 32px;\n",
              "      padding: 0 0 0 0;\n",
              "      width: 32px;\n",
              "    }\n",
              "\n",
              "    .colab-df-convert:hover {\n",
              "      background-color: #E2EBFA;\n",
              "      box-shadow: 0px 1px 2px rgba(60, 64, 67, 0.3), 0px 1px 3px 1px rgba(60, 64, 67, 0.15);\n",
              "      fill: #174EA6;\n",
              "    }\n",
              "\n",
              "    [theme=dark] .colab-df-convert {\n",
              "      background-color: #3B4455;\n",
              "      fill: #D2E3FC;\n",
              "    }\n",
              "\n",
              "    [theme=dark] .colab-df-convert:hover {\n",
              "      background-color: #434B5C;\n",
              "      box-shadow: 0px 1px 3px 1px rgba(0, 0, 0, 0.15);\n",
              "      filter: drop-shadow(0px 1px 2px rgba(0, 0, 0, 0.3));\n",
              "      fill: #FFFFFF;\n",
              "    }\n",
              "  </style>\n",
              "\n",
              "      <script>\n",
              "        const buttonEl =\n",
              "          document.querySelector('#df-9aa96762-7ae9-4db1-af2e-42202dd6568c button.colab-df-convert');\n",
              "        buttonEl.style.display =\n",
              "          google.colab.kernel.accessAllowed ? 'block' : 'none';\n",
              "\n",
              "        async function convertToInteractive(key) {\n",
              "          const element = document.querySelector('#df-9aa96762-7ae9-4db1-af2e-42202dd6568c');\n",
              "          const dataTable =\n",
              "            await google.colab.kernel.invokeFunction('convertToInteractive',\n",
              "                                                     [key], {});\n",
              "          if (!dataTable) return;\n",
              "\n",
              "          const docLinkHtml = 'Like what you see? Visit the ' +\n",
              "            '<a target=\"_blank\" href=https://colab.research.google.com/notebooks/data_table.ipynb>data table notebook</a>'\n",
              "            + ' to learn more about interactive tables.';\n",
              "          element.innerHTML = '';\n",
              "          dataTable['output_type'] = 'display_data';\n",
              "          await google.colab.output.renderOutput(dataTable, element);\n",
              "          const docLink = document.createElement('div');\n",
              "          docLink.innerHTML = docLinkHtml;\n",
              "          element.appendChild(docLink);\n",
              "        }\n",
              "      </script>\n",
              "    </div>\n",
              "  </div>\n",
              "  "
            ]
          },
          "metadata": {},
          "execution_count": 86
        }
      ]
    },
    {
      "cell_type": "code",
      "source": [
        "df['Sentiment'].value_counts().plot(kind= 'bar')\n",
        "plt.title('Sentimental Analysis Scatter Plot')\n",
        "plt.xlabel('Sentiments')\n",
        "plt.ylabel('Number of Tweets')\n",
        "plt.show()"
      ],
      "metadata": {
        "colab": {
          "base_uri": "https://localhost:8080/",
          "height": 558
        },
        "id": "hEvCZPVZ83-p",
        "outputId": "7f81f688-4c02-4a15-b271-c27c97990913"
      },
      "execution_count": 88,
      "outputs": [
        {
          "output_type": "display_data",
          "data": {
            "text/plain": [
              "<Figure size 936x576 with 1 Axes>"
            ],
            "image/png": "[encoded data removed]"
          },
          "metadata": {}
        }
      ]
    },
    {
      "cell_type": "code",
      "source": [
        "df['Sentiment'].value_counts().plot(kind= 'pie')\n",
        "plt.title('Sentimental Analysis')\n",
        "plt.show()"
      ],
      "metadata": {
        "colab": {
          "base_uri": "https://localhost:8080/",
          "height": 482
        },
        "id": "wCsY7Far9s3q",
        "outputId": "364f53c5-4f4b-4600-e853-bdc44665eeee"
      },
      "execution_count": 90,
      "outputs": [
        {
          "output_type": "display_data",
          "data": {
            "text/plain": [
              "<Figure size 936x576 with 1 Axes>"
            ],
            "image/png": "[encoded data removed]"
          },
          "metadata": {}
        }
      ]
    },
    {
      "cell_type": "code",
      "source": [
        "#CountVectorizer\n",
        "from sklearn.feature_extraction.text import CountVectorizer\n",
        "count_vectorize = CountVectorizer() \n",
        "vectorized = count_vectorize.fit_transform(df[\"tweet\"])"
      ],
      "metadata": {
        "id": "UBKg-DmT-Qt6"
      },
      "execution_count": 91,
      "outputs": []
    },
    {
      "cell_type": "code",
      "source": [
        "print(vectorized[0,:])\n",
        "\n",
        "#print(vc.vocabulary_)\n",
        "print(count_vectorize.get_feature_names_out())\n",
        "print(count_vectorize.get_feature_names_out()[14174], vectorized[0,14174])"
      ],
      "metadata": {
        "colab": {
          "base_uri": "https://localhost:8080/"
        },
        "id": "ORTSeso--hEf",
        "outputId": "27a19320-19aa-4bd0-f091-af05dd36647c"
      },
      "execution_count": 101,
      "outputs": [
        {
          "output_type": "stream",
          "name": "stdout",
          "text": [
            "  (0, 637)\t1\n",
            "  (0, 6073)\t1\n",
            "  (0, 4454)\t1\n",
            "  (0, 10407)\t1\n",
            "['0005' '009' '0099' ... 'zyada' 'zyadti' 'zyda']\n",
            "zyda 0\n"
          ]
        }
      ]
    },
    {
      "cell_type": "code",
      "source": [
        "from sklearn.model_selection import train_test_split\n",
        "X_train, X_test, y_train, y_test = train_test_split(df,df[\"Sentiment\"],test_size = 0.2, random_state =26105111)"
      ],
      "metadata": {
        "id": "f7QUvWWK-oOW"
      },
      "execution_count": 103,
      "outputs": []
    },
    {
      "cell_type": "code",
      "source": [
        "from sklearn.naive_bayes import MultinomialNB\n",
        "clf = MultinomialNB()\n",
        "vectorized = count_vectorize.fit_transform(X_train[\"tweet\"])\n",
        "clf.fit(vectorized, y_train)"
      ],
      "metadata": {
        "colab": {
          "base_uri": "https://localhost:8080/"
        },
        "id": "wLuW0Rhd_P8a",
        "outputId": "f076c746-0f0f-4d03-aaa5-54f0aea03fd5"
      },
      "execution_count": 105,
      "outputs": [
        {
          "output_type": "execute_result",
          "data": {
            "text/plain": [
              "MultinomialNB()"
            ]
          },
          "metadata": {},
          "execution_count": 105
        }
      ]
    },
    {
      "cell_type": "code",
      "source": [
        "vectorized = count_vectorize.transform(X_test[\"tweet\"])\n",
        "res=clf.predict(vectorized)"
      ],
      "metadata": {
        "id": "Zy0I8SHo_U1o"
      },
      "execution_count": 106,
      "outputs": []
    },
    {
      "cell_type": "code",
      "source": [
        "from sklearn import metrics\n",
        "metrics.accuracy_score(res, y_test)"
      ],
      "metadata": {
        "colab": {
          "base_uri": "https://localhost:8080/"
        },
        "id": "bwaWoHCw_aui",
        "outputId": "7a387fc5-0fe8-42ab-8edf-cea86ca41d79"
      },
      "execution_count": 107,
      "outputs": [
        {
          "output_type": "execute_result",
          "data": {
            "text/plain": [
              "0.8965230064542994"
            ]
          },
          "metadata": {},
          "execution_count": 107
        }
      ]
    },
    {
      "cell_type": "code",
      "source": [
        "from sklearn.metrics import confusion_matrix\n",
        "import matplotlib.pyplot as plt\n",
        "import seaborn as sns; sns.set()\n",
        "mat = confusion_matrix(y_test, res)\n",
        "sns.heatmap(mat.T, square=True, annot=True, fmt='d', cbar=False,\n",
        "            xticklabels=[\"pos\",\"neg\",\"neu\"], yticklabels=[\"pos\",\"neg\",\"neu\"])\n",
        "plt.xlabel('true label')\n",
        "plt.ylabel('predicted label')"
      ],
      "metadata": {
        "colab": {
          "base_uri": "https://localhost:8080/",
          "height": 520
        },
        "id": "-UZhSHdN_c4j",
        "outputId": "8eda48c2-f999-4470-93d6-8bf7e5efcdbe"
      },
      "execution_count": 108,
      "outputs": [
        {
          "output_type": "execute_result",
          "data": {
            "text/plain": [
              "Text(238.76, 0.5, 'predicted label')"
            ]
          },
          "metadata": {},
          "execution_count": 108
        },
        {
          "output_type": "display_data",
          "data": {
            "text/plain": [
              "<Figure size 936x576 with 1 Axes>"
            ],
            "image/png": "[encoded data removed]"
          },
          "metadata": {}
        }
      ]
    },
    {
      "cell_type": "code",
      "source": [
        "from sklearn.naive_bayes import BernoulliNB\n",
        "clf = BernoulliNB()\n",
        "vectorized = count_vectorize.fit_transform(X_train[\"tweet\"])\n",
        "clf.fit(vectorized, y_train)"
      ],
      "metadata": {
        "colab": {
          "base_uri": "https://localhost:8080/"
        },
        "id": "62QjUT6M_xqK",
        "outputId": "a631baec-dc7d-40a0-ce3d-f0f96db8e6f6"
      },
      "execution_count": 113,
      "outputs": [
        {
          "output_type": "execute_result",
          "data": {
            "text/plain": [
              "BernoulliNB()"
            ]
          },
          "metadata": {},
          "execution_count": 113
        }
      ]
    },
    {
      "cell_type": "code",
      "source": [
        "vectorized = count_vectorize.transform(X_test[\"tweet\"])\n",
        "res=clf.predict(vectorized)"
      ],
      "metadata": {
        "id": "KOPoIFvC_16N"
      },
      "execution_count": 114,
      "outputs": []
    },
    {
      "cell_type": "code",
      "source": [
        "from sklearn import metrics\n",
        "metrics.accuracy_score(res, y_test)"
      ],
      "metadata": {
        "colab": {
          "base_uri": "https://localhost:8080/"
        },
        "id": "NHH1hB3n_-PV",
        "outputId": "7a61ac17-b889-42be-e443-f3766d3559db"
      },
      "execution_count": 115,
      "outputs": [
        {
          "output_type": "execute_result",
          "data": {
            "text/plain": [
              "0.8552987716010827"
            ]
          },
          "metadata": {},
          "execution_count": 115
        }
      ]
    },
    {
      "cell_type": "code",
      "source": [
        "from sklearn.metrics import confusion_matrix\n",
        "import matplotlib.pyplot as plt\n",
        "import seaborn as sns; sns.set()\n",
        "mat = confusion_matrix(y_test, res)\n",
        "sns.heatmap(mat.T, square=True, annot=True, fmt='d', cbar=False,\n",
        "            xticklabels=[\"pos\",\"neg\",\"neu\"], yticklabels=[\"pos\",\"neg\",\"neu\"])\n",
        "plt.xlabel('true label')\n",
        "plt.ylabel('predicted label')"
      ],
      "metadata": {
        "colab": {
          "base_uri": "https://localhost:8080/",
          "height": 520
        },
        "id": "mfieTVaeAAb0",
        "outputId": "a7c11262-2208-4eb5-9e00-e432daca165a"
      },
      "execution_count": 116,
      "outputs": [
        {
          "output_type": "execute_result",
          "data": {
            "text/plain": [
              "Text(238.76, 0.5, 'predicted label')"
            ]
          },
          "metadata": {},
          "execution_count": 116
        },
        {
          "output_type": "display_data",
          "data": {
            "text/plain": [
              "<Figure size 936x576 with 1 Axes>"
            ],
            "image/png": "[encoded data removed]"
          },
          "metadata": {}
        }
      ]
    },
    {
      "cell_type": "code",
      "source": [
        "from sklearn.linear_model import LogisticRegression\n",
        "logisticRegr = LogisticRegression()\n",
        "vectorized = count_vectorize.fit_transform(X_train[\"tweet\"])\n",
        "logisticRegr.fit(vectorized, y_train)"
      ],
      "metadata": {
        "colab": {
          "base_uri": "https://localhost:8080/"
        },
        "id": "OrKAM4k0ACK2",
        "outputId": "f81c3840-b8ed-47a3-a9a3-e3c71a3b3526"
      },
      "execution_count": 121,
      "outputs": [
        {
          "output_type": "stream",
          "name": "stderr",
          "text": [
            "/usr/local/lib/python3.7/dist-packages/sklearn/linear_model/_logistic.py:818: ConvergenceWarning: lbfgs failed to converge (status=1):\n",
            "STOP: TOTAL NO. of ITERATIONS REACHED LIMIT.\n",
            "\n",
            "Increase the number of iterations (max_iter) or scale the data as shown in:\n",
            "    https://scikit-learn.org/stable/modules/preprocessing.html\n",
            "Please also refer to the documentation for alternative solver options:\n",
            "    https://scikit-learn.org/stable/modules/linear_model.html#logistic-regression\n",
            "  extra_warning_msg=_LOGISTIC_SOLVER_CONVERGENCE_MSG,\n"
          ]
        },
        {
          "output_type": "execute_result",
          "data": {
            "text/plain": [
              "LogisticRegression()"
            ]
          },
          "metadata": {},
          "execution_count": 121
        }
      ]
    },
    {
      "cell_type": "code",
      "source": [
        "vectorized = count_vectorize.transform(X_test[\"tweet\"])\n",
        "res=clf.predict(vectorized)"
      ],
      "metadata": {
        "id": "wMwx4WUPAFZF"
      },
      "execution_count": 122,
      "outputs": []
    },
    {
      "cell_type": "code",
      "source": [
        "from sklearn import metrics\n",
        "metrics.accuracy_score(res, y_test)"
      ],
      "metadata": {
        "colab": {
          "base_uri": "https://localhost:8080/"
        },
        "id": "BXHzuW80AKoI",
        "outputId": "0272baa3-603a-4781-a933-a1934b1c519c"
      },
      "execution_count": 123,
      "outputs": [
        {
          "output_type": "execute_result",
          "data": {
            "text/plain": [
              "0.8552987716010827"
            ]
          },
          "metadata": {},
          "execution_count": 123
        }
      ]
    },
    {
      "cell_type": "code",
      "source": [
        "mat = confusion_matrix(y_test, res)\n",
        "sns.heatmap(mat.T, square=True, annot=True, fmt='d', cbar=False,\n",
        "            xticklabels=[\"pos\",\"neg\",\"neu\"], yticklabels=[\"pos\",\"neg\",\"neu\"])\n",
        "plt.xlabel('true label')\n",
        "plt.ylabel('predicted label')"
      ],
      "metadata": {
        "colab": {
          "base_uri": "https://localhost:8080/",
          "height": 520
        },
        "id": "it8fidm7AMEp",
        "outputId": "0616d95a-06ff-4be5-8a10-add4f6c4af13"
      },
      "execution_count": 124,
      "outputs": [
        {
          "output_type": "execute_result",
          "data": {
            "text/plain": [
              "Text(238.76, 0.5, 'predicted label')"
            ]
          },
          "metadata": {},
          "execution_count": 124
        },
        {
          "output_type": "display_data",
          "data": {
            "text/plain": [
              "<Figure size 936x576 with 1 Axes>"
            ],
            "image/png": "[encoded data removed]"
          },
          "metadata": {}
        }
      ]
    },
    {
      "cell_type": "code",
      "source": [
        "from sklearn.svm import LinearSVC\n",
        "clf=LinearSVC()\n",
        "vectorized = count_vectorize.fit_transform(X_train[\"tweet\"])\n",
        "clf.fit(vectorized, y_train)"
      ],
      "metadata": {
        "colab": {
          "base_uri": "https://localhost:8080/"
        },
        "id": "i-2BW8VFAdHr",
        "outputId": "349e6374-7299-4d67-bead-bc4ac15c9ce1"
      },
      "execution_count": 125,
      "outputs": [
        {
          "output_type": "stream",
          "name": "stderr",
          "text": [
            "/usr/local/lib/python3.7/dist-packages/sklearn/svm/_base.py:1208: ConvergenceWarning: Liblinear failed to converge, increase the number of iterations.\n",
            "  ConvergenceWarning,\n"
          ]
        },
        {
          "output_type": "execute_result",
          "data": {
            "text/plain": [
              "LinearSVC()"
            ]
          },
          "metadata": {},
          "execution_count": 125
        }
      ]
    },
    {
      "cell_type": "code",
      "source": [
        "vectorized = count_vectorize.transform(X_test[\"tweet\"])\n",
        "res=clf.predict(vectorized)"
      ],
      "metadata": {
        "id": "XSSYNYz-AiE2"
      },
      "execution_count": 126,
      "outputs": []
    },
    {
      "cell_type": "code",
      "source": [
        "from sklearn import metrics\n",
        "metrics.accuracy_score(res, y_test)\n"
      ],
      "metadata": {
        "colab": {
          "base_uri": "https://localhost:8080/"
        },
        "id": "ZtYJrWEmAjqY",
        "outputId": "193a4f91-75f8-4faa-d8cf-b128445c2703"
      },
      "execution_count": 127,
      "outputs": [
        {
          "output_type": "execute_result",
          "data": {
            "text/plain": [
              "0.9843847595252967"
            ]
          },
          "metadata": {},
          "execution_count": 127
        }
      ]
    },
    {
      "cell_type": "code",
      "source": [
        "mat = confusion_matrix(y_test, res)\n",
        "sns.heatmap(mat.T, square=True, annot=True, fmt='d', cbar=False,\n",
        "            xticklabels=[\"pos\",\"neg\",\"neu\"], yticklabels=[\"pos\",\"neg\",\"neu\"])\n",
        "plt.xlabel('true label')\n",
        "plt.ylabel('predicted label')"
      ],
      "metadata": {
        "colab": {
          "base_uri": "https://localhost:8080/",
          "height": 520
        },
        "id": "MhlqXOvnAl68",
        "outputId": "3acbcca5-7008-40e6-959e-29f73d6079a2"
      },
      "execution_count": 128,
      "outputs": [
        {
          "output_type": "execute_result",
          "data": {
            "text/plain": [
              "Text(238.76, 0.5, 'predicted label')"
            ]
          },
          "metadata": {},
          "execution_count": 128
        },
        {
          "output_type": "display_data",
          "data": {
            "text/plain": [
              "<Figure size 936x576 with 1 Axes>"
            ],
            "image/png": "[encoded data removed]"
          },
          "metadata": {}
        }
      ]
    },
    {
      "cell_type": "code",
      "source": [
        "from sklearn.ensemble import AdaBoostClassifier\n",
        "clf = AdaBoostClassifier(n_estimators=100, random_state=0)\n",
        "vectorized = count_vectorize.fit_transform(X_train[\"tweet\"])\n",
        "clf.fit(vectorized, y_train)"
      ],
      "metadata": {
        "colab": {
          "base_uri": "https://localhost:8080/"
        },
        "id": "kzkN-AOdAo16",
        "outputId": "72684d2a-3125-46c1-f618-6b9cad39373c"
      },
      "execution_count": 130,
      "outputs": [
        {
          "output_type": "execute_result",
          "data": {
            "text/plain": [
              "AdaBoostClassifier(n_estimators=100, random_state=0)"
            ]
          },
          "metadata": {},
          "execution_count": 130
        }
      ]
    },
    {
      "cell_type": "code",
      "source": [
        "vectorized = count_vectorize.transform(X_test[\"tweet\"])\n",
        "res=clf.predict(vectorized)"
      ],
      "metadata": {
        "id": "NYCgZ6cyAsae"
      },
      "execution_count": 131,
      "outputs": []
    },
    {
      "cell_type": "code",
      "source": [
        "from sklearn import metrics\n",
        "metrics.accuracy_score(res, y_test)"
      ],
      "metadata": {
        "colab": {
          "base_uri": "https://localhost:8080/"
        },
        "id": "TA6TXUHrAyDR",
        "outputId": "bc9ba68b-524c-46fa-a80f-54626f2f692d"
      },
      "execution_count": 132,
      "outputs": [
        {
          "output_type": "execute_result",
          "data": {
            "text/plain": [
              "0.909015198834062"
            ]
          },
          "metadata": {},
          "execution_count": 132
        }
      ]
    },
    {
      "cell_type": "code",
      "source": [
        "mat = confusion_matrix(y_test, res)\n",
        "sns.heatmap(mat.T, square=True, annot=True, fmt='d', cbar=False,\n",
        "            xticklabels=[\"pos\",\"neg\",\"neu\"], yticklabels=[\"pos\",\"neg\",\"neu\"])\n",
        "plt.xlabel('true label')\n",
        "plt.ylabel('predicted label')"
      ],
      "metadata": {
        "colab": {
          "base_uri": "https://localhost:8080/",
          "height": 520
        },
        "id": "g6m91-HPAzq9",
        "outputId": "f5918c9c-a078-4226-bcf8-095bba39bbe8"
      },
      "execution_count": 133,
      "outputs": [
        {
          "output_type": "execute_result",
          "data": {
            "text/plain": [
              "Text(238.76, 0.5, 'predicted label')"
            ]
          },
          "metadata": {},
          "execution_count": 133
        },
        {
          "output_type": "display_data",
          "data": {
            "text/plain": [
              "<Figure size 936x576 with 1 Axes>"
            ],
            "image/png": "[encoded data removed]"
          },
          "metadata": {}
        }
      ]
    },
    {
      "cell_type": "code",
      "source": [
        "from sklearn.linear_model import RidgeClassifier\n",
        "clf = RidgeClassifier()\n",
        "vectorized = count_vectorize.fit_transform(X_train[\"tweet\"])\n",
        "clf.fit(vectorized, y_train)"
      ],
      "metadata": {
        "colab": {
          "base_uri": "https://localhost:8080/"
        },
        "id": "IpC9-p52A1Z6",
        "outputId": "ecfb6b46-80ad-45cb-ab1b-1982ad4ac30f"
      },
      "execution_count": 135,
      "outputs": [
        {
          "output_type": "execute_result",
          "data": {
            "text/plain": [
              "RidgeClassifier()"
            ]
          },
          "metadata": {},
          "execution_count": 135
        }
      ]
    },
    {
      "cell_type": "code",
      "source": [
        "vectorized = count_vectorize.transform(X_test[\"tweet\"])\n",
        "res=clf.predict(vectorized)"
      ],
      "metadata": {
        "id": "XroB3WuDA3ts"
      },
      "execution_count": 136,
      "outputs": []
    },
    {
      "cell_type": "code",
      "source": [
        "from sklearn import metrics\n",
        "metrics.accuracy_score(res, y_test)"
      ],
      "metadata": {
        "colab": {
          "base_uri": "https://localhost:8080/"
        },
        "id": "N6g0kJj-A_TA",
        "outputId": "bb91cd13-82b6-4e1e-af03-d204aceb929b"
      },
      "execution_count": 137,
      "outputs": [
        {
          "output_type": "execute_result",
          "data": {
            "text/plain": [
              "0.9752238184468041"
            ]
          },
          "metadata": {},
          "execution_count": 137
        }
      ]
    },
    {
      "cell_type": "code",
      "source": [
        "mat = confusion_matrix(y_test, res)\n",
        "sns.heatmap(mat.T, square=True, annot=True, fmt='d', cbar=False,\n",
        "            xticklabels=[\"pos\",\"neg\",\"neu\"], yticklabels=[\"pos\",\"neg\",\"neu\"])\n",
        "plt.xlabel('true label')\n",
        "plt.ylabel('predicted label')"
      ],
      "metadata": {
        "colab": {
          "base_uri": "https://localhost:8080/",
          "height": 520
        },
        "id": "msYqnRlhBDPV",
        "outputId": "0a645d61-2c47-464f-967c-92ffd313b886"
      },
      "execution_count": 138,
      "outputs": [
        {
          "output_type": "execute_result",
          "data": {
            "text/plain": [
              "Text(238.76, 0.5, 'predicted label')"
            ]
          },
          "metadata": {},
          "execution_count": 138
        },
        {
          "output_type": "display_data",
          "data": {
            "text/plain": [
              "<Figure size 936x576 with 1 Axes>"
            ],
            "image/png": "[encoded data removed]"
          },
          "metadata": {}
        }
      ]
    },
    {
      "cell_type": "code",
      "source": [
        "from sklearn.linear_model import PassiveAggressiveClassifier\n",
        "clf = PassiveAggressiveClassifier(random_state=0)\n",
        "vectorized = count_vectorize.fit_transform(X_train[\"tweet\"])\n",
        "clf.fit(vectorized, y_train)"
      ],
      "metadata": {
        "colab": {
          "base_uri": "https://localhost:8080/"
        },
        "id": "qXBaJrPmBFiI",
        "outputId": "639dd475-d6c5-4962-e59e-9b276a016fd8"
      },
      "execution_count": 139,
      "outputs": [
        {
          "output_type": "execute_result",
          "data": {
            "text/plain": [
              "PassiveAggressiveClassifier(random_state=0)"
            ]
          },
          "metadata": {},
          "execution_count": 139
        }
      ]
    },
    {
      "cell_type": "code",
      "source": [
        "vectorized = count_vectorize.transform(X_test[\"tweet\"])\n",
        "res=clf.predict(vectorized)"
      ],
      "metadata": {
        "id": "6IObTJeBBLNx"
      },
      "execution_count": 140,
      "outputs": []
    },
    {
      "cell_type": "code",
      "source": [
        "from sklearn import metrics\n",
        "metrics.accuracy_score(res, y_test)"
      ],
      "metadata": {
        "colab": {
          "base_uri": "https://localhost:8080/"
        },
        "id": "tgUlHshsBN_F",
        "outputId": "17f43f7e-b429-45af-f1d4-b061867a998a"
      },
      "execution_count": 141,
      "outputs": [
        {
          "output_type": "execute_result",
          "data": {
            "text/plain": [
              "0.982927337080991"
            ]
          },
          "metadata": {},
          "execution_count": 141
        }
      ]
    },
    {
      "cell_type": "code",
      "source": [
        "mat = confusion_matrix(y_test, res)\n",
        "sns.heatmap(mat.T, square=True, annot=True, fmt='d', cbar=False,\n",
        "            xticklabels=[\"pos\",\"neg\",\"neu\"], yticklabels=[\"pos\",\"neg\",\"neu\"])\n",
        "plt.xlabel('true label')\n",
        "plt.ylabel('predicted label')"
      ],
      "metadata": {
        "colab": {
          "base_uri": "https://localhost:8080/",
          "height": 520
        },
        "id": "SWOG-FSTBRDA",
        "outputId": "2ea84b4d-26d2-4d73-c144-6db7419aa335"
      },
      "execution_count": 142,
      "outputs": [
        {
          "output_type": "execute_result",
          "data": {
            "text/plain": [
              "Text(238.76, 0.5, 'predicted label')"
            ]
          },
          "metadata": {},
          "execution_count": 142
        },
        {
          "output_type": "display_data",
          "data": {
            "text/plain": [
              "<Figure size 936x576 with 1 Axes>"
            ],
            "image/png": "[encoded data removed]"
          },
          "metadata": {}
        }
      ]
    },
    {
      "cell_type": "code",
      "source": [
        "from sklearn.linear_model import Perceptron\n",
        "clf = Perceptron(random_state=0)\n",
        "vectorized = count_vectorize.fit_transform(X_train[\"tweet\"])\n",
        "clf.fit(vectorized, y_train)"
      ],
      "metadata": {
        "colab": {
          "base_uri": "https://localhost:8080/"
        },
        "id": "tp_bzCkOBUPW",
        "outputId": "9ed53ec2-faee-4a72-fb86-58587a3131ae"
      },
      "execution_count": 143,
      "outputs": [
        {
          "output_type": "execute_result",
          "data": {
            "text/plain": [
              "Perceptron()"
            ]
          },
          "metadata": {},
          "execution_count": 143
        }
      ]
    },
    {
      "cell_type": "code",
      "source": [
        "vectorized = count_vectorize.transform(X_test[\"tweet\"])\n",
        "res=clf.predict(vectorized)"
      ],
      "metadata": {
        "id": "WL71dGzKBZvL"
      },
      "execution_count": 144,
      "outputs": []
    },
    {
      "cell_type": "code",
      "source": [
        "from sklearn import metrics\n",
        "metrics.accuracy_score(res, y_test)"
      ],
      "metadata": {
        "colab": {
          "base_uri": "https://localhost:8080/"
        },
        "id": "UCE6R9iwBc1B",
        "outputId": "28267d33-3195-4684-f27a-dd86304f9f09"
      },
      "execution_count": 145,
      "outputs": [
        {
          "output_type": "execute_result",
          "data": {
            "text/plain": [
              "0.9808453050176973"
            ]
          },
          "metadata": {},
          "execution_count": 145
        }
      ]
    },
    {
      "cell_type": "code",
      "source": [
        "mat = confusion_matrix(y_test, res)\n",
        "sns.heatmap(mat.T, square=True, annot=True, fmt='d', cbar=False,\n",
        "            xticklabels=[\"pos\",\"neg\",\"neu\"], yticklabels=[\"pos\",\"neg\",\"neu\"])\n",
        "plt.xlabel('true label')\n",
        "plt.ylabel('predicted label')"
      ],
      "metadata": {
        "colab": {
          "base_uri": "https://localhost:8080/",
          "height": 520
        },
        "id": "24ZRGeQKBe_G",
        "outputId": "7da1babb-1334-44bc-c8e0-dd453196b709"
      },
      "execution_count": 146,
      "outputs": [
        {
          "output_type": "execute_result",
          "data": {
            "text/plain": [
              "Text(238.76, 0.5, 'predicted label')"
            ]
          },
          "metadata": {},
          "execution_count": 146
        },
        {
          "output_type": "display_data",
          "data": {
            "text/plain": [
              "<Figure size 936x576 with 1 Axes>"
            ],
            "image/png": "[encoded data removed]"
          },
          "metadata": {}
        }
      ]
    },
    {
      "cell_type": "code",
      "source": [],
      "metadata": {
        "id": "90Wnlf9xBhIz"
      },
      "execution_count": null,
      "outputs": []
    }
  ]
}