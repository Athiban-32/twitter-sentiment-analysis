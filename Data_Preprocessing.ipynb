{
  "cells": [
    {
      "cell_type": "code",
      "execution_count": 57,
      "metadata": {
        "id": "1ZNNqn1uQO7Y"
      },
      "outputs": [],
      "source": [
        "import csv,re\n",
        "from textblob import TextBlob\n",
        "import tweepy\n",
        "import re\n",
        "import pandas as pd\n",
        "import matplotlib.pyplot as plt\n",
        "\n",
        "\n",
        "consumer_key= \"ennASdV55gqrbmVLxTon3furf\"\n",
        "consumer_secret= \"v8GqFgbj9TLffgCLjE5r4fIiV2sIcKb68U7li8e1uVJb4R55Vu\"\n",
        "access_token= \"1562124630651191296-lZBqOeK0R4DwIvmAIqKj10V7yFApJY\"\n",
        "access_token_secret= \"sazY33olqA98GkHodxb8ucb74yd9BBw7wcrhvTZo58UeV\"\n",
        "auth= tweepy.OAuthHandler(consumer_key, consumer_secret)\n",
        "auth.set_access_token= (access_token, access_token_secret)\n",
        "api= tweepy.API(auth, wait_on_rate_limit=True)"
      ]
    },
    {
      "cell_type": "code",
      "execution_count": 58,
      "metadata": {
        "colab": {
          "base_uri": "https://localhost:8080/",
          "height": 424
        },
        "id": "VtGCoVQwQPvy",
        "outputId": "e3ff6839-f357-4502-920d-e98313476ac4"
      },
      "outputs": [
        {
          "data": {
            "text/html": [
              "\n",
              "  <div id=\"df-070012af-3cc1-4f9a-b06d-d5e0dfffc1de\">\n",
              "    <div class=\"colab-df-container\">\n",
              "      <div>\n",
              "<style scoped>\n",
              "    .dataframe tbody tr th:only-of-type {\n",
              "        vertical-align: middle;\n",
              "    }\n",
              "\n",
              "    .dataframe tbody tr th {\n",
              "        vertical-align: top;\n",
              "    }\n",
              "\n",
              "    .dataframe thead th {\n",
              "        text-align: right;\n",
              "    }\n",
              "</style>\n",
              "<table border=\"1\" class=\"dataframe\">\n",
              "  <thead>\n",
              "    <tr style=\"text-align: right;\">\n",
              "      <th></th>\n",
              "      <th>tweet</th>\n",
              "    </tr>\n",
              "  </thead>\n",
              "  <tbody>\n",
              "    <tr>\n",
              "      <th>0</th>\n",
              "      <td>RT @CreakyJoints: Here’s what you need to know...</td>\n",
              "    </tr>\n",
              "    <tr>\n",
              "      <th>1</th>\n",
              "      <td>RT @hongjeons: COVID-19 ALERT\\nBE THE SUN MANI...</td>\n",
              "    </tr>\n",
              "    <tr>\n",
              "      <th>2</th>\n",
              "      <td>RT @writinguji: hello! just got tested today f...</td>\n",
              "    </tr>\n",
              "    <tr>\n",
              "      <th>3</th>\n",
              "      <td>RT @junhuihaee: #BeTSinMANILA — covid 19 posit...</td>\n",
              "    </tr>\n",
              "    <tr>\n",
              "      <th>4</th>\n",
              "      <td>RT @byuumie: #BeTSinMANILA — covid 19 positive...</td>\n",
              "    </tr>\n",
              "    <tr>\n",
              "      <th>...</th>\n",
              "      <td>...</td>\n",
              "    </tr>\n",
              "    <tr>\n",
              "      <th>12995</th>\n",
              "      <td>@AlveyChain @Naur_ALV It's really amazing!\\nCa...</td>\n",
              "    </tr>\n",
              "    <tr>\n",
              "      <th>12996</th>\n",
              "      <td>RT @KatePri14608408: Helen has an autoimmune c...</td>\n",
              "    </tr>\n",
              "    <tr>\n",
              "      <th>12997</th>\n",
              "      <td>With growing COVID-19 infections reported on t...</td>\n",
              "    </tr>\n",
              "    <tr>\n",
              "      <th>12998</th>\n",
              "      <td>RT @hkfp: [Recap] 4 Hong Kong civil servants a...</td>\n",
              "    </tr>\n",
              "    <tr>\n",
              "      <th>12999</th>\n",
              "      <td>@YouTube will forever be known as a media outl...</td>\n",
              "    </tr>\n",
              "  </tbody>\n",
              "</table>\n",
              "<p>13000 rows × 1 columns</p>\n",
              "</div>\n",
              "      <button class=\"colab-df-convert\" onclick=\"convertToInteractive('df-070012af-3cc1-4f9a-b06d-d5e0dfffc1de')\"\n",
              "              title=\"Convert this dataframe to an interactive table.\"\n",
              "              style=\"display:none;\">\n",
              "        \n",
              "  <svg xmlns=\"http://www.w3.org/2000/svg\" height=\"24px\"viewBox=\"0 0 24 24\"\n",
              "       width=\"24px\">\n",
              "    <path d=\"M0 0h24v24H0V0z\" fill=\"none\"/>\n",
              "    <path d=\"M18.56 5.44l.94 2.06.94-2.06 2.06-.94-2.06-.94-.94-2.06-.94 2.06-2.06.94zm-11 1L8.5 8.5l.94-2.06 2.06-.94-2.06-.94L8.5 2.5l-.94 2.06-2.06.94zm10 10l.94 2.06.94-2.06 2.06-.94-2.06-.94-.94-2.06-.94 2.06-2.06.94z\"/><path d=\"M17.41 7.96l-1.37-1.37c-.4-.4-.92-.59-1.43-.59-.52 0-1.04.2-1.43.59L10.3 9.45l-7.72 7.72c-.78.78-.78 2.05 0 2.83L4 21.41c.39.39.9.59 1.41.59.51 0 1.02-.2 1.41-.59l7.78-7.78 2.81-2.81c.8-.78.8-2.07 0-2.86zM5.41 20L4 18.59l7.72-7.72 1.47 1.35L5.41 20z\"/>\n",
              "  </svg>\n",
              "      </button>\n",
              "      \n",
              "  <style>\n",
              "    .colab-df-container {\n",
              "      display:flex;\n",
              "      flex-wrap:wrap;\n",
              "      gap: 12px;\n",
              "    }\n",
              "\n",
              "    .colab-df-convert {\n",
              "      background-color: #E8F0FE;\n",
              "      border: none;\n",
              "      border-radius: 50%;\n",
              "      cursor: pointer;\n",
              "      display: none;\n",
              "      fill: #1967D2;\n",
              "      height: 32px;\n",
              "      padding: 0 0 0 0;\n",
              "      width: 32px;\n",
              "    }\n",
              "\n",
              "    .colab-df-convert:hover {\n",
              "      background-color: #E2EBFA;\n",
              "      box-shadow: 0px 1px 2px rgba(60, 64, 67, 0.3), 0px 1px 3px 1px rgba(60, 64, 67, 0.15);\n",
              "      fill: #174EA6;\n",
              "    }\n",
              "\n",
              "    [theme=dark] .colab-df-convert {\n",
              "      background-color: #3B4455;\n",
              "      fill: #D2E3FC;\n",
              "    }\n",
              "\n",
              "    [theme=dark] .colab-df-convert:hover {\n",
              "      background-color: #434B5C;\n",
              "      box-shadow: 0px 1px 3px 1px rgba(0, 0, 0, 0.15);\n",
              "      filter: drop-shadow(0px 1px 2px rgba(0, 0, 0, 0.3));\n",
              "      fill: #FFFFFF;\n",
              "    }\n",
              "  </style>\n",
              "\n",
              "      <script>\n",
              "        const buttonEl =\n",
              "          document.querySelector('#df-070012af-3cc1-4f9a-b06d-d5e0dfffc1de button.colab-df-convert');\n",
              "        buttonEl.style.display =\n",
              "          google.colab.kernel.accessAllowed ? 'block' : 'none';\n",
              "\n",
              "        async function convertToInteractive(key) {\n",
              "          const element = document.querySelector('#df-070012af-3cc1-4f9a-b06d-d5e0dfffc1de');\n",
              "          const dataTable =\n",
              "            await google.colab.kernel.invokeFunction('convertToInteractive',\n",
              "                                                     [key], {});\n",
              "          if (!dataTable) return;\n",
              "\n",
              "          const docLinkHtml = 'Like what you see? Visit the ' +\n",
              "            '<a target=\"_blank\" href=https://colab.research.google.com/notebooks/data_table.ipynb>data table notebook</a>'\n",
              "            + ' to learn more about interactive tables.';\n",
              "          element.innerHTML = '';\n",
              "          dataTable['output_type'] = 'display_data';\n",
              "          await google.colab.output.renderOutput(dataTable, element);\n",
              "          const docLink = document.createElement('div');\n",
              "          docLink.innerHTML = docLinkHtml;\n",
              "          element.appendChild(docLink);\n",
              "        }\n",
              "      </script>\n",
              "    </div>\n",
              "  </div>\n",
              "  "
            ],
            "text/plain": [
              "                                                   tweet\n",
              "0      RT @CreakyJoints: Here’s what you need to know...\n",
              "1      RT @hongjeons: COVID-19 ALERT\\nBE THE SUN MANI...\n",
              "2      RT @writinguji: hello! just got tested today f...\n",
              "3      RT @junhuihaee: #BeTSinMANILA — covid 19 posit...\n",
              "4      RT @byuumie: #BeTSinMANILA — covid 19 positive...\n",
              "...                                                  ...\n",
              "12995  @AlveyChain @Naur_ALV It's really amazing!\\nCa...\n",
              "12996  RT @KatePri14608408: Helen has an autoimmune c...\n",
              "12997  With growing COVID-19 infections reported on t...\n",
              "12998  RT @hkfp: [Recap] 4 Hong Kong civil servants a...\n",
              "12999  @YouTube will forever be known as a media outl...\n",
              "\n",
              "[13000 rows x 1 columns]"
            ]
          },
          "execution_count": 58,
          "metadata": {},
          "output_type": "execute_result"
        }
      ],
      "source": [
        "def func():\n",
        "    tweets = list(tweepy.Cursor(\n",
        "        api.search, \"{0}\".format(\"COVID-19\"), lang=\"en\",tweet_mode='extended', count=13000).items(13000))\n",
        "    Tweet_outpt = []\n",
        "    for i in tweets:\n",
        "        text = i.full_text\n",
        "        place = \"\"\n",
        "        if i.place:\n",
        "            place = i.place.full_name\n",
        "        json_output = {\n",
        "            \"tweet\": text,\n",
        "        }\n",
        "        Tweet_outpt.append(json_output)\n",
        "    return Tweet_outpt\n",
        "final_arr=func()\n",
        "df = pd.DataFrame(final_arr)\n",
        "df"
      ]
    },
    {
      "cell_type": "code",
      "execution_count": 59,
      "metadata": {
        "id": "bUeu_IUcQVRN"
      },
      "outputs": [],
      "source": [
        "\n",
        "def cleanTwt(twt):\n",
        "  twt = re.sub('COVID-19','COVID-19',twt)\n",
        "  twt = re.sub('COVID19','COVID19',twt)\n",
        "  twt = re.sub('#[A-Za-z0-9]+', '', twt)\n",
        "  twt = re.sub('\\\\n', '', twt)\n",
        "  twt = re.sub('https?:\\/\\/\\S+', '', twt)\n",
        "  twt = re.sub('@[^\\s]+','',twt)\n",
        "  twt = re.sub('RT','',twt)\n",
        "  twt = re.sub('!','',twt)\n",
        "  \n",
        "  twt = ''.join([i if ord(i) < 128 else '' for i in twt])\n",
        "  \n",
        "  return twt\n",
        "\n",
        "\n"
      ]
    },
    {
      "cell_type": "code",
      "execution_count": 60,
      "metadata": {
        "colab": {
          "base_uri": "https://localhost:8080/",
          "height": 424
        },
        "id": "Nw6O52SiQl69",
        "outputId": "4cda9100-bdce-42c5-c97b-60217a63774e"
      },
      "outputs": [
        {
          "data": {
            "text/html": [
              "\n",
              "  <div id=\"df-1ab3eb2f-9b3f-42ad-8750-3b348e01f50e\">\n",
              "    <div class=\"colab-df-container\">\n",
              "      <div>\n",
              "<style scoped>\n",
              "    .dataframe tbody tr th:only-of-type {\n",
              "        vertical-align: middle;\n",
              "    }\n",
              "\n",
              "    .dataframe tbody tr th {\n",
              "        vertical-align: top;\n",
              "    }\n",
              "\n",
              "    .dataframe thead th {\n",
              "        text-align: right;\n",
              "    }\n",
              "</style>\n",
              "<table border=\"1\" class=\"dataframe\">\n",
              "  <thead>\n",
              "    <tr style=\"text-align: right;\">\n",
              "      <th></th>\n",
              "      <th>tweet</th>\n",
              "      <th>cleaned tweets</th>\n",
              "    </tr>\n",
              "  </thead>\n",
              "  <tbody>\n",
              "    <tr>\n",
              "      <th>0</th>\n",
              "      <td>RT @CreakyJoints: Here’s what you need to know...</td>\n",
              "      <td>Heres what you need to know about getting th...</td>\n",
              "    </tr>\n",
              "    <tr>\n",
              "      <th>1</th>\n",
              "      <td>RT @hongjeons: COVID-19 ALERT\\nBE THE SUN MANI...</td>\n",
              "      <td>COVID-19 ALEBE THE SUN MANILAThread to be up...</td>\n",
              "    </tr>\n",
              "    <tr>\n",
              "      <th>2</th>\n",
              "      <td>RT @writinguji: hello! just got tested today f...</td>\n",
              "      <td>hello just got tested today for covid 19 and...</td>\n",
              "    </tr>\n",
              "    <tr>\n",
              "      <th>3</th>\n",
              "      <td>RT @junhuihaee: #BeTSinMANILA — covid 19 posit...</td>\n",
              "      <td>covid 19 positive cases  (see thread if th...</td>\n",
              "    </tr>\n",
              "    <tr>\n",
              "      <th>4</th>\n",
              "      <td>RT @byuumie: #BeTSinMANILA — covid 19 positive...</td>\n",
              "      <td>covid 19 positive cases  (see thread if th...</td>\n",
              "    </tr>\n",
              "    <tr>\n",
              "      <th>...</th>\n",
              "      <td>...</td>\n",
              "      <td>...</td>\n",
              "    </tr>\n",
              "    <tr>\n",
              "      <th>95</th>\n",
              "      <td>RT @writinguji: hello! just got tested today f...</td>\n",
              "      <td>hello just got tested today for covid 19 and...</td>\n",
              "    </tr>\n",
              "    <tr>\n",
              "      <th>96</th>\n",
              "      <td>RT @writinguji: hello! just got tested today f...</td>\n",
              "      <td>hello just got tested today for covid 19 and...</td>\n",
              "    </tr>\n",
              "    <tr>\n",
              "      <th>97</th>\n",
              "      <td>@Taffinexile1 @toadmeister Oooh do enlighten m...</td>\n",
              "      <td>Oooh do enlighten me then. If \"severely rest...</td>\n",
              "    </tr>\n",
              "    <tr>\n",
              "      <th>98</th>\n",
              "      <td>RT @hongjeons: COVID-19 ALERT\\nBE THE SUN MANI...</td>\n",
              "      <td>COVID-19 ALEBE THE SUN MANILAThread to be up...</td>\n",
              "    </tr>\n",
              "    <tr>\n",
              "      <th>99</th>\n",
              "      <td>Help us develop an early warning system for di...</td>\n",
              "      <td>Help us develop an early warning system for di...</td>\n",
              "    </tr>\n",
              "  </tbody>\n",
              "</table>\n",
              "<p>100 rows × 2 columns</p>\n",
              "</div>\n",
              "      <button class=\"colab-df-convert\" onclick=\"convertToInteractive('df-1ab3eb2f-9b3f-42ad-8750-3b348e01f50e')\"\n",
              "              title=\"Convert this dataframe to an interactive table.\"\n",
              "              style=\"display:none;\">\n",
              "        \n",
              "  <svg xmlns=\"http://www.w3.org/2000/svg\" height=\"24px\"viewBox=\"0 0 24 24\"\n",
              "       width=\"24px\">\n",
              "    <path d=\"M0 0h24v24H0V0z\" fill=\"none\"/>\n",
              "    <path d=\"M18.56 5.44l.94 2.06.94-2.06 2.06-.94-2.06-.94-.94-2.06-.94 2.06-2.06.94zm-11 1L8.5 8.5l.94-2.06 2.06-.94-2.06-.94L8.5 2.5l-.94 2.06-2.06.94zm10 10l.94 2.06.94-2.06 2.06-.94-2.06-.94-.94-2.06-.94 2.06-2.06.94z\"/><path d=\"M17.41 7.96l-1.37-1.37c-.4-.4-.92-.59-1.43-.59-.52 0-1.04.2-1.43.59L10.3 9.45l-7.72 7.72c-.78.78-.78 2.05 0 2.83L4 21.41c.39.39.9.59 1.41.59.51 0 1.02-.2 1.41-.59l7.78-7.78 2.81-2.81c.8-.78.8-2.07 0-2.86zM5.41 20L4 18.59l7.72-7.72 1.47 1.35L5.41 20z\"/>\n",
              "  </svg>\n",
              "      </button>\n",
              "      \n",
              "  <style>\n",
              "    .colab-df-container {\n",
              "      display:flex;\n",
              "      flex-wrap:wrap;\n",
              "      gap: 12px;\n",
              "    }\n",
              "\n",
              "    .colab-df-convert {\n",
              "      background-color: #E8F0FE;\n",
              "      border: none;\n",
              "      border-radius: 50%;\n",
              "      cursor: pointer;\n",
              "      display: none;\n",
              "      fill: #1967D2;\n",
              "      height: 32px;\n",
              "      padding: 0 0 0 0;\n",
              "      width: 32px;\n",
              "    }\n",
              "\n",
              "    .colab-df-convert:hover {\n",
              "      background-color: #E2EBFA;\n",
              "      box-shadow: 0px 1px 2px rgba(60, 64, 67, 0.3), 0px 1px 3px 1px rgba(60, 64, 67, 0.15);\n",
              "      fill: #174EA6;\n",
              "    }\n",
              "\n",
              "    [theme=dark] .colab-df-convert {\n",
              "      background-color: #3B4455;\n",
              "      fill: #D2E3FC;\n",
              "    }\n",
              "\n",
              "    [theme=dark] .colab-df-convert:hover {\n",
              "      background-color: #434B5C;\n",
              "      box-shadow: 0px 1px 3px 1px rgba(0, 0, 0, 0.15);\n",
              "      filter: drop-shadow(0px 1px 2px rgba(0, 0, 0, 0.3));\n",
              "      fill: #FFFFFF;\n",
              "    }\n",
              "  </style>\n",
              "\n",
              "      <script>\n",
              "        const buttonEl =\n",
              "          document.querySelector('#df-1ab3eb2f-9b3f-42ad-8750-3b348e01f50e button.colab-df-convert');\n",
              "        buttonEl.style.display =\n",
              "          google.colab.kernel.accessAllowed ? 'block' : 'none';\n",
              "\n",
              "        async function convertToInteractive(key) {\n",
              "          const element = document.querySelector('#df-1ab3eb2f-9b3f-42ad-8750-3b348e01f50e');\n",
              "          const dataTable =\n",
              "            await google.colab.kernel.invokeFunction('convertToInteractive',\n",
              "                                                     [key], {});\n",
              "          if (!dataTable) return;\n",
              "\n",
              "          const docLinkHtml = 'Like what you see? Visit the ' +\n",
              "            '<a target=\"_blank\" href=https://colab.research.google.com/notebooks/data_table.ipynb>data table notebook</a>'\n",
              "            + ' to learn more about interactive tables.';\n",
              "          element.innerHTML = '';\n",
              "          dataTable['output_type'] = 'display_data';\n",
              "          await google.colab.output.renderOutput(dataTable, element);\n",
              "          const docLink = document.createElement('div');\n",
              "          docLink.innerHTML = docLinkHtml;\n",
              "          element.appendChild(docLink);\n",
              "        }\n",
              "      </script>\n",
              "    </div>\n",
              "  </div>\n",
              "  "
            ],
            "text/plain": [
              "                                                tweet  \\\n",
              "0   RT @CreakyJoints: Here’s what you need to know...   \n",
              "1   RT @hongjeons: COVID-19 ALERT\\nBE THE SUN MANI...   \n",
              "2   RT @writinguji: hello! just got tested today f...   \n",
              "3   RT @junhuihaee: #BeTSinMANILA — covid 19 posit...   \n",
              "4   RT @byuumie: #BeTSinMANILA — covid 19 positive...   \n",
              "..                                                ...   \n",
              "95  RT @writinguji: hello! just got tested today f...   \n",
              "96  RT @writinguji: hello! just got tested today f...   \n",
              "97  @Taffinexile1 @toadmeister Oooh do enlighten m...   \n",
              "98  RT @hongjeons: COVID-19 ALERT\\nBE THE SUN MANI...   \n",
              "99  Help us develop an early warning system for di...   \n",
              "\n",
              "                                       cleaned tweets  \n",
              "0     Heres what you need to know about getting th...  \n",
              "1     COVID-19 ALEBE THE SUN MANILAThread to be up...  \n",
              "2     hello just got tested today for covid 19 and...  \n",
              "3       covid 19 positive cases  (see thread if th...  \n",
              "4       covid 19 positive cases  (see thread if th...  \n",
              "..                                                ...  \n",
              "95    hello just got tested today for covid 19 and...  \n",
              "96    hello just got tested today for covid 19 and...  \n",
              "97    Oooh do enlighten me then. If \"severely rest...  \n",
              "98    COVID-19 ALEBE THE SUN MANILAThread to be up...  \n",
              "99  Help us develop an early warning system for di...  \n",
              "\n",
              "[100 rows x 2 columns]"
            ]
          },
          "execution_count": 60,
          "metadata": {},
          "output_type": "execute_result"
        }
      ],
      "source": [
        "#cleaned tweets\n",
        "df['cleaned tweets'] = df['tweet'].apply(cleanTwt)\n",
        "\n",
        "df.head(100)"
      ]
    },
    {
      "cell_type": "code",
      "execution_count": 61,
      "metadata": {
        "id": "a6BgyTZ9bpxp"
      },
      "outputs": [],
      "source": [
        "\n",
        "df.to_csv('tweets.csv')"
      ]
    },
    {
      "cell_type": "code",
      "execution_count": 62,
      "metadata": {
        "colab": {
          "base_uri": "https://localhost:8080/",
          "height": 589
        },
        "id": "pdQtH3Y_TZv6",
        "outputId": "71d2abfc-ee80-4b30-bc7f-0b8a6b4ffb83"
      },
      "outputs": [
        {
          "data": {
            "text/html": [
              "\n",
              "  <div id=\"df-22a9a141-6674-44ed-80c0-f01a1e93bd47\">\n",
              "    <div class=\"colab-df-container\">\n",
              "      <div>\n",
              "<style scoped>\n",
              "    .dataframe tbody tr th:only-of-type {\n",
              "        vertical-align: middle;\n",
              "    }\n",
              "\n",
              "    .dataframe tbody tr th {\n",
              "        vertical-align: top;\n",
              "    }\n",
              "\n",
              "    .dataframe thead th {\n",
              "        text-align: right;\n",
              "    }\n",
              "</style>\n",
              "<table border=\"1\" class=\"dataframe\">\n",
              "  <thead>\n",
              "    <tr style=\"text-align: right;\">\n",
              "      <th></th>\n",
              "      <th>tweet</th>\n",
              "      <th>cleaned tweets</th>\n",
              "      <th>Subjectivity</th>\n",
              "      <th>Polarity</th>\n",
              "    </tr>\n",
              "  </thead>\n",
              "  <tbody>\n",
              "    <tr>\n",
              "      <th>0</th>\n",
              "      <td>RT @CreakyJoints: Here’s what you need to know...</td>\n",
              "      <td>Heres what you need to know about getting th...</td>\n",
              "      <td>0.900000</td>\n",
              "      <td>0.500000</td>\n",
              "    </tr>\n",
              "    <tr>\n",
              "      <th>1</th>\n",
              "      <td>RT @hongjeons: COVID-19 ALERT\\nBE THE SUN MANI...</td>\n",
              "      <td>COVID-19 ALEBE THE SUN MANILAThread to be up...</td>\n",
              "      <td>0.000000</td>\n",
              "      <td>0.000000</td>\n",
              "    </tr>\n",
              "    <tr>\n",
              "      <th>2</th>\n",
              "      <td>RT @writinguji: hello! just got tested today f...</td>\n",
              "      <td>hello just got tested today for covid 19 and...</td>\n",
              "      <td>0.311189</td>\n",
              "      <td>0.113636</td>\n",
              "    </tr>\n",
              "    <tr>\n",
              "      <th>3</th>\n",
              "      <td>RT @junhuihaee: #BeTSinMANILA — covid 19 posit...</td>\n",
              "      <td>covid 19 positive cases  (see thread if th...</td>\n",
              "      <td>0.545455</td>\n",
              "      <td>0.227273</td>\n",
              "    </tr>\n",
              "    <tr>\n",
              "      <th>4</th>\n",
              "      <td>RT @byuumie: #BeTSinMANILA — covid 19 positive...</td>\n",
              "      <td>covid 19 positive cases  (see thread if th...</td>\n",
              "      <td>0.545455</td>\n",
              "      <td>0.227273</td>\n",
              "    </tr>\n",
              "    <tr>\n",
              "      <th>...</th>\n",
              "      <td>...</td>\n",
              "      <td>...</td>\n",
              "      <td>...</td>\n",
              "      <td>...</td>\n",
              "    </tr>\n",
              "    <tr>\n",
              "      <th>95</th>\n",
              "      <td>RT @writinguji: hello! just got tested today f...</td>\n",
              "      <td>hello just got tested today for covid 19 and...</td>\n",
              "      <td>0.311189</td>\n",
              "      <td>0.113636</td>\n",
              "    </tr>\n",
              "    <tr>\n",
              "      <th>96</th>\n",
              "      <td>RT @writinguji: hello! just got tested today f...</td>\n",
              "      <td>hello just got tested today for covid 19 and...</td>\n",
              "      <td>0.311189</td>\n",
              "      <td>0.113636</td>\n",
              "    </tr>\n",
              "    <tr>\n",
              "      <th>97</th>\n",
              "      <td>@Taffinexile1 @toadmeister Oooh do enlighten m...</td>\n",
              "      <td>Oooh do enlighten me then. If \"severely rest...</td>\n",
              "      <td>0.601389</td>\n",
              "      <td>0.187500</td>\n",
              "    </tr>\n",
              "    <tr>\n",
              "      <th>98</th>\n",
              "      <td>RT @hongjeons: COVID-19 ALERT\\nBE THE SUN MANI...</td>\n",
              "      <td>COVID-19 ALEBE THE SUN MANILAThread to be up...</td>\n",
              "      <td>0.000000</td>\n",
              "      <td>0.000000</td>\n",
              "    </tr>\n",
              "    <tr>\n",
              "      <th>99</th>\n",
              "      <td>Help us develop an early warning system for di...</td>\n",
              "      <td>Help us develop an early warning system for di...</td>\n",
              "      <td>0.418750</td>\n",
              "      <td>0.009375</td>\n",
              "    </tr>\n",
              "  </tbody>\n",
              "</table>\n",
              "<p>100 rows × 4 columns</p>\n",
              "</div>\n",
              "      <button class=\"colab-df-convert\" onclick=\"convertToInteractive('df-22a9a141-6674-44ed-80c0-f01a1e93bd47')\"\n",
              "              title=\"Convert this dataframe to an interactive table.\"\n",
              "              style=\"display:none;\">\n",
              "        \n",
              "  <svg xmlns=\"http://www.w3.org/2000/svg\" height=\"24px\"viewBox=\"0 0 24 24\"\n",
              "       width=\"24px\">\n",
              "    <path d=\"M0 0h24v24H0V0z\" fill=\"none\"/>\n",
              "    <path d=\"M18.56 5.44l.94 2.06.94-2.06 2.06-.94-2.06-.94-.94-2.06-.94 2.06-2.06.94zm-11 1L8.5 8.5l.94-2.06 2.06-.94-2.06-.94L8.5 2.5l-.94 2.06-2.06.94zm10 10l.94 2.06.94-2.06 2.06-.94-2.06-.94-.94-2.06-.94 2.06-2.06.94z\"/><path d=\"M17.41 7.96l-1.37-1.37c-.4-.4-.92-.59-1.43-.59-.52 0-1.04.2-1.43.59L10.3 9.45l-7.72 7.72c-.78.78-.78 2.05 0 2.83L4 21.41c.39.39.9.59 1.41.59.51 0 1.02-.2 1.41-.59l7.78-7.78 2.81-2.81c.8-.78.8-2.07 0-2.86zM5.41 20L4 18.59l7.72-7.72 1.47 1.35L5.41 20z\"/>\n",
              "  </svg>\n",
              "      </button>\n",
              "      \n",
              "  <style>\n",
              "    .colab-df-container {\n",
              "      display:flex;\n",
              "      flex-wrap:wrap;\n",
              "      gap: 12px;\n",
              "    }\n",
              "\n",
              "    .colab-df-convert {\n",
              "      background-color: #E8F0FE;\n",
              "      border: none;\n",
              "      border-radius: 50%;\n",
              "      cursor: pointer;\n",
              "      display: none;\n",
              "      fill: #1967D2;\n",
              "      height: 32px;\n",
              "      padding: 0 0 0 0;\n",
              "      width: 32px;\n",
              "    }\n",
              "\n",
              "    .colab-df-convert:hover {\n",
              "      background-color: #E2EBFA;\n",
              "      box-shadow: 0px 1px 2px rgba(60, 64, 67, 0.3), 0px 1px 3px 1px rgba(60, 64, 67, 0.15);\n",
              "      fill: #174EA6;\n",
              "    }\n",
              "\n",
              "    [theme=dark] .colab-df-convert {\n",
              "      background-color: #3B4455;\n",
              "      fill: #D2E3FC;\n",
              "    }\n",
              "\n",
              "    [theme=dark] .colab-df-convert:hover {\n",
              "      background-color: #434B5C;\n",
              "      box-shadow: 0px 1px 3px 1px rgba(0, 0, 0, 0.15);\n",
              "      filter: drop-shadow(0px 1px 2px rgba(0, 0, 0, 0.3));\n",
              "      fill: #FFFFFF;\n",
              "    }\n",
              "  </style>\n",
              "\n",
              "      <script>\n",
              "        const buttonEl =\n",
              "          document.querySelector('#df-22a9a141-6674-44ed-80c0-f01a1e93bd47 button.colab-df-convert');\n",
              "        buttonEl.style.display =\n",
              "          google.colab.kernel.accessAllowed ? 'block' : 'none';\n",
              "\n",
              "        async function convertToInteractive(key) {\n",
              "          const element = document.querySelector('#df-22a9a141-6674-44ed-80c0-f01a1e93bd47');\n",
              "          const dataTable =\n",
              "            await google.colab.kernel.invokeFunction('convertToInteractive',\n",
              "                                                     [key], {});\n",
              "          if (!dataTable) return;\n",
              "\n",
              "          const docLinkHtml = 'Like what you see? Visit the ' +\n",
              "            '<a target=\"_blank\" href=https://colab.research.google.com/notebooks/data_table.ipynb>data table notebook</a>'\n",
              "            + ' to learn more about interactive tables.';\n",
              "          element.innerHTML = '';\n",
              "          dataTable['output_type'] = 'display_data';\n",
              "          await google.colab.output.renderOutput(dataTable, element);\n",
              "          const docLink = document.createElement('div');\n",
              "          docLink.innerHTML = docLinkHtml;\n",
              "          element.appendChild(docLink);\n",
              "        }\n",
              "      </script>\n",
              "    </div>\n",
              "  </div>\n",
              "  "
            ],
            "text/plain": [
              "                                                tweet  \\\n",
              "0   RT @CreakyJoints: Here’s what you need to know...   \n",
              "1   RT @hongjeons: COVID-19 ALERT\\nBE THE SUN MANI...   \n",
              "2   RT @writinguji: hello! just got tested today f...   \n",
              "3   RT @junhuihaee: #BeTSinMANILA — covid 19 posit...   \n",
              "4   RT @byuumie: #BeTSinMANILA — covid 19 positive...   \n",
              "..                                                ...   \n",
              "95  RT @writinguji: hello! just got tested today f...   \n",
              "96  RT @writinguji: hello! just got tested today f...   \n",
              "97  @Taffinexile1 @toadmeister Oooh do enlighten m...   \n",
              "98  RT @hongjeons: COVID-19 ALERT\\nBE THE SUN MANI...   \n",
              "99  Help us develop an early warning system for di...   \n",
              "\n",
              "                                       cleaned tweets  Subjectivity  Polarity  \n",
              "0     Heres what you need to know about getting th...      0.900000  0.500000  \n",
              "1     COVID-19 ALEBE THE SUN MANILAThread to be up...      0.000000  0.000000  \n",
              "2     hello just got tested today for covid 19 and...      0.311189  0.113636  \n",
              "3       covid 19 positive cases  (see thread if th...      0.545455  0.227273  \n",
              "4       covid 19 positive cases  (see thread if th...      0.545455  0.227273  \n",
              "..                                                ...           ...       ...  \n",
              "95    hello just got tested today for covid 19 and...      0.311189  0.113636  \n",
              "96    hello just got tested today for covid 19 and...      0.311189  0.113636  \n",
              "97    Oooh do enlighten me then. If \"severely rest...      0.601389  0.187500  \n",
              "98    COVID-19 ALEBE THE SUN MANILAThread to be up...      0.000000  0.000000  \n",
              "99  Help us develop an early warning system for di...      0.418750  0.009375  \n",
              "\n",
              "[100 rows x 4 columns]"
            ]
          },
          "execution_count": 62,
          "metadata": {},
          "output_type": "execute_result"
        }
      ],
      "source": [
        "#Text Blob (Data Labeling)\n",
        "\n",
        "def getSubjectivity(twt):\n",
        "  return TextBlob(twt).sentiment.subjectivity\n",
        "\n",
        "def getPolarity(twt):\n",
        "  return TextBlob(twt).sentiment.polarity\n",
        "\n",
        "#creating two columns subjectivity and polarity\n",
        "\n",
        "df['Subjectivity'] = df['cleaned tweets'].apply(getSubjectivity)\n",
        "df['Polarity'] = df['cleaned tweets'].apply(getPolarity)\n",
        "\n",
        "df.head(100)"
      ]
    },
    {
      "cell_type": "code",
      "execution_count": 63,
      "metadata": {
        "id": "2TVfqtiWYaLy"
      },
      "outputs": [],
      "source": [
        "#creating a function for sentiment text\n",
        "\n",
        "def getSentiment(score):\n",
        "  if score < 0:\n",
        "    return 0\n",
        "\n",
        "  elif score == 0:\n",
        "    return 2\n",
        "  elif score > 0:\n",
        "    return 1\n"
      ]
    },
    {
      "cell_type": "code",
      "execution_count": 64,
      "metadata": {
        "colab": {
          "base_uri": "https://localhost:8080/",
          "height": 641
        },
        "id": "C13vwRhqYekA",
        "outputId": "b901f7fa-71fb-4e66-8fe5-c6ab9536a903"
      },
      "outputs": [
        {
          "data": {
            "text/html": [
              "\n",
              "  <div id=\"df-f7b69890-8f5c-4fa7-881e-58c2c6180240\">\n",
              "    <div class=\"colab-df-container\">\n",
              "      <div>\n",
              "<style scoped>\n",
              "    .dataframe tbody tr th:only-of-type {\n",
              "        vertical-align: middle;\n",
              "    }\n",
              "\n",
              "    .dataframe tbody tr th {\n",
              "        vertical-align: top;\n",
              "    }\n",
              "\n",
              "    .dataframe thead th {\n",
              "        text-align: right;\n",
              "    }\n",
              "</style>\n",
              "<table border=\"1\" class=\"dataframe\">\n",
              "  <thead>\n",
              "    <tr style=\"text-align: right;\">\n",
              "      <th></th>\n",
              "      <th>tweet</th>\n",
              "      <th>cleaned tweets</th>\n",
              "      <th>Subjectivity</th>\n",
              "      <th>Polarity</th>\n",
              "      <th>Sentiment</th>\n",
              "    </tr>\n",
              "  </thead>\n",
              "  <tbody>\n",
              "    <tr>\n",
              "      <th>0</th>\n",
              "      <td>RT @CreakyJoints: Here’s what you need to know...</td>\n",
              "      <td>Heres what you need to know about getting th...</td>\n",
              "      <td>0.900000</td>\n",
              "      <td>0.500000</td>\n",
              "      <td>1</td>\n",
              "    </tr>\n",
              "    <tr>\n",
              "      <th>1</th>\n",
              "      <td>RT @hongjeons: COVID-19 ALERT\\nBE THE SUN MANI...</td>\n",
              "      <td>COVID-19 ALEBE THE SUN MANILAThread to be up...</td>\n",
              "      <td>0.000000</td>\n",
              "      <td>0.000000</td>\n",
              "      <td>2</td>\n",
              "    </tr>\n",
              "    <tr>\n",
              "      <th>2</th>\n",
              "      <td>RT @writinguji: hello! just got tested today f...</td>\n",
              "      <td>hello just got tested today for covid 19 and...</td>\n",
              "      <td>0.311189</td>\n",
              "      <td>0.113636</td>\n",
              "      <td>1</td>\n",
              "    </tr>\n",
              "    <tr>\n",
              "      <th>3</th>\n",
              "      <td>RT @junhuihaee: #BeTSinMANILA — covid 19 posit...</td>\n",
              "      <td>covid 19 positive cases  (see thread if th...</td>\n",
              "      <td>0.545455</td>\n",
              "      <td>0.227273</td>\n",
              "      <td>1</td>\n",
              "    </tr>\n",
              "    <tr>\n",
              "      <th>4</th>\n",
              "      <td>RT @byuumie: #BeTSinMANILA — covid 19 positive...</td>\n",
              "      <td>covid 19 positive cases  (see thread if th...</td>\n",
              "      <td>0.545455</td>\n",
              "      <td>0.227273</td>\n",
              "      <td>1</td>\n",
              "    </tr>\n",
              "    <tr>\n",
              "      <th>...</th>\n",
              "      <td>...</td>\n",
              "      <td>...</td>\n",
              "      <td>...</td>\n",
              "      <td>...</td>\n",
              "      <td>...</td>\n",
              "    </tr>\n",
              "    <tr>\n",
              "      <th>9995</th>\n",
              "      <td>For example, the stresses induced by the COVID...</td>\n",
              "      <td>For example, the stresses induced by the COVID...</td>\n",
              "      <td>0.133333</td>\n",
              "      <td>-0.066667</td>\n",
              "      <td>0</td>\n",
              "    </tr>\n",
              "    <tr>\n",
              "      <th>9996</th>\n",
              "      <td>RT @FLSurgeonGen: Today, we released an analys...</td>\n",
              "      <td>Today, we released an analysis on COVID-19 m...</td>\n",
              "      <td>0.158333</td>\n",
              "      <td>0.125000</td>\n",
              "      <td>1</td>\n",
              "    </tr>\n",
              "    <tr>\n",
              "      <th>9997</th>\n",
              "      <td>RT @FLSurgeonGen: Today, we released an analys...</td>\n",
              "      <td>Today, we released an analysis on COVID-19 m...</td>\n",
              "      <td>0.158333</td>\n",
              "      <td>0.125000</td>\n",
              "      <td>1</td>\n",
              "    </tr>\n",
              "    <tr>\n",
              "      <th>9998</th>\n",
              "      <td>RT @cbs_ke: The Nairobi Securities Exchange (N...</td>\n",
              "      <td>The Nairobi Securities Exchange (NSE) has re...</td>\n",
              "      <td>0.095833</td>\n",
              "      <td>-0.062500</td>\n",
              "      <td>0</td>\n",
              "    </tr>\n",
              "    <tr>\n",
              "      <th>9999</th>\n",
              "      <td>RT @TRyanGregory: Since 2020, COVID-19 has res...</td>\n",
              "      <td>Since 2020, COVID-19 has resulted in 1.06 mi...</td>\n",
              "      <td>0.166667</td>\n",
              "      <td>0.166667</td>\n",
              "      <td>1</td>\n",
              "    </tr>\n",
              "  </tbody>\n",
              "</table>\n",
              "<p>10000 rows × 5 columns</p>\n",
              "</div>\n",
              "      <button class=\"colab-df-convert\" onclick=\"convertToInteractive('df-f7b69890-8f5c-4fa7-881e-58c2c6180240')\"\n",
              "              title=\"Convert this dataframe to an interactive table.\"\n",
              "              style=\"display:none;\">\n",
              "        \n",
              "  <svg xmlns=\"http://www.w3.org/2000/svg\" height=\"24px\"viewBox=\"0 0 24 24\"\n",
              "       width=\"24px\">\n",
              "    <path d=\"M0 0h24v24H0V0z\" fill=\"none\"/>\n",
              "    <path d=\"M18.56 5.44l.94 2.06.94-2.06 2.06-.94-2.06-.94-.94-2.06-.94 2.06-2.06.94zm-11 1L8.5 8.5l.94-2.06 2.06-.94-2.06-.94L8.5 2.5l-.94 2.06-2.06.94zm10 10l.94 2.06.94-2.06 2.06-.94-2.06-.94-.94-2.06-.94 2.06-2.06.94z\"/><path d=\"M17.41 7.96l-1.37-1.37c-.4-.4-.92-.59-1.43-.59-.52 0-1.04.2-1.43.59L10.3 9.45l-7.72 7.72c-.78.78-.78 2.05 0 2.83L4 21.41c.39.39.9.59 1.41.59.51 0 1.02-.2 1.41-.59l7.78-7.78 2.81-2.81c.8-.78.8-2.07 0-2.86zM5.41 20L4 18.59l7.72-7.72 1.47 1.35L5.41 20z\"/>\n",
              "  </svg>\n",
              "      </button>\n",
              "      \n",
              "  <style>\n",
              "    .colab-df-container {\n",
              "      display:flex;\n",
              "      flex-wrap:wrap;\n",
              "      gap: 12px;\n",
              "    }\n",
              "\n",
              "    .colab-df-convert {\n",
              "      background-color: #E8F0FE;\n",
              "      border: none;\n",
              "      border-radius: 50%;\n",
              "      cursor: pointer;\n",
              "      display: none;\n",
              "      fill: #1967D2;\n",
              "      height: 32px;\n",
              "      padding: 0 0 0 0;\n",
              "      width: 32px;\n",
              "    }\n",
              "\n",
              "    .colab-df-convert:hover {\n",
              "      background-color: #E2EBFA;\n",
              "      box-shadow: 0px 1px 2px rgba(60, 64, 67, 0.3), 0px 1px 3px 1px rgba(60, 64, 67, 0.15);\n",
              "      fill: #174EA6;\n",
              "    }\n",
              "\n",
              "    [theme=dark] .colab-df-convert {\n",
              "      background-color: #3B4455;\n",
              "      fill: #D2E3FC;\n",
              "    }\n",
              "\n",
              "    [theme=dark] .colab-df-convert:hover {\n",
              "      background-color: #434B5C;\n",
              "      box-shadow: 0px 1px 3px 1px rgba(0, 0, 0, 0.15);\n",
              "      filter: drop-shadow(0px 1px 2px rgba(0, 0, 0, 0.3));\n",
              "      fill: #FFFFFF;\n",
              "    }\n",
              "  </style>\n",
              "\n",
              "      <script>\n",
              "        const buttonEl =\n",
              "          document.querySelector('#df-f7b69890-8f5c-4fa7-881e-58c2c6180240 button.colab-df-convert');\n",
              "        buttonEl.style.display =\n",
              "          google.colab.kernel.accessAllowed ? 'block' : 'none';\n",
              "\n",
              "        async function convertToInteractive(key) {\n",
              "          const element = document.querySelector('#df-f7b69890-8f5c-4fa7-881e-58c2c6180240');\n",
              "          const dataTable =\n",
              "            await google.colab.kernel.invokeFunction('convertToInteractive',\n",
              "                                                     [key], {});\n",
              "          if (!dataTable) return;\n",
              "\n",
              "          const docLinkHtml = 'Like what you see? Visit the ' +\n",
              "            '<a target=\"_blank\" href=https://colab.research.google.com/notebooks/data_table.ipynb>data table notebook</a>'\n",
              "            + ' to learn more about interactive tables.';\n",
              "          element.innerHTML = '';\n",
              "          dataTable['output_type'] = 'display_data';\n",
              "          await google.colab.output.renderOutput(dataTable, element);\n",
              "          const docLink = document.createElement('div');\n",
              "          docLink.innerHTML = docLinkHtml;\n",
              "          element.appendChild(docLink);\n",
              "        }\n",
              "      </script>\n",
              "    </div>\n",
              "  </div>\n",
              "  "
            ],
            "text/plain": [
              "                                                  tweet  \\\n",
              "0     RT @CreakyJoints: Here’s what you need to know...   \n",
              "1     RT @hongjeons: COVID-19 ALERT\\nBE THE SUN MANI...   \n",
              "2     RT @writinguji: hello! just got tested today f...   \n",
              "3     RT @junhuihaee: #BeTSinMANILA — covid 19 posit...   \n",
              "4     RT @byuumie: #BeTSinMANILA — covid 19 positive...   \n",
              "...                                                 ...   \n",
              "9995  For example, the stresses induced by the COVID...   \n",
              "9996  RT @FLSurgeonGen: Today, we released an analys...   \n",
              "9997  RT @FLSurgeonGen: Today, we released an analys...   \n",
              "9998  RT @cbs_ke: The Nairobi Securities Exchange (N...   \n",
              "9999  RT @TRyanGregory: Since 2020, COVID-19 has res...   \n",
              "\n",
              "                                         cleaned tweets  Subjectivity  \\\n",
              "0       Heres what you need to know about getting th...      0.900000   \n",
              "1       COVID-19 ALEBE THE SUN MANILAThread to be up...      0.000000   \n",
              "2       hello just got tested today for covid 19 and...      0.311189   \n",
              "3         covid 19 positive cases  (see thread if th...      0.545455   \n",
              "4         covid 19 positive cases  (see thread if th...      0.545455   \n",
              "...                                                 ...           ...   \n",
              "9995  For example, the stresses induced by the COVID...      0.133333   \n",
              "9996    Today, we released an analysis on COVID-19 m...      0.158333   \n",
              "9997    Today, we released an analysis on COVID-19 m...      0.158333   \n",
              "9998    The Nairobi Securities Exchange (NSE) has re...      0.095833   \n",
              "9999    Since 2020, COVID-19 has resulted in 1.06 mi...      0.166667   \n",
              "\n",
              "      Polarity  Sentiment  \n",
              "0     0.500000          1  \n",
              "1     0.000000          2  \n",
              "2     0.113636          1  \n",
              "3     0.227273          1  \n",
              "4     0.227273          1  \n",
              "...        ...        ...  \n",
              "9995 -0.066667          0  \n",
              "9996  0.125000          1  \n",
              "9997  0.125000          1  \n",
              "9998 -0.062500          0  \n",
              "9999  0.166667          1  \n",
              "\n",
              "[10000 rows x 5 columns]"
            ]
          },
          "execution_count": 64,
          "metadata": {},
          "output_type": "execute_result"
        }
      ],
      "source": [
        "df['Sentiment'] = df['Polarity'].apply(getSentiment)\n",
        "\n",
        "df.head(10000)"
      ]
    },
    {
      "cell_type": "code",
      "execution_count": 65,
      "metadata": {
        "id": "DNzkHJbtamaw"
      },
      "outputs": [],
      "source": [
        "tweets=pd.read_csv(\"tweets.csv\")"
      ]
    },
    {
      "cell_type": "code",
      "execution_count": 66,
      "metadata": {
        "colab": {
          "base_uri": "https://localhost:8080/",
          "height": 389
        },
        "id": "C-9DgoSxdClF",
        "outputId": "a8414ce2-666a-4850-813f-ed259a925407"
      },
      "outputs": [
        {
          "name": "stderr",
          "output_type": "stream",
          "text": [
            "[nltk_data] Downloading package vader_lexicon to /root/nltk_data...\n",
            "[nltk_data]   Package vader_lexicon is already up-to-date!\n"
          ]
        },
        {
          "data": {
            "text/html": [
              "\n",
              "  <div id=\"df-fb40af31-6f2d-4874-96eb-2e68fe51e128\">\n",
              "    <div class=\"colab-df-container\">\n",
              "      <div>\n",
              "<style scoped>\n",
              "    .dataframe tbody tr th:only-of-type {\n",
              "        vertical-align: middle;\n",
              "    }\n",
              "\n",
              "    .dataframe tbody tr th {\n",
              "        vertical-align: top;\n",
              "    }\n",
              "\n",
              "    .dataframe thead th {\n",
              "        text-align: right;\n",
              "    }\n",
              "</style>\n",
              "<table border=\"1\" class=\"dataframe\">\n",
              "  <thead>\n",
              "    <tr style=\"text-align: right;\">\n",
              "      <th></th>\n",
              "      <th>Unnamed: 0</th>\n",
              "      <th>tweet</th>\n",
              "      <th>cleaned tweets</th>\n",
              "      <th>Positive</th>\n",
              "      <th>Negative</th>\n",
              "      <th>Neutral</th>\n",
              "      <th>Compound</th>\n",
              "    </tr>\n",
              "  </thead>\n",
              "  <tbody>\n",
              "    <tr>\n",
              "      <th>0</th>\n",
              "      <td>0</td>\n",
              "      <td>RT @CreakyJoints: Here’s what you need to know...</td>\n",
              "      <td>Heres what you need to know about getting th...</td>\n",
              "      <td>0.000</td>\n",
              "      <td>0.12</td>\n",
              "      <td>0.880</td>\n",
              "      <td>-0.3818</td>\n",
              "    </tr>\n",
              "    <tr>\n",
              "      <th>1</th>\n",
              "      <td>1</td>\n",
              "      <td>RT @hongjeons: COVID-19 ALERT\\nBE THE SUN MANI...</td>\n",
              "      <td>COVID-19 ALEBE THE SUN MANILAThread to be up...</td>\n",
              "      <td>0.155</td>\n",
              "      <td>0.00</td>\n",
              "      <td>0.845</td>\n",
              "      <td>0.4466</td>\n",
              "    </tr>\n",
              "    <tr>\n",
              "      <th>2</th>\n",
              "      <td>2</td>\n",
              "      <td>RT @writinguji: hello! just got tested today f...</td>\n",
              "      <td>hello just got tested today for covid 19 and...</td>\n",
              "      <td>0.135</td>\n",
              "      <td>0.00</td>\n",
              "      <td>0.865</td>\n",
              "      <td>0.5983</td>\n",
              "    </tr>\n",
              "    <tr>\n",
              "      <th>3</th>\n",
              "      <td>3</td>\n",
              "      <td>RT @junhuihaee: #BeTSinMANILA — covid 19 posit...</td>\n",
              "      <td>covid 19 positive cases  (see thread if th...</td>\n",
              "      <td>0.189</td>\n",
              "      <td>0.00</td>\n",
              "      <td>0.811</td>\n",
              "      <td>0.6351</td>\n",
              "    </tr>\n",
              "    <tr>\n",
              "      <th>4</th>\n",
              "      <td>4</td>\n",
              "      <td>RT @byuumie: #BeTSinMANILA — covid 19 positive...</td>\n",
              "      <td>covid 19 positive cases  (see thread if th...</td>\n",
              "      <td>0.180</td>\n",
              "      <td>0.00</td>\n",
              "      <td>0.820</td>\n",
              "      <td>0.6351</td>\n",
              "    </tr>\n",
              "  </tbody>\n",
              "</table>\n",
              "</div>\n",
              "      <button class=\"colab-df-convert\" onclick=\"convertToInteractive('df-fb40af31-6f2d-4874-96eb-2e68fe51e128')\"\n",
              "              title=\"Convert this dataframe to an interactive table.\"\n",
              "              style=\"display:none;\">\n",
              "        \n",
              "  <svg xmlns=\"http://www.w3.org/2000/svg\" height=\"24px\"viewBox=\"0 0 24 24\"\n",
              "       width=\"24px\">\n",
              "    <path d=\"M0 0h24v24H0V0z\" fill=\"none\"/>\n",
              "    <path d=\"M18.56 5.44l.94 2.06.94-2.06 2.06-.94-2.06-.94-.94-2.06-.94 2.06-2.06.94zm-11 1L8.5 8.5l.94-2.06 2.06-.94-2.06-.94L8.5 2.5l-.94 2.06-2.06.94zm10 10l.94 2.06.94-2.06 2.06-.94-2.06-.94-.94-2.06-.94 2.06-2.06.94z\"/><path d=\"M17.41 7.96l-1.37-1.37c-.4-.4-.92-.59-1.43-.59-.52 0-1.04.2-1.43.59L10.3 9.45l-7.72 7.72c-.78.78-.78 2.05 0 2.83L4 21.41c.39.39.9.59 1.41.59.51 0 1.02-.2 1.41-.59l7.78-7.78 2.81-2.81c.8-.78.8-2.07 0-2.86zM5.41 20L4 18.59l7.72-7.72 1.47 1.35L5.41 20z\"/>\n",
              "  </svg>\n",
              "      </button>\n",
              "      \n",
              "  <style>\n",
              "    .colab-df-container {\n",
              "      display:flex;\n",
              "      flex-wrap:wrap;\n",
              "      gap: 12px;\n",
              "    }\n",
              "\n",
              "    .colab-df-convert {\n",
              "      background-color: #E8F0FE;\n",
              "      border: none;\n",
              "      border-radius: 50%;\n",
              "      cursor: pointer;\n",
              "      display: none;\n",
              "      fill: #1967D2;\n",
              "      height: 32px;\n",
              "      padding: 0 0 0 0;\n",
              "      width: 32px;\n",
              "    }\n",
              "\n",
              "    .colab-df-convert:hover {\n",
              "      background-color: #E2EBFA;\n",
              "      box-shadow: 0px 1px 2px rgba(60, 64, 67, 0.3), 0px 1px 3px 1px rgba(60, 64, 67, 0.15);\n",
              "      fill: #174EA6;\n",
              "    }\n",
              "\n",
              "    [theme=dark] .colab-df-convert {\n",
              "      background-color: #3B4455;\n",
              "      fill: #D2E3FC;\n",
              "    }\n",
              "\n",
              "    [theme=dark] .colab-df-convert:hover {\n",
              "      background-color: #434B5C;\n",
              "      box-shadow: 0px 1px 3px 1px rgba(0, 0, 0, 0.15);\n",
              "      filter: drop-shadow(0px 1px 2px rgba(0, 0, 0, 0.3));\n",
              "      fill: #FFFFFF;\n",
              "    }\n",
              "  </style>\n",
              "\n",
              "      <script>\n",
              "        const buttonEl =\n",
              "          document.querySelector('#df-fb40af31-6f2d-4874-96eb-2e68fe51e128 button.colab-df-convert');\n",
              "        buttonEl.style.display =\n",
              "          google.colab.kernel.accessAllowed ? 'block' : 'none';\n",
              "\n",
              "        async function convertToInteractive(key) {\n",
              "          const element = document.querySelector('#df-fb40af31-6f2d-4874-96eb-2e68fe51e128');\n",
              "          const dataTable =\n",
              "            await google.colab.kernel.invokeFunction('convertToInteractive',\n",
              "                                                     [key], {});\n",
              "          if (!dataTable) return;\n",
              "\n",
              "          const docLinkHtml = 'Like what you see? Visit the ' +\n",
              "            '<a target=\"_blank\" href=https://colab.research.google.com/notebooks/data_table.ipynb>data table notebook</a>'\n",
              "            + ' to learn more about interactive tables.';\n",
              "          element.innerHTML = '';\n",
              "          dataTable['output_type'] = 'display_data';\n",
              "          await google.colab.output.renderOutput(dataTable, element);\n",
              "          const docLink = document.createElement('div');\n",
              "          docLink.innerHTML = docLinkHtml;\n",
              "          element.appendChild(docLink);\n",
              "        }\n",
              "      </script>\n",
              "    </div>\n",
              "  </div>\n",
              "  "
            ],
            "text/plain": [
              "   Unnamed: 0                                              tweet  \\\n",
              "0           0  RT @CreakyJoints: Here’s what you need to know...   \n",
              "1           1  RT @hongjeons: COVID-19 ALERT\\nBE THE SUN MANI...   \n",
              "2           2  RT @writinguji: hello! just got tested today f...   \n",
              "3           3  RT @junhuihaee: #BeTSinMANILA — covid 19 posit...   \n",
              "4           4  RT @byuumie: #BeTSinMANILA — covid 19 positive...   \n",
              "\n",
              "                                      cleaned tweets  Positive  Negative  \\\n",
              "0    Heres what you need to know about getting th...     0.000      0.12   \n",
              "1    COVID-19 ALEBE THE SUN MANILAThread to be up...     0.155      0.00   \n",
              "2    hello just got tested today for covid 19 and...     0.135      0.00   \n",
              "3      covid 19 positive cases  (see thread if th...     0.189      0.00   \n",
              "4      covid 19 positive cases  (see thread if th...     0.180      0.00   \n",
              "\n",
              "   Neutral  Compound  \n",
              "0    0.880   -0.3818  \n",
              "1    0.845    0.4466  \n",
              "2    0.865    0.5983  \n",
              "3    0.811    0.6351  \n",
              "4    0.820    0.6351  "
            ]
          },
          "execution_count": 66,
          "metadata": {},
          "output_type": "execute_result"
        }
      ],
      "source": [
        "#Data_Labeling\n",
        "import nltk\n",
        "from nltk.sentiment.vader import SentimentIntensityAnalyzer\n",
        "nltk.download(\"vader_lexicon\")\n",
        "sentiments = SentimentIntensityAnalyzer()\n",
        "tweets[\"Positive\"] = [sentiments.polarity_scores(i)[\"pos\"] for i in tweets[\"tweet\"]]\n",
        "tweets[\"Negative\"] = [sentiments.polarity_scores(i)[\"neg\"] for i in tweets[\"tweet\"]]\n",
        "tweets[\"Neutral\"] = [sentiments.polarity_scores(i)[\"neu\"] for i in tweets[\"tweet\"]]\n",
        "tweets['Compound'] = [sentiments.polarity_scores(i)[\"compound\"] for i in tweets[\"tweet\"]]\n",
        "tweets.head()"
      ]
    },
    {
      "cell_type": "code",
      "execution_count": 67,
      "metadata": {
        "colab": {
          "base_uri": "https://localhost:8080/",
          "height": 728
        },
        "id": "SgunLnOGdQQT",
        "outputId": "610f76ff-d9ed-4349-8b9c-e49173700197"
      },
      "outputs": [
        {
          "data": {
            "text/html": [
              "\n",
              "  <div id=\"df-b5f6a4e2-1d59-4506-8489-49659dd3033a\">\n",
              "    <div class=\"colab-df-container\">\n",
              "      <div>\n",
              "<style scoped>\n",
              "    .dataframe tbody tr th:only-of-type {\n",
              "        vertical-align: middle;\n",
              "    }\n",
              "\n",
              "    .dataframe tbody tr th {\n",
              "        vertical-align: top;\n",
              "    }\n",
              "\n",
              "    .dataframe thead th {\n",
              "        text-align: right;\n",
              "    }\n",
              "</style>\n",
              "<table border=\"1\" class=\"dataframe\">\n",
              "  <thead>\n",
              "    <tr style=\"text-align: right;\">\n",
              "      <th></th>\n",
              "      <th>Unnamed: 0</th>\n",
              "      <th>tweet</th>\n",
              "      <th>cleaned tweets</th>\n",
              "      <th>Positive</th>\n",
              "      <th>Negative</th>\n",
              "      <th>Neutral</th>\n",
              "      <th>Compound</th>\n",
              "      <th>Sentiment</th>\n",
              "    </tr>\n",
              "  </thead>\n",
              "  <tbody>\n",
              "    <tr>\n",
              "      <th>0</th>\n",
              "      <td>0</td>\n",
              "      <td>RT @CreakyJoints: Here’s what you need to know...</td>\n",
              "      <td>Heres what you need to know about getting th...</td>\n",
              "      <td>0.000</td>\n",
              "      <td>0.120</td>\n",
              "      <td>0.880</td>\n",
              "      <td>-0.3818</td>\n",
              "      <td>Negative</td>\n",
              "    </tr>\n",
              "    <tr>\n",
              "      <th>1</th>\n",
              "      <td>1</td>\n",
              "      <td>RT @hongjeons: COVID-19 ALERT\\nBE THE SUN MANI...</td>\n",
              "      <td>COVID-19 ALEBE THE SUN MANILAThread to be up...</td>\n",
              "      <td>0.155</td>\n",
              "      <td>0.000</td>\n",
              "      <td>0.845</td>\n",
              "      <td>0.4466</td>\n",
              "      <td>Positive</td>\n",
              "    </tr>\n",
              "    <tr>\n",
              "      <th>2</th>\n",
              "      <td>2</td>\n",
              "      <td>RT @writinguji: hello! just got tested today f...</td>\n",
              "      <td>hello just got tested today for covid 19 and...</td>\n",
              "      <td>0.135</td>\n",
              "      <td>0.000</td>\n",
              "      <td>0.865</td>\n",
              "      <td>0.5983</td>\n",
              "      <td>Positive</td>\n",
              "    </tr>\n",
              "    <tr>\n",
              "      <th>3</th>\n",
              "      <td>3</td>\n",
              "      <td>RT @junhuihaee: #BeTSinMANILA — covid 19 posit...</td>\n",
              "      <td>covid 19 positive cases  (see thread if th...</td>\n",
              "      <td>0.189</td>\n",
              "      <td>0.000</td>\n",
              "      <td>0.811</td>\n",
              "      <td>0.6351</td>\n",
              "      <td>Positive</td>\n",
              "    </tr>\n",
              "    <tr>\n",
              "      <th>4</th>\n",
              "      <td>4</td>\n",
              "      <td>RT @byuumie: #BeTSinMANILA — covid 19 positive...</td>\n",
              "      <td>covid 19 positive cases  (see thread if th...</td>\n",
              "      <td>0.180</td>\n",
              "      <td>0.000</td>\n",
              "      <td>0.820</td>\n",
              "      <td>0.6351</td>\n",
              "      <td>Positive</td>\n",
              "    </tr>\n",
              "    <tr>\n",
              "      <th>...</th>\n",
              "      <td>...</td>\n",
              "      <td>...</td>\n",
              "      <td>...</td>\n",
              "      <td>...</td>\n",
              "      <td>...</td>\n",
              "      <td>...</td>\n",
              "      <td>...</td>\n",
              "      <td>...</td>\n",
              "    </tr>\n",
              "    <tr>\n",
              "      <th>95</th>\n",
              "      <td>95</td>\n",
              "      <td>RT @writinguji: hello! just got tested today f...</td>\n",
              "      <td>hello just got tested today for covid 19 and...</td>\n",
              "      <td>0.135</td>\n",
              "      <td>0.000</td>\n",
              "      <td>0.865</td>\n",
              "      <td>0.5983</td>\n",
              "      <td>Positive</td>\n",
              "    </tr>\n",
              "    <tr>\n",
              "      <th>96</th>\n",
              "      <td>96</td>\n",
              "      <td>RT @writinguji: hello! just got tested today f...</td>\n",
              "      <td>hello just got tested today for covid 19 and...</td>\n",
              "      <td>0.135</td>\n",
              "      <td>0.000</td>\n",
              "      <td>0.865</td>\n",
              "      <td>0.5983</td>\n",
              "      <td>Positive</td>\n",
              "    </tr>\n",
              "    <tr>\n",
              "      <th>97</th>\n",
              "      <td>97</td>\n",
              "      <td>@Taffinexile1 @toadmeister Oooh do enlighten m...</td>\n",
              "      <td>Oooh do enlighten me then. If \"severely rest...</td>\n",
              "      <td>0.162</td>\n",
              "      <td>0.197</td>\n",
              "      <td>0.641</td>\n",
              "      <td>-0.2406</td>\n",
              "      <td>Negative</td>\n",
              "    </tr>\n",
              "    <tr>\n",
              "      <th>98</th>\n",
              "      <td>98</td>\n",
              "      <td>RT @hongjeons: COVID-19 ALERT\\nBE THE SUN MANI...</td>\n",
              "      <td>COVID-19 ALEBE THE SUN MANILAThread to be up...</td>\n",
              "      <td>0.155</td>\n",
              "      <td>0.000</td>\n",
              "      <td>0.845</td>\n",
              "      <td>0.4466</td>\n",
              "      <td>Positive</td>\n",
              "    </tr>\n",
              "    <tr>\n",
              "      <th>99</th>\n",
              "      <td>99</td>\n",
              "      <td>Help us develop an early warning system for di...</td>\n",
              "      <td>Help us develop an early warning system for di...</td>\n",
              "      <td>0.188</td>\n",
              "      <td>0.077</td>\n",
              "      <td>0.735</td>\n",
              "      <td>0.5423</td>\n",
              "      <td>Positive</td>\n",
              "    </tr>\n",
              "  </tbody>\n",
              "</table>\n",
              "<p>100 rows × 8 columns</p>\n",
              "</div>\n",
              "      <button class=\"colab-df-convert\" onclick=\"convertToInteractive('df-b5f6a4e2-1d59-4506-8489-49659dd3033a')\"\n",
              "              title=\"Convert this dataframe to an interactive table.\"\n",
              "              style=\"display:none;\">\n",
              "        \n",
              "  <svg xmlns=\"http://www.w3.org/2000/svg\" height=\"24px\"viewBox=\"0 0 24 24\"\n",
              "       width=\"24px\">\n",
              "    <path d=\"M0 0h24v24H0V0z\" fill=\"none\"/>\n",
              "    <path d=\"M18.56 5.44l.94 2.06.94-2.06 2.06-.94-2.06-.94-.94-2.06-.94 2.06-2.06.94zm-11 1L8.5 8.5l.94-2.06 2.06-.94-2.06-.94L8.5 2.5l-.94 2.06-2.06.94zm10 10l.94 2.06.94-2.06 2.06-.94-2.06-.94-.94-2.06-.94 2.06-2.06.94z\"/><path d=\"M17.41 7.96l-1.37-1.37c-.4-.4-.92-.59-1.43-.59-.52 0-1.04.2-1.43.59L10.3 9.45l-7.72 7.72c-.78.78-.78 2.05 0 2.83L4 21.41c.39.39.9.59 1.41.59.51 0 1.02-.2 1.41-.59l7.78-7.78 2.81-2.81c.8-.78.8-2.07 0-2.86zM5.41 20L4 18.59l7.72-7.72 1.47 1.35L5.41 20z\"/>\n",
              "  </svg>\n",
              "      </button>\n",
              "      \n",
              "  <style>\n",
              "    .colab-df-container {\n",
              "      display:flex;\n",
              "      flex-wrap:wrap;\n",
              "      gap: 12px;\n",
              "    }\n",
              "\n",
              "    .colab-df-convert {\n",
              "      background-color: #E8F0FE;\n",
              "      border: none;\n",
              "      border-radius: 50%;\n",
              "      cursor: pointer;\n",
              "      display: none;\n",
              "      fill: #1967D2;\n",
              "      height: 32px;\n",
              "      padding: 0 0 0 0;\n",
              "      width: 32px;\n",
              "    }\n",
              "\n",
              "    .colab-df-convert:hover {\n",
              "      background-color: #E2EBFA;\n",
              "      box-shadow: 0px 1px 2px rgba(60, 64, 67, 0.3), 0px 1px 3px 1px rgba(60, 64, 67, 0.15);\n",
              "      fill: #174EA6;\n",
              "    }\n",
              "\n",
              "    [theme=dark] .colab-df-convert {\n",
              "      background-color: #3B4455;\n",
              "      fill: #D2E3FC;\n",
              "    }\n",
              "\n",
              "    [theme=dark] .colab-df-convert:hover {\n",
              "      background-color: #434B5C;\n",
              "      box-shadow: 0px 1px 3px 1px rgba(0, 0, 0, 0.15);\n",
              "      filter: drop-shadow(0px 1px 2px rgba(0, 0, 0, 0.3));\n",
              "      fill: #FFFFFF;\n",
              "    }\n",
              "  </style>\n",
              "\n",
              "      <script>\n",
              "        const buttonEl =\n",
              "          document.querySelector('#df-b5f6a4e2-1d59-4506-8489-49659dd3033a button.colab-df-convert');\n",
              "        buttonEl.style.display =\n",
              "          google.colab.kernel.accessAllowed ? 'block' : 'none';\n",
              "\n",
              "        async function convertToInteractive(key) {\n",
              "          const element = document.querySelector('#df-b5f6a4e2-1d59-4506-8489-49659dd3033a');\n",
              "          const dataTable =\n",
              "            await google.colab.kernel.invokeFunction('convertToInteractive',\n",
              "                                                     [key], {});\n",
              "          if (!dataTable) return;\n",
              "\n",
              "          const docLinkHtml = 'Like what you see? Visit the ' +\n",
              "            '<a target=\"_blank\" href=https://colab.research.google.com/notebooks/data_table.ipynb>data table notebook</a>'\n",
              "            + ' to learn more about interactive tables.';\n",
              "          element.innerHTML = '';\n",
              "          dataTable['output_type'] = 'display_data';\n",
              "          await google.colab.output.renderOutput(dataTable, element);\n",
              "          const docLink = document.createElement('div');\n",
              "          docLink.innerHTML = docLinkHtml;\n",
              "          element.appendChild(docLink);\n",
              "        }\n",
              "      </script>\n",
              "    </div>\n",
              "  </div>\n",
              "  "
            ],
            "text/plain": [
              "    Unnamed: 0                                              tweet  \\\n",
              "0            0  RT @CreakyJoints: Here’s what you need to know...   \n",
              "1            1  RT @hongjeons: COVID-19 ALERT\\nBE THE SUN MANI...   \n",
              "2            2  RT @writinguji: hello! just got tested today f...   \n",
              "3            3  RT @junhuihaee: #BeTSinMANILA — covid 19 posit...   \n",
              "4            4  RT @byuumie: #BeTSinMANILA — covid 19 positive...   \n",
              "..         ...                                                ...   \n",
              "95          95  RT @writinguji: hello! just got tested today f...   \n",
              "96          96  RT @writinguji: hello! just got tested today f...   \n",
              "97          97  @Taffinexile1 @toadmeister Oooh do enlighten m...   \n",
              "98          98  RT @hongjeons: COVID-19 ALERT\\nBE THE SUN MANI...   \n",
              "99          99  Help us develop an early warning system for di...   \n",
              "\n",
              "                                       cleaned tweets  Positive  Negative  \\\n",
              "0     Heres what you need to know about getting th...     0.000     0.120   \n",
              "1     COVID-19 ALEBE THE SUN MANILAThread to be up...     0.155     0.000   \n",
              "2     hello just got tested today for covid 19 and...     0.135     0.000   \n",
              "3       covid 19 positive cases  (see thread if th...     0.189     0.000   \n",
              "4       covid 19 positive cases  (see thread if th...     0.180     0.000   \n",
              "..                                                ...       ...       ...   \n",
              "95    hello just got tested today for covid 19 and...     0.135     0.000   \n",
              "96    hello just got tested today for covid 19 and...     0.135     0.000   \n",
              "97    Oooh do enlighten me then. If \"severely rest...     0.162     0.197   \n",
              "98    COVID-19 ALEBE THE SUN MANILAThread to be up...     0.155     0.000   \n",
              "99  Help us develop an early warning system for di...     0.188     0.077   \n",
              "\n",
              "    Neutral  Compound Sentiment  \n",
              "0     0.880   -0.3818  Negative  \n",
              "1     0.845    0.4466  Positive  \n",
              "2     0.865    0.5983  Positive  \n",
              "3     0.811    0.6351  Positive  \n",
              "4     0.820    0.6351  Positive  \n",
              "..      ...       ...       ...  \n",
              "95    0.865    0.5983  Positive  \n",
              "96    0.865    0.5983  Positive  \n",
              "97    0.641   -0.2406  Negative  \n",
              "98    0.845    0.4466  Positive  \n",
              "99    0.735    0.5423  Positive  \n",
              "\n",
              "[100 rows x 8 columns]"
            ]
          },
          "execution_count": 67,
          "metadata": {},
          "output_type": "execute_result"
        }
      ],
      "source": [
        "score = tweets[\"Compound\"].values\n",
        "sentiment = []\n",
        "for i in score:\n",
        "    if i > 0 :\n",
        "        sentiment.append('Positive')\n",
        "    elif i < 0 :\n",
        "        sentiment.append('Negative')\n",
        "    else:\n",
        "        sentiment.append('Neutral')\n",
        "tweets[\"Sentiment\"] = sentiment\n",
        "tweets.head(100)"
      ]
    },
    {
      "cell_type": "code",
      "execution_count": 68,
      "metadata": {
        "colab": {
          "base_uri": "https://localhost:8080/"
        },
        "id": "G1z7zS00d6vP",
        "outputId": "4527d3fb-af51-4561-a83a-8243a431ba03"
      },
      "outputs": [
        {
          "name": "stdout",
          "output_type": "stream",
          "text": [
            "Positive    6421\n",
            "Neutral     3632\n",
            "Negative    2947\n",
            "Name: Sentiment, dtype: int64\n"
          ]
        }
      ],
      "source": [
        "print(tweets[\"Sentiment\"].value_counts())"
      ]
    },
    {
      "cell_type": "code",
      "execution_count": 69,
      "metadata": {
        "id": "6K_05quSd-Vb"
      },
      "outputs": [],
      "source": [
        "#Output_Labeling\n",
        "tweets.to_csv(\"Labeled_Data.csv\")\n"
      ]
    },
    {
      "cell_type": "code",
      "execution_count": 70,
      "metadata": {
        "colab": {
          "base_uri": "https://localhost:8080/"
        },
        "id": "4uVRY4Qne8aF",
        "outputId": "ee25213b-23d8-4db8-8b27-8d100aaa100a"
      },
      "outputs": [
        {
          "data": {
            "text/plain": [
              "(13000, 8)"
            ]
          },
          "execution_count": 70,
          "metadata": {},
          "output_type": "execute_result"
        }
      ],
      "source": [
        "tweets.shape"
      ]
    },
    {
      "cell_type": "code",
      "execution_count": 71,
      "metadata": {
        "colab": {
          "base_uri": "https://localhost:8080/"
        },
        "id": "mMby9ZCje_ao",
        "outputId": "3e74cc39-68c3-467e-c8d7-7505357e5b23"
      },
      "outputs": [
        {
          "name": "stderr",
          "output_type": "stream",
          "text": [
            "[nltk_data] Downloading package wordnet to /root/nltk_data...\n",
            "[nltk_data]   Package wordnet is already up-to-date!\n",
            "[nltk_data] Downloading package stopwords to /root/nltk_data...\n",
            "[nltk_data]   Package stopwords is already up-to-date!\n",
            "[nltk_data] Downloading package punkt to /root/nltk_data...\n",
            "[nltk_data]   Package punkt is already up-to-date!\n",
            "[nltk_data] Downloading package wordnet to /root/nltk_data...\n",
            "[nltk_data]   Package wordnet is already up-to-date!\n"
          ]
        }
      ],
      "source": [
        "#important libraries for preprocessing using NLTK\n",
        "import nltk\n",
        "from nltk import word_tokenize, FreqDist\n",
        "from nltk.corpus import stopwords\n",
        "from nltk.stem import WordNetLemmatizer\n",
        "nltk.download\n",
        "nltk.download('wordnet')\n",
        "nltk.download('stopwords')\n",
        "from nltk.tokenize import TweetTokenizer\n",
        "\n",
        "nltk.download('punkt')\n",
        "nltk.download('wordnet')\n",
        "from nltk import sent_tokenize, word_tokenize"
      ]
    },
    {
      "cell_type": "code",
      "execution_count": 72,
      "metadata": {
        "colab": {
          "base_uri": "https://localhost:8080/"
        },
        "id": "LIbG2wRefLPd",
        "outputId": "98161bf9-ae84-4bbb-b1fe-baf895e3bec0"
      },
      "outputs": [
        {
          "data": {
            "text/plain": [
              "0        [, , Heres, what, you, need, to, know, about, ...\n",
              "1        [, , COVID-19, ALEBE, THE, SUN, MANILAThread, ...\n",
              "2        [, , hello, just, got, tested, today, for, cov...\n",
              "3        [, , , , covid, 19, positive, cases, , (see, t...\n",
              "4        [, , , , covid, 19, positive, cases, , (see, t...\n",
              "                               ...                        \n",
              "12995    [, , It's, really, amazingCause, of, COVID-19,...\n",
              "12996    [, , Helen, has, an, autoimmune, condition, bu...\n",
              "12997    [With, growing, COVID-19, infections, reported...\n",
              "12998    [, , [Recap], 4, Hong, Kong, civil, servants, ...\n",
              "12999    [, will, forever, be, known, as, a, media, out...\n",
              "Name: cleaned tweets, Length: 13000, dtype: object"
            ]
          },
          "execution_count": 72,
          "metadata": {},
          "output_type": "execute_result"
        }
      ],
      "source": [
        "#Splitting Data \n",
        "df=pd.DataFrame(tweets['cleaned tweets'])\n",
        "split_data = df[\"cleaned tweets\"].str.split(\" \")\n",
        "split_data"
      ]
    },
    {
      "cell_type": "code",
      "execution_count": 73,
      "metadata": {
        "colab": {
          "base_uri": "https://localhost:8080/"
        },
        "id": "RkDRiCIQfO7x",
        "outputId": "b9334529-5970-4073-e256-9b8206d0c82b"
      },
      "outputs": [
        {
          "name": "stdout",
          "output_type": "stream",
          "text": [
            "[[], [], ['hello'], ['just'], ['got'], ['tested'], ['today'], ['for'], ['covid'], ['19'], ['and'], ['it'], ['came'], ['out'], ['positive.'], ['I'], ['attended'], ['Be'], ['the'], ['Sun'], ['in'], ['Manila'], ['Day'], ['1'], ['at'], ['LBA'], ['Regular,'], ['2']]\n"
          ]
        }
      ],
      "source": [
        "##Tokenization\n",
        "\n",
        "data=split_data\n",
        "s_new = []\n",
        "def tokenization_s(data): \n",
        "    for sent in (data[:][2]): \n",
        "        s_token = sent_tokenize(sent)\n",
        "        if s_token != '':\n",
        "            s_new.append(s_token)\n",
        "    return s_new\n",
        "\n",
        "print(tokenization_s(data))"
      ]
    },
    {
      "cell_type": "code",
      "execution_count": 74,
      "metadata": {
        "id": "b_pODanMfjYJ"
      },
      "outputs": [],
      "source": [
        "#Tokenization\n",
        "\n",
        "df1=pd.DataFrame(tweets['cleaned tweets'])\n",
        "df1[\"Sentiment\"]=tweets[\"Sentiment\"]"
      ]
    },
    {
      "cell_type": "code",
      "execution_count": 75,
      "metadata": {
        "colab": {
          "base_uri": "https://localhost:8080/",
          "height": 424
        },
        "id": "4fdWvz5Cf7dB",
        "outputId": "808584cb-47e3-4e19-8d34-f43578d4b9ba"
      },
      "outputs": [
        {
          "data": {
            "text/html": [
              "\n",
              "  <div id=\"df-03a4e839-eda4-4b88-9f7d-efbfa4eb25b5\">\n",
              "    <div class=\"colab-df-container\">\n",
              "      <div>\n",
              "<style scoped>\n",
              "    .dataframe tbody tr th:only-of-type {\n",
              "        vertical-align: middle;\n",
              "    }\n",
              "\n",
              "    .dataframe tbody tr th {\n",
              "        vertical-align: top;\n",
              "    }\n",
              "\n",
              "    .dataframe thead th {\n",
              "        text-align: right;\n",
              "    }\n",
              "</style>\n",
              "<table border=\"1\" class=\"dataframe\">\n",
              "  <thead>\n",
              "    <tr style=\"text-align: right;\">\n",
              "      <th></th>\n",
              "      <th>cleaned tweets</th>\n",
              "      <th>Sentiment</th>\n",
              "    </tr>\n",
              "  </thead>\n",
              "  <tbody>\n",
              "    <tr>\n",
              "      <th>0</th>\n",
              "      <td>Heres what you need to know about getting th...</td>\n",
              "      <td>Negative</td>\n",
              "    </tr>\n",
              "    <tr>\n",
              "      <th>1</th>\n",
              "      <td>COVID-19 ALEBE THE SUN MANILAThread to be up...</td>\n",
              "      <td>Positive</td>\n",
              "    </tr>\n",
              "    <tr>\n",
              "      <th>2</th>\n",
              "      <td>hello just got tested today for covid 19 and...</td>\n",
              "      <td>Positive</td>\n",
              "    </tr>\n",
              "    <tr>\n",
              "      <th>3</th>\n",
              "      <td>covid 19 positive cases  (see thread if th...</td>\n",
              "      <td>Positive</td>\n",
              "    </tr>\n",
              "    <tr>\n",
              "      <th>4</th>\n",
              "      <td>covid 19 positive cases  (see thread if th...</td>\n",
              "      <td>Positive</td>\n",
              "    </tr>\n",
              "    <tr>\n",
              "      <th>...</th>\n",
              "      <td>...</td>\n",
              "      <td>...</td>\n",
              "    </tr>\n",
              "    <tr>\n",
              "      <th>10995</th>\n",
              "      <td>Yankee Candle is warning consumers that if y...</td>\n",
              "      <td>Negative</td>\n",
              "    </tr>\n",
              "    <tr>\n",
              "      <th>10996</th>\n",
              "      <td>Why isnt she urgently messaging to mask to...</td>\n",
              "      <td>Positive</td>\n",
              "    </tr>\n",
              "    <tr>\n",
              "      <th>10997</th>\n",
              "      <td>Tissue-specific pathway activities: A retrosp...</td>\n",
              "      <td>Neutral</td>\n",
              "    </tr>\n",
              "    <tr>\n",
              "      <th>10998</th>\n",
              "      <td>More and more articles coming out every day ...</td>\n",
              "      <td>Positive</td>\n",
              "    </tr>\n",
              "    <tr>\n",
              "      <th>10999</th>\n",
              "      <td>41-year-old Louisiana congressman-elect Luke...</td>\n",
              "      <td>Negative</td>\n",
              "    </tr>\n",
              "  </tbody>\n",
              "</table>\n",
              "<p>11000 rows × 2 columns</p>\n",
              "</div>\n",
              "      <button class=\"colab-df-convert\" onclick=\"convertToInteractive('df-03a4e839-eda4-4b88-9f7d-efbfa4eb25b5')\"\n",
              "              title=\"Convert this dataframe to an interactive table.\"\n",
              "              style=\"display:none;\">\n",
              "        \n",
              "  <svg xmlns=\"http://www.w3.org/2000/svg\" height=\"24px\"viewBox=\"0 0 24 24\"\n",
              "       width=\"24px\">\n",
              "    <path d=\"M0 0h24v24H0V0z\" fill=\"none\"/>\n",
              "    <path d=\"M18.56 5.44l.94 2.06.94-2.06 2.06-.94-2.06-.94-.94-2.06-.94 2.06-2.06.94zm-11 1L8.5 8.5l.94-2.06 2.06-.94-2.06-.94L8.5 2.5l-.94 2.06-2.06.94zm10 10l.94 2.06.94-2.06 2.06-.94-2.06-.94-.94-2.06-.94 2.06-2.06.94z\"/><path d=\"M17.41 7.96l-1.37-1.37c-.4-.4-.92-.59-1.43-.59-.52 0-1.04.2-1.43.59L10.3 9.45l-7.72 7.72c-.78.78-.78 2.05 0 2.83L4 21.41c.39.39.9.59 1.41.59.51 0 1.02-.2 1.41-.59l7.78-7.78 2.81-2.81c.8-.78.8-2.07 0-2.86zM5.41 20L4 18.59l7.72-7.72 1.47 1.35L5.41 20z\"/>\n",
              "  </svg>\n",
              "      </button>\n",
              "      \n",
              "  <style>\n",
              "    .colab-df-container {\n",
              "      display:flex;\n",
              "      flex-wrap:wrap;\n",
              "      gap: 12px;\n",
              "    }\n",
              "\n",
              "    .colab-df-convert {\n",
              "      background-color: #E8F0FE;\n",
              "      border: none;\n",
              "      border-radius: 50%;\n",
              "      cursor: pointer;\n",
              "      display: none;\n",
              "      fill: #1967D2;\n",
              "      height: 32px;\n",
              "      padding: 0 0 0 0;\n",
              "      width: 32px;\n",
              "    }\n",
              "\n",
              "    .colab-df-convert:hover {\n",
              "      background-color: #E2EBFA;\n",
              "      box-shadow: 0px 1px 2px rgba(60, 64, 67, 0.3), 0px 1px 3px 1px rgba(60, 64, 67, 0.15);\n",
              "      fill: #174EA6;\n",
              "    }\n",
              "\n",
              "    [theme=dark] .colab-df-convert {\n",
              "      background-color: #3B4455;\n",
              "      fill: #D2E3FC;\n",
              "    }\n",
              "\n",
              "    [theme=dark] .colab-df-convert:hover {\n",
              "      background-color: #434B5C;\n",
              "      box-shadow: 0px 1px 3px 1px rgba(0, 0, 0, 0.15);\n",
              "      filter: drop-shadow(0px 1px 2px rgba(0, 0, 0, 0.3));\n",
              "      fill: #FFFFFF;\n",
              "    }\n",
              "  </style>\n",
              "\n",
              "      <script>\n",
              "        const buttonEl =\n",
              "          document.querySelector('#df-03a4e839-eda4-4b88-9f7d-efbfa4eb25b5 button.colab-df-convert');\n",
              "        buttonEl.style.display =\n",
              "          google.colab.kernel.accessAllowed ? 'block' : 'none';\n",
              "\n",
              "        async function convertToInteractive(key) {\n",
              "          const element = document.querySelector('#df-03a4e839-eda4-4b88-9f7d-efbfa4eb25b5');\n",
              "          const dataTable =\n",
              "            await google.colab.kernel.invokeFunction('convertToInteractive',\n",
              "                                                     [key], {});\n",
              "          if (!dataTable) return;\n",
              "\n",
              "          const docLinkHtml = 'Like what you see? Visit the ' +\n",
              "            '<a target=\"_blank\" href=https://colab.research.google.com/notebooks/data_table.ipynb>data table notebook</a>'\n",
              "            + ' to learn more about interactive tables.';\n",
              "          element.innerHTML = '';\n",
              "          dataTable['output_type'] = 'display_data';\n",
              "          await google.colab.output.renderOutput(dataTable, element);\n",
              "          const docLink = document.createElement('div');\n",
              "          docLink.innerHTML = docLinkHtml;\n",
              "          element.appendChild(docLink);\n",
              "        }\n",
              "      </script>\n",
              "    </div>\n",
              "  </div>\n",
              "  "
            ],
            "text/plain": [
              "                                          cleaned tweets Sentiment\n",
              "0        Heres what you need to know about getting th...  Negative\n",
              "1        COVID-19 ALEBE THE SUN MANILAThread to be up...  Positive\n",
              "2        hello just got tested today for covid 19 and...  Positive\n",
              "3          covid 19 positive cases  (see thread if th...  Positive\n",
              "4          covid 19 positive cases  (see thread if th...  Positive\n",
              "...                                                  ...       ...\n",
              "10995    Yankee Candle is warning consumers that if y...  Negative\n",
              "10996      Why isnt she urgently messaging to mask to...  Positive\n",
              "10997   Tissue-specific pathway activities: A retrosp...   Neutral\n",
              "10998    More and more articles coming out every day ...  Positive\n",
              "10999    41-year-old Louisiana congressman-elect Luke...  Negative\n",
              "\n",
              "[11000 rows x 2 columns]"
            ]
          },
          "execution_count": 75,
          "metadata": {},
          "output_type": "execute_result"
        }
      ],
      "source": [
        "df1['cleaned tweets'].dropna(inplace=True)\n",
        "df1['cleaned tweets'] = df1['cleaned tweets'].astype(str)\n",
        "df1.head(11000)"
      ]
    },
    {
      "cell_type": "code",
      "execution_count": 76,
      "metadata": {
        "colab": {
          "base_uri": "https://localhost:8080/",
          "height": 424
        },
        "id": "1mF9nsnuf-7f",
        "outputId": "088d415c-3947-4b15-bcf5-c13792941e2c"
      },
      "outputs": [
        {
          "data": {
            "text/html": [
              "\n",
              "  <div id=\"df-b111c9ce-9177-4d39-9f38-8bfd13d366d7\">\n",
              "    <div class=\"colab-df-container\">\n",
              "      <div>\n",
              "<style scoped>\n",
              "    .dataframe tbody tr th:only-of-type {\n",
              "        vertical-align: middle;\n",
              "    }\n",
              "\n",
              "    .dataframe tbody tr th {\n",
              "        vertical-align: top;\n",
              "    }\n",
              "\n",
              "    .dataframe thead th {\n",
              "        text-align: right;\n",
              "    }\n",
              "</style>\n",
              "<table border=\"1\" class=\"dataframe\">\n",
              "  <thead>\n",
              "    <tr style=\"text-align: right;\">\n",
              "      <th></th>\n",
              "      <th>tokenization</th>\n",
              "    </tr>\n",
              "  </thead>\n",
              "  <tbody>\n",
              "    <tr>\n",
              "      <th>0</th>\n",
              "      <td>[Heres, what, you, need, to, know, about, gett...</td>\n",
              "    </tr>\n",
              "    <tr>\n",
              "      <th>1</th>\n",
              "      <td>[ALEBE, THE, SUN, MANILAThread, to, be, update...</td>\n",
              "    </tr>\n",
              "    <tr>\n",
              "      <th>2</th>\n",
              "      <td>[hello, just, got, tested, today, for, covid, ...</td>\n",
              "    </tr>\n",
              "    <tr>\n",
              "      <th>3</th>\n",
              "      <td>[covid, positive, cases, see, thread, if, ther...</td>\n",
              "    </tr>\n",
              "    <tr>\n",
              "      <th>4</th>\n",
              "      <td>[covid, positive, cases, see, thread, if, ther...</td>\n",
              "    </tr>\n",
              "    <tr>\n",
              "      <th>...</th>\n",
              "      <td>...</td>\n",
              "    </tr>\n",
              "    <tr>\n",
              "      <th>12995</th>\n",
              "      <td>[It, really, amazingCause, of, I, wo, go]</td>\n",
              "    </tr>\n",
              "    <tr>\n",
              "      <th>12996</th>\n",
              "      <td>[Helen, has, an, autoimmune, condition, but, t...</td>\n",
              "    </tr>\n",
              "    <tr>\n",
              "      <th>12997</th>\n",
              "      <td>[With, growing, infections, reported, on, the,...</td>\n",
              "    </tr>\n",
              "    <tr>\n",
              "      <th>12998</th>\n",
              "      <td>[Recap, Hong, Kong, civil, servants, arrested,...</td>\n",
              "    </tr>\n",
              "    <tr>\n",
              "      <th>12999</th>\n",
              "      <td>[will, forever, be, known, as, a, media, outle...</td>\n",
              "    </tr>\n",
              "  </tbody>\n",
              "</table>\n",
              "<p>13000 rows × 1 columns</p>\n",
              "</div>\n",
              "      <button class=\"colab-df-convert\" onclick=\"convertToInteractive('df-b111c9ce-9177-4d39-9f38-8bfd13d366d7')\"\n",
              "              title=\"Convert this dataframe to an interactive table.\"\n",
              "              style=\"display:none;\">\n",
              "        \n",
              "  <svg xmlns=\"http://www.w3.org/2000/svg\" height=\"24px\"viewBox=\"0 0 24 24\"\n",
              "       width=\"24px\">\n",
              "    <path d=\"M0 0h24v24H0V0z\" fill=\"none\"/>\n",
              "    <path d=\"M18.56 5.44l.94 2.06.94-2.06 2.06-.94-2.06-.94-.94-2.06-.94 2.06-2.06.94zm-11 1L8.5 8.5l.94-2.06 2.06-.94-2.06-.94L8.5 2.5l-.94 2.06-2.06.94zm10 10l.94 2.06.94-2.06 2.06-.94-2.06-.94-.94-2.06-.94 2.06-2.06.94z\"/><path d=\"M17.41 7.96l-1.37-1.37c-.4-.4-.92-.59-1.43-.59-.52 0-1.04.2-1.43.59L10.3 9.45l-7.72 7.72c-.78.78-.78 2.05 0 2.83L4 21.41c.39.39.9.59 1.41.59.51 0 1.02-.2 1.41-.59l7.78-7.78 2.81-2.81c.8-.78.8-2.07 0-2.86zM5.41 20L4 18.59l7.72-7.72 1.47 1.35L5.41 20z\"/>\n",
              "  </svg>\n",
              "      </button>\n",
              "      \n",
              "  <style>\n",
              "    .colab-df-container {\n",
              "      display:flex;\n",
              "      flex-wrap:wrap;\n",
              "      gap: 12px;\n",
              "    }\n",
              "\n",
              "    .colab-df-convert {\n",
              "      background-color: #E8F0FE;\n",
              "      border: none;\n",
              "      border-radius: 50%;\n",
              "      cursor: pointer;\n",
              "      display: none;\n",
              "      fill: #1967D2;\n",
              "      height: 32px;\n",
              "      padding: 0 0 0 0;\n",
              "      width: 32px;\n",
              "    }\n",
              "\n",
              "    .colab-df-convert:hover {\n",
              "      background-color: #E2EBFA;\n",
              "      box-shadow: 0px 1px 2px rgba(60, 64, 67, 0.3), 0px 1px 3px 1px rgba(60, 64, 67, 0.15);\n",
              "      fill: #174EA6;\n",
              "    }\n",
              "\n",
              "    [theme=dark] .colab-df-convert {\n",
              "      background-color: #3B4455;\n",
              "      fill: #D2E3FC;\n",
              "    }\n",
              "\n",
              "    [theme=dark] .colab-df-convert:hover {\n",
              "      background-color: #434B5C;\n",
              "      box-shadow: 0px 1px 3px 1px rgba(0, 0, 0, 0.15);\n",
              "      filter: drop-shadow(0px 1px 2px rgba(0, 0, 0, 0.3));\n",
              "      fill: #FFFFFF;\n",
              "    }\n",
              "  </style>\n",
              "\n",
              "      <script>\n",
              "        const buttonEl =\n",
              "          document.querySelector('#df-b111c9ce-9177-4d39-9f38-8bfd13d366d7 button.colab-df-convert');\n",
              "        buttonEl.style.display =\n",
              "          google.colab.kernel.accessAllowed ? 'block' : 'none';\n",
              "\n",
              "        async function convertToInteractive(key) {\n",
              "          const element = document.querySelector('#df-b111c9ce-9177-4d39-9f38-8bfd13d366d7');\n",
              "          const dataTable =\n",
              "            await google.colab.kernel.invokeFunction('convertToInteractive',\n",
              "                                                     [key], {});\n",
              "          if (!dataTable) return;\n",
              "\n",
              "          const docLinkHtml = 'Like what you see? Visit the ' +\n",
              "            '<a target=\"_blank\" href=https://colab.research.google.com/notebooks/data_table.ipynb>data table notebook</a>'\n",
              "            + ' to learn more about interactive tables.';\n",
              "          element.innerHTML = '';\n",
              "          dataTable['output_type'] = 'display_data';\n",
              "          await google.colab.output.renderOutput(dataTable, element);\n",
              "          const docLink = document.createElement('div');\n",
              "          docLink.innerHTML = docLinkHtml;\n",
              "          element.appendChild(docLink);\n",
              "        }\n",
              "      </script>\n",
              "    </div>\n",
              "  </div>\n",
              "  "
            ],
            "text/plain": [
              "                                            tokenization\n",
              "0      [Heres, what, you, need, to, know, about, gett...\n",
              "1      [ALEBE, THE, SUN, MANILAThread, to, be, update...\n",
              "2      [hello, just, got, tested, today, for, covid, ...\n",
              "3      [covid, positive, cases, see, thread, if, ther...\n",
              "4      [covid, positive, cases, see, thread, if, ther...\n",
              "...                                                  ...\n",
              "12995          [It, really, amazingCause, of, I, wo, go]\n",
              "12996  [Helen, has, an, autoimmune, condition, but, t...\n",
              "12997  [With, growing, infections, reported, on, the,...\n",
              "12998  [Recap, Hong, Kong, civil, servants, arrested,...\n",
              "12999  [will, forever, be, known, as, a, media, outle...\n",
              "\n",
              "[13000 rows x 1 columns]"
            ]
          },
          "execution_count": 76,
          "metadata": {},
          "output_type": "execute_result"
        }
      ],
      "source": [
        "def tokenize(column):\n",
        "    tokens = nltk.word_tokenize(column)\n",
        "    return [w for w in tokens if w.isalpha()] \n",
        "df1['tokenization'] = df1.apply(lambda x: tokenize(x['cleaned tweets']), axis=1)\n",
        "df1[['tokenization']].head(13000)"
      ]
    },
    {
      "cell_type": "code",
      "execution_count": 77,
      "metadata": {
        "id": "WYDlAQD5giqP"
      },
      "outputs": [],
      "source": [
        "#Stemming\n",
        "from nltk.stem.snowball import SnowballStemmer \n",
        "stemmer = SnowballStemmer(\"english\")\n",
        "df1['stemming'] = df1['tokenization'].apply(lambda x: [stemmer.stem(y) for y in x])"
      ]
    },
    {
      "cell_type": "code",
      "execution_count": 78,
      "metadata": {
        "colab": {
          "base_uri": "https://localhost:8080/",
          "height": 641
        },
        "id": "-HSj31aNg-xg",
        "outputId": "7d7eb085-d608-4ab8-98a6-09ab67381e8c"
      },
      "outputs": [
        {
          "data": {
            "text/html": [
              "\n",
              "  <div id=\"df-d31b4f2d-f60f-40e4-8f02-80a667f9f804\">\n",
              "    <div class=\"colab-df-container\">\n",
              "      <div>\n",
              "<style scoped>\n",
              "    .dataframe tbody tr th:only-of-type {\n",
              "        vertical-align: middle;\n",
              "    }\n",
              "\n",
              "    .dataframe tbody tr th {\n",
              "        vertical-align: top;\n",
              "    }\n",
              "\n",
              "    .dataframe thead th {\n",
              "        text-align: right;\n",
              "    }\n",
              "</style>\n",
              "<table border=\"1\" class=\"dataframe\">\n",
              "  <thead>\n",
              "    <tr style=\"text-align: right;\">\n",
              "      <th></th>\n",
              "      <th>cleaned tweets</th>\n",
              "      <th>Sentiment</th>\n",
              "      <th>tokenization</th>\n",
              "      <th>stemming</th>\n",
              "    </tr>\n",
              "  </thead>\n",
              "  <tbody>\n",
              "    <tr>\n",
              "      <th>0</th>\n",
              "      <td>Heres what you need to know about getting th...</td>\n",
              "      <td>Negative</td>\n",
              "      <td>[Heres, what, you, need, to, know, about, gett...</td>\n",
              "      <td>[here, what, you, need, to, know, about, get, ...</td>\n",
              "    </tr>\n",
              "    <tr>\n",
              "      <th>1</th>\n",
              "      <td>COVID-19 ALEBE THE SUN MANILAThread to be up...</td>\n",
              "      <td>Positive</td>\n",
              "      <td>[ALEBE, THE, SUN, MANILAThread, to, be, update...</td>\n",
              "      <td>[aleb, the, sun, manilathread, to, be, updat, ...</td>\n",
              "    </tr>\n",
              "    <tr>\n",
              "      <th>2</th>\n",
              "      <td>hello just got tested today for covid 19 and...</td>\n",
              "      <td>Positive</td>\n",
              "      <td>[hello, just, got, tested, today, for, covid, ...</td>\n",
              "      <td>[hello, just, got, test, today, for, covid, an...</td>\n",
              "    </tr>\n",
              "    <tr>\n",
              "      <th>3</th>\n",
              "      <td>covid 19 positive cases  (see thread if th...</td>\n",
              "      <td>Positive</td>\n",
              "      <td>[covid, positive, cases, see, thread, if, ther...</td>\n",
              "      <td>[covid, posit, case, see, thread, if, there, a...</td>\n",
              "    </tr>\n",
              "    <tr>\n",
              "      <th>4</th>\n",
              "      <td>covid 19 positive cases  (see thread if th...</td>\n",
              "      <td>Positive</td>\n",
              "      <td>[covid, positive, cases, see, thread, if, ther...</td>\n",
              "      <td>[covid, posit, case, see, thread, if, there, a...</td>\n",
              "    </tr>\n",
              "    <tr>\n",
              "      <th>...</th>\n",
              "      <td>...</td>\n",
              "      <td>...</td>\n",
              "      <td>...</td>\n",
              "      <td>...</td>\n",
              "    </tr>\n",
              "    <tr>\n",
              "      <th>12995</th>\n",
              "      <td>It's really amazingCause of COVID-19,I won't...</td>\n",
              "      <td>Positive</td>\n",
              "      <td>[It, really, amazingCause, of, I, wo, go]</td>\n",
              "      <td>[it, realli, amazingcaus, of, i, wo, go]</td>\n",
              "    </tr>\n",
              "    <tr>\n",
              "      <th>12996</th>\n",
              "      <td>Helen has an autoimmune condition but the co...</td>\n",
              "      <td>Neutral</td>\n",
              "      <td>[Helen, has, an, autoimmune, condition, but, t...</td>\n",
              "      <td>[helen, has, an, autoimmun, condit, but, the, ...</td>\n",
              "    </tr>\n",
              "    <tr>\n",
              "      <th>12997</th>\n",
              "      <td>With growing COVID-19 infections reported on t...</td>\n",
              "      <td>Positive</td>\n",
              "      <td>[With, growing, infections, reported, on, the,...</td>\n",
              "      <td>[with, grow, infect, report, on, the, first, w...</td>\n",
              "    </tr>\n",
              "    <tr>\n",
              "      <th>12998</th>\n",
              "      <td>[Recap] 4 Hong Kong civil servants arrested ...</td>\n",
              "      <td>Negative</td>\n",
              "      <td>[Recap, Hong, Kong, civil, servants, arrested,...</td>\n",
              "      <td>[recap, hong, kong, civil, servant, arrest, fo...</td>\n",
              "    </tr>\n",
              "    <tr>\n",
              "      <th>12999</th>\n",
              "      <td>will forever be known as a media outlet that ...</td>\n",
              "      <td>Positive</td>\n",
              "      <td>[will, forever, be, known, as, a, media, outle...</td>\n",
              "      <td>[will, forev, be, known, as, a, media, outlet,...</td>\n",
              "    </tr>\n",
              "  </tbody>\n",
              "</table>\n",
              "<p>13000 rows × 4 columns</p>\n",
              "</div>\n",
              "      <button class=\"colab-df-convert\" onclick=\"convertToInteractive('df-d31b4f2d-f60f-40e4-8f02-80a667f9f804')\"\n",
              "              title=\"Convert this dataframe to an interactive table.\"\n",
              "              style=\"display:none;\">\n",
              "        \n",
              "  <svg xmlns=\"http://www.w3.org/2000/svg\" height=\"24px\"viewBox=\"0 0 24 24\"\n",
              "       width=\"24px\">\n",
              "    <path d=\"M0 0h24v24H0V0z\" fill=\"none\"/>\n",
              "    <path d=\"M18.56 5.44l.94 2.06.94-2.06 2.06-.94-2.06-.94-.94-2.06-.94 2.06-2.06.94zm-11 1L8.5 8.5l.94-2.06 2.06-.94-2.06-.94L8.5 2.5l-.94 2.06-2.06.94zm10 10l.94 2.06.94-2.06 2.06-.94-2.06-.94-.94-2.06-.94 2.06-2.06.94z\"/><path d=\"M17.41 7.96l-1.37-1.37c-.4-.4-.92-.59-1.43-.59-.52 0-1.04.2-1.43.59L10.3 9.45l-7.72 7.72c-.78.78-.78 2.05 0 2.83L4 21.41c.39.39.9.59 1.41.59.51 0 1.02-.2 1.41-.59l7.78-7.78 2.81-2.81c.8-.78.8-2.07 0-2.86zM5.41 20L4 18.59l7.72-7.72 1.47 1.35L5.41 20z\"/>\n",
              "  </svg>\n",
              "      </button>\n",
              "      \n",
              "  <style>\n",
              "    .colab-df-container {\n",
              "      display:flex;\n",
              "      flex-wrap:wrap;\n",
              "      gap: 12px;\n",
              "    }\n",
              "\n",
              "    .colab-df-convert {\n",
              "      background-color: #E8F0FE;\n",
              "      border: none;\n",
              "      border-radius: 50%;\n",
              "      cursor: pointer;\n",
              "      display: none;\n",
              "      fill: #1967D2;\n",
              "      height: 32px;\n",
              "      padding: 0 0 0 0;\n",
              "      width: 32px;\n",
              "    }\n",
              "\n",
              "    .colab-df-convert:hover {\n",
              "      background-color: #E2EBFA;\n",
              "      box-shadow: 0px 1px 2px rgba(60, 64, 67, 0.3), 0px 1px 3px 1px rgba(60, 64, 67, 0.15);\n",
              "      fill: #174EA6;\n",
              "    }\n",
              "\n",
              "    [theme=dark] .colab-df-convert {\n",
              "      background-color: #3B4455;\n",
              "      fill: #D2E3FC;\n",
              "    }\n",
              "\n",
              "    [theme=dark] .colab-df-convert:hover {\n",
              "      background-color: #434B5C;\n",
              "      box-shadow: 0px 1px 3px 1px rgba(0, 0, 0, 0.15);\n",
              "      filter: drop-shadow(0px 1px 2px rgba(0, 0, 0, 0.3));\n",
              "      fill: #FFFFFF;\n",
              "    }\n",
              "  </style>\n",
              "\n",
              "      <script>\n",
              "        const buttonEl =\n",
              "          document.querySelector('#df-d31b4f2d-f60f-40e4-8f02-80a667f9f804 button.colab-df-convert');\n",
              "        buttonEl.style.display =\n",
              "          google.colab.kernel.accessAllowed ? 'block' : 'none';\n",
              "\n",
              "        async function convertToInteractive(key) {\n",
              "          const element = document.querySelector('#df-d31b4f2d-f60f-40e4-8f02-80a667f9f804');\n",
              "          const dataTable =\n",
              "            await google.colab.kernel.invokeFunction('convertToInteractive',\n",
              "                                                     [key], {});\n",
              "          if (!dataTable) return;\n",
              "\n",
              "          const docLinkHtml = 'Like what you see? Visit the ' +\n",
              "            '<a target=\"_blank\" href=https://colab.research.google.com/notebooks/data_table.ipynb>data table notebook</a>'\n",
              "            + ' to learn more about interactive tables.';\n",
              "          element.innerHTML = '';\n",
              "          dataTable['output_type'] = 'display_data';\n",
              "          await google.colab.output.renderOutput(dataTable, element);\n",
              "          const docLink = document.createElement('div');\n",
              "          docLink.innerHTML = docLinkHtml;\n",
              "          element.appendChild(docLink);\n",
              "        }\n",
              "      </script>\n",
              "    </div>\n",
              "  </div>\n",
              "  "
            ],
            "text/plain": [
              "                                          cleaned tweets Sentiment  \\\n",
              "0        Heres what you need to know about getting th...  Negative   \n",
              "1        COVID-19 ALEBE THE SUN MANILAThread to be up...  Positive   \n",
              "2        hello just got tested today for covid 19 and...  Positive   \n",
              "3          covid 19 positive cases  (see thread if th...  Positive   \n",
              "4          covid 19 positive cases  (see thread if th...  Positive   \n",
              "...                                                  ...       ...   \n",
              "12995    It's really amazingCause of COVID-19,I won't...  Positive   \n",
              "12996    Helen has an autoimmune condition but the co...   Neutral   \n",
              "12997  With growing COVID-19 infections reported on t...  Positive   \n",
              "12998    [Recap] 4 Hong Kong civil servants arrested ...  Negative   \n",
              "12999   will forever be known as a media outlet that ...  Positive   \n",
              "\n",
              "                                            tokenization  \\\n",
              "0      [Heres, what, you, need, to, know, about, gett...   \n",
              "1      [ALEBE, THE, SUN, MANILAThread, to, be, update...   \n",
              "2      [hello, just, got, tested, today, for, covid, ...   \n",
              "3      [covid, positive, cases, see, thread, if, ther...   \n",
              "4      [covid, positive, cases, see, thread, if, ther...   \n",
              "...                                                  ...   \n",
              "12995          [It, really, amazingCause, of, I, wo, go]   \n",
              "12996  [Helen, has, an, autoimmune, condition, but, t...   \n",
              "12997  [With, growing, infections, reported, on, the,...   \n",
              "12998  [Recap, Hong, Kong, civil, servants, arrested,...   \n",
              "12999  [will, forever, be, known, as, a, media, outle...   \n",
              "\n",
              "                                                stemming  \n",
              "0      [here, what, you, need, to, know, about, get, ...  \n",
              "1      [aleb, the, sun, manilathread, to, be, updat, ...  \n",
              "2      [hello, just, got, test, today, for, covid, an...  \n",
              "3      [covid, posit, case, see, thread, if, there, a...  \n",
              "4      [covid, posit, case, see, thread, if, there, a...  \n",
              "...                                                  ...  \n",
              "12995           [it, realli, amazingcaus, of, i, wo, go]  \n",
              "12996  [helen, has, an, autoimmun, condit, but, the, ...  \n",
              "12997  [with, grow, infect, report, on, the, first, w...  \n",
              "12998  [recap, hong, kong, civil, servant, arrest, fo...  \n",
              "12999  [will, forev, be, known, as, a, media, outlet,...  \n",
              "\n",
              "[13000 rows x 4 columns]"
            ]
          },
          "execution_count": 78,
          "metadata": {},
          "output_type": "execute_result"
        }
      ],
      "source": [
        "df1"
      ]
    },
    {
      "cell_type": "code",
      "execution_count": 79,
      "metadata": {
        "colab": {
          "base_uri": "https://localhost:8080/"
        },
        "id": "KHQ8Lg9vU0J0",
        "outputId": "f0dae466-e80c-4725-b4d6-22cbba0a3f27"
      },
      "outputs": [
        {
          "name": "stderr",
          "output_type": "stream",
          "text": [
            "[nltk_data] Downloading package omw-1.4 to /root/nltk_data...\n",
            "[nltk_data]   Package omw-1.4 is already up-to-date!\n"
          ]
        }
      ],
      "source": [
        "#Lemmatization\n",
        "import nltk\n",
        "nltk.download('omw-1.4')\n",
        "w_tokenizer = nltk.tokenize.WhitespaceTokenizer()\n",
        "lemmatizer = nltk.stem.WordNetLemmatizer()\n",
        "def lemmatize_text(text):\n",
        "    return [lemmatizer.lemmatize(w) for w in w_tokenizer.tokenize(text)]\n",
        "df1['text_lemmatized'] = df1[\"cleaned tweets\"].apply(lemmatize_text)"
      ]
    },
    {
      "cell_type": "code",
      "execution_count": 80,
      "metadata": {
        "colab": {
          "base_uri": "https://localhost:8080/",
          "height": 354
        },
        "id": "DzYokctUAzPa",
        "outputId": "520fba27-0fa6-4444-c942-f64d6518b778"
      },
      "outputs": [
        {
          "data": {
            "text/html": [
              "\n",
              "  <div id=\"df-8641249a-47af-49e8-812e-27ce4f29b94b\">\n",
              "    <div class=\"colab-df-container\">\n",
              "      <div>\n",
              "<style scoped>\n",
              "    .dataframe tbody tr th:only-of-type {\n",
              "        vertical-align: middle;\n",
              "    }\n",
              "\n",
              "    .dataframe tbody tr th {\n",
              "        vertical-align: top;\n",
              "    }\n",
              "\n",
              "    .dataframe thead th {\n",
              "        text-align: right;\n",
              "    }\n",
              "</style>\n",
              "<table border=\"1\" class=\"dataframe\">\n",
              "  <thead>\n",
              "    <tr style=\"text-align: right;\">\n",
              "      <th></th>\n",
              "      <th>cleaned tweets</th>\n",
              "      <th>Sentiment</th>\n",
              "      <th>tokenization</th>\n",
              "      <th>stemming</th>\n",
              "      <th>text_lemmatized</th>\n",
              "    </tr>\n",
              "  </thead>\n",
              "  <tbody>\n",
              "    <tr>\n",
              "      <th>0</th>\n",
              "      <td>Heres what you need to know about getting th...</td>\n",
              "      <td>Negative</td>\n",
              "      <td>[Heres, what, you, need, to, know, about, gett...</td>\n",
              "      <td>[here, what, you, need, to, know, about, get, ...</td>\n",
              "      <td>[Heres, what, you, need, to, know, about, gett...</td>\n",
              "    </tr>\n",
              "    <tr>\n",
              "      <th>1</th>\n",
              "      <td>COVID-19 ALEBE THE SUN MANILAThread to be up...</td>\n",
              "      <td>Positive</td>\n",
              "      <td>[ALEBE, THE, SUN, MANILAThread, to, be, update...</td>\n",
              "      <td>[aleb, the, sun, manilathread, to, be, updat, ...</td>\n",
              "      <td>[COVID-19, ALEBE, THE, SUN, MANILAThread, to, ...</td>\n",
              "    </tr>\n",
              "    <tr>\n",
              "      <th>2</th>\n",
              "      <td>hello just got tested today for covid 19 and...</td>\n",
              "      <td>Positive</td>\n",
              "      <td>[hello, just, got, tested, today, for, covid, ...</td>\n",
              "      <td>[hello, just, got, test, today, for, covid, an...</td>\n",
              "      <td>[hello, just, got, tested, today, for, covid, ...</td>\n",
              "    </tr>\n",
              "    <tr>\n",
              "      <th>3</th>\n",
              "      <td>covid 19 positive cases  (see thread if th...</td>\n",
              "      <td>Positive</td>\n",
              "      <td>[covid, positive, cases, see, thread, if, ther...</td>\n",
              "      <td>[covid, posit, case, see, thread, if, there, a...</td>\n",
              "      <td>[covid, 19, positive, case, (see, thread, if, ...</td>\n",
              "    </tr>\n",
              "    <tr>\n",
              "      <th>4</th>\n",
              "      <td>covid 19 positive cases  (see thread if th...</td>\n",
              "      <td>Positive</td>\n",
              "      <td>[covid, positive, cases, see, thread, if, ther...</td>\n",
              "      <td>[covid, posit, case, see, thread, if, there, a...</td>\n",
              "      <td>[covid, 19, positive, case, (see, thread, if, ...</td>\n",
              "    </tr>\n",
              "  </tbody>\n",
              "</table>\n",
              "</div>\n",
              "      <button class=\"colab-df-convert\" onclick=\"convertToInteractive('df-8641249a-47af-49e8-812e-27ce4f29b94b')\"\n",
              "              title=\"Convert this dataframe to an interactive table.\"\n",
              "              style=\"display:none;\">\n",
              "        \n",
              "  <svg xmlns=\"http://www.w3.org/2000/svg\" height=\"24px\"viewBox=\"0 0 24 24\"\n",
              "       width=\"24px\">\n",
              "    <path d=\"M0 0h24v24H0V0z\" fill=\"none\"/>\n",
              "    <path d=\"M18.56 5.44l.94 2.06.94-2.06 2.06-.94-2.06-.94-.94-2.06-.94 2.06-2.06.94zm-11 1L8.5 8.5l.94-2.06 2.06-.94-2.06-.94L8.5 2.5l-.94 2.06-2.06.94zm10 10l.94 2.06.94-2.06 2.06-.94-2.06-.94-.94-2.06-.94 2.06-2.06.94z\"/><path d=\"M17.41 7.96l-1.37-1.37c-.4-.4-.92-.59-1.43-.59-.52 0-1.04.2-1.43.59L10.3 9.45l-7.72 7.72c-.78.78-.78 2.05 0 2.83L4 21.41c.39.39.9.59 1.41.59.51 0 1.02-.2 1.41-.59l7.78-7.78 2.81-2.81c.8-.78.8-2.07 0-2.86zM5.41 20L4 18.59l7.72-7.72 1.47 1.35L5.41 20z\"/>\n",
              "  </svg>\n",
              "      </button>\n",
              "      \n",
              "  <style>\n",
              "    .colab-df-container {\n",
              "      display:flex;\n",
              "      flex-wrap:wrap;\n",
              "      gap: 12px;\n",
              "    }\n",
              "\n",
              "    .colab-df-convert {\n",
              "      background-color: #E8F0FE;\n",
              "      border: none;\n",
              "      border-radius: 50%;\n",
              "      cursor: pointer;\n",
              "      display: none;\n",
              "      fill: #1967D2;\n",
              "      height: 32px;\n",
              "      padding: 0 0 0 0;\n",
              "      width: 32px;\n",
              "    }\n",
              "\n",
              "    .colab-df-convert:hover {\n",
              "      background-color: #E2EBFA;\n",
              "      box-shadow: 0px 1px 2px rgba(60, 64, 67, 0.3), 0px 1px 3px 1px rgba(60, 64, 67, 0.15);\n",
              "      fill: #174EA6;\n",
              "    }\n",
              "\n",
              "    [theme=dark] .colab-df-convert {\n",
              "      background-color: #3B4455;\n",
              "      fill: #D2E3FC;\n",
              "    }\n",
              "\n",
              "    [theme=dark] .colab-df-convert:hover {\n",
              "      background-color: #434B5C;\n",
              "      box-shadow: 0px 1px 3px 1px rgba(0, 0, 0, 0.15);\n",
              "      filter: drop-shadow(0px 1px 2px rgba(0, 0, 0, 0.3));\n",
              "      fill: #FFFFFF;\n",
              "    }\n",
              "  </style>\n",
              "\n",
              "      <script>\n",
              "        const buttonEl =\n",
              "          document.querySelector('#df-8641249a-47af-49e8-812e-27ce4f29b94b button.colab-df-convert');\n",
              "        buttonEl.style.display =\n",
              "          google.colab.kernel.accessAllowed ? 'block' : 'none';\n",
              "\n",
              "        async function convertToInteractive(key) {\n",
              "          const element = document.querySelector('#df-8641249a-47af-49e8-812e-27ce4f29b94b');\n",
              "          const dataTable =\n",
              "            await google.colab.kernel.invokeFunction('convertToInteractive',\n",
              "                                                     [key], {});\n",
              "          if (!dataTable) return;\n",
              "\n",
              "          const docLinkHtml = 'Like what you see? Visit the ' +\n",
              "            '<a target=\"_blank\" href=https://colab.research.google.com/notebooks/data_table.ipynb>data table notebook</a>'\n",
              "            + ' to learn more about interactive tables.';\n",
              "          element.innerHTML = '';\n",
              "          dataTable['output_type'] = 'display_data';\n",
              "          await google.colab.output.renderOutput(dataTable, element);\n",
              "          const docLink = document.createElement('div');\n",
              "          docLink.innerHTML = docLinkHtml;\n",
              "          element.appendChild(docLink);\n",
              "        }\n",
              "      </script>\n",
              "    </div>\n",
              "  </div>\n",
              "  "
            ],
            "text/plain": [
              "                                      cleaned tweets Sentiment  \\\n",
              "0    Heres what you need to know about getting th...  Negative   \n",
              "1    COVID-19 ALEBE THE SUN MANILAThread to be up...  Positive   \n",
              "2    hello just got tested today for covid 19 and...  Positive   \n",
              "3      covid 19 positive cases  (see thread if th...  Positive   \n",
              "4      covid 19 positive cases  (see thread if th...  Positive   \n",
              "\n",
              "                                        tokenization  \\\n",
              "0  [Heres, what, you, need, to, know, about, gett...   \n",
              "1  [ALEBE, THE, SUN, MANILAThread, to, be, update...   \n",
              "2  [hello, just, got, tested, today, for, covid, ...   \n",
              "3  [covid, positive, cases, see, thread, if, ther...   \n",
              "4  [covid, positive, cases, see, thread, if, ther...   \n",
              "\n",
              "                                            stemming  \\\n",
              "0  [here, what, you, need, to, know, about, get, ...   \n",
              "1  [aleb, the, sun, manilathread, to, be, updat, ...   \n",
              "2  [hello, just, got, test, today, for, covid, an...   \n",
              "3  [covid, posit, case, see, thread, if, there, a...   \n",
              "4  [covid, posit, case, see, thread, if, there, a...   \n",
              "\n",
              "                                     text_lemmatized  \n",
              "0  [Heres, what, you, need, to, know, about, gett...  \n",
              "1  [COVID-19, ALEBE, THE, SUN, MANILAThread, to, ...  \n",
              "2  [hello, just, got, tested, today, for, covid, ...  \n",
              "3  [covid, 19, positive, case, (see, thread, if, ...  \n",
              "4  [covid, 19, positive, case, (see, thread, if, ...  "
            ]
          },
          "execution_count": 80,
          "metadata": {},
          "output_type": "execute_result"
        }
      ],
      "source": [
        "df1.head()"
      ]
    },
    {
      "cell_type": "code",
      "execution_count": 81,
      "metadata": {
        "colab": {
          "base_uri": "https://localhost:8080/"
        },
        "id": "gSEGRggzhMUS",
        "outputId": "07156f15-ae92-43f9-fd98-6f284411a838"
      },
      "outputs": [
        {
          "name": "stderr",
          "output_type": "stream",
          "text": [
            "[nltk_data] Downloading package stopwords to /root/nltk_data...\n",
            "[nltk_data]   Package stopwords is already up-to-date!\n"
          ]
        }
      ],
      "source": [
        "#stop words\n",
        "\n",
        "from nltk.corpus import stopwords\n",
        "nltk.download('stopwords')\n",
        "from nltk.tokenize import word_tokenize"
      ]
    },
    {
      "cell_type": "code",
      "execution_count": 82,
      "metadata": {
        "id": "aGKwkFONhxz4"
      },
      "outputs": [],
      "source": [
        "filtered_word_list =tweets['cleaned tweets'] #make a copy of the word_list\n",
        "for tweet in tweets: # iterate over word_list\n",
        "  if tweet in stopwords.words('english'): \n",
        "    filtered_word_list.remove(word)\n"
      ]
    },
    {
      "cell_type": "code",
      "execution_count": 83,
      "metadata": {
        "colab": {
          "base_uri": "https://localhost:8080/"
        },
        "id": "HaaIAHDGic_D",
        "outputId": "38a494ed-da0f-443a-e241-ddbfc379dbf6"
      },
      "outputs": [
        {
          "data": {
            "text/plain": [
              "0          Heres what you need to know about getting th...\n",
              "1          COVID-19 ALEBE THE SUN MANILAThread to be up...\n",
              "2          hello just got tested today for covid 19 and...\n",
              "3            covid 19 positive cases  (see thread if th...\n",
              "4            covid 19 positive cases  (see thread if th...\n",
              "                               ...                        \n",
              "12995      It's really amazingCause of COVID-19,I won't...\n",
              "12996      Helen has an autoimmune condition but the co...\n",
              "12997    With growing COVID-19 infections reported on t...\n",
              "12998      [Recap] 4 Hong Kong civil servants arrested ...\n",
              "12999     will forever be known as a media outlet that ...\n",
              "Name: cleaned tweets, Length: 13000, dtype: object"
            ]
          },
          "execution_count": 83,
          "metadata": {},
          "output_type": "execute_result"
        }
      ],
      "source": [
        "filtered_word_list\n"
      ]
    },
    {
      "cell_type": "code",
      "execution_count": 84,
      "metadata": {
        "id": "Ey3u3F_CkDlp"
      },
      "outputs": [],
      "source": [
        "#CountVectorizer\n",
        "from sklearn.feature_extraction.text import CountVectorizer\n",
        "count_vectorize = CountVectorizer() \n",
        "vectorized = count_vectorize.fit_transform(df1[\"cleaned tweets\"])"
      ]
    },
    {
      "cell_type": "code",
      "execution_count": 86,
      "metadata": {
        "colab": {
          "base_uri": "https://localhost:8080/"
        },
        "id": "d10yClzlEAZN",
        "outputId": "4f855adc-7cc0-4cba-8b34-189d2368cb35"
      },
      "outputs": [
        {
          "name": "stdout",
          "output_type": "stream",
          "text": [
            "  (0, 4307)\t1\n",
            "  (0, 9759)\t1\n",
            "  (0, 9991)\t1\n",
            "  (0, 6059)\t1\n",
            "  (0, 9032)\t1\n",
            "  (0, 5103)\t1\n",
            "  (0, 544)\t1\n",
            "  (0, 3999)\t1\n",
            "  (0, 8901)\t1\n",
            "  (0, 5194)\t1\n",
            "  (0, 2418)\t1\n",
            "  (0, 135)\t1\n",
            "  (0, 1503)\t1\n",
            "  (0, 882)\t1\n",
            "  (0, 3774)\t1\n",
            "  (0, 8156)\t1\n",
            "  (0, 8956)\t1\n",
            "  (0, 3586)\t1\n",
            "['00' '000' '0000' ... 'zubair' 'zulu' 'zweli']\n",
            "youre 0\n"
          ]
        }
      ],
      "source": [
        "print(vectorized[0,:])\n",
        "\n",
        "#print(vc.vocabulary_)\n",
        "print(count_vectorize.get_feature_names_out())\n",
        "print(count_vectorize.get_feature_names_out()[10000], vectorized[0,10000])"
      ]
    },
    {
      "cell_type": "code",
      "execution_count": 87,
      "metadata": {
        "id": "xd9hP8tEEIuX"
      },
      "outputs": [],
      "source": [
        "from sklearn.model_selection import train_test_split\n",
        "X_train, X_test, y_train, y_test = train_test_split(df1,df1[\"Sentiment\"],test_size = 0.2, random_state =26105111)"
      ]
    },
    {
      "cell_type": "code",
      "execution_count": 97,
      "metadata": {
        "colab": {
          "base_uri": "https://localhost:8080/"
        },
        "id": "Jyb033PMI6k6",
        "outputId": "163d1f3b-fd9a-4d38-a347-9079703d3fe3"
      },
      "outputs": [
        {
          "data": {
            "text/plain": [
              "MultinomialNB()"
            ]
          },
          "execution_count": 97,
          "metadata": {},
          "output_type": "execute_result"
        }
      ],
      "source": [
        "from sklearn.naive_bayes import MultinomialNB\n",
        "clf = MultinomialNB()\n",
        "vectorized = count_vectorize.fit_transform(X_train[\"cleaned tweets\"])\n",
        "clf.fit(vectorized, y_train)"
      ]
    },
    {
      "cell_type": "code",
      "execution_count": 99,
      "metadata": {
        "id": "3mNpb6E5JCRh"
      },
      "outputs": [],
      "source": [
        "vectorized = count_vectorize.transform(X_test[\"cleaned tweets\"])\n",
        "res=clf.predict(vectorized)"
      ]
    },
    {
      "cell_type": "code",
      "execution_count": 100,
      "metadata": {
        "colab": {
          "base_uri": "https://localhost:8080/"
        },
        "id": "U_-JWKvpLgHh",
        "outputId": "d721353d-22a3-4407-eb77-55f964102b1c"
      },
      "outputs": [
        {
          "data": {
            "text/plain": [
              "0.8507692307692307"
            ]
          },
          "execution_count": 100,
          "metadata": {},
          "output_type": "execute_result"
        }
      ],
      "source": [
        "from sklearn import metrics\n",
        "metrics.accuracy_score(res, y_test)"
      ]
    },
    {
      "cell_type": "code",
      "execution_count": 102,
      "metadata": {
        "colab": {
          "base_uri": "https://localhost:8080/",
          "height": 285
        },
        "id": "tHfS70h-Nsct",
        "outputId": "cbf1f85d-4a9c-4c83-a71c-dc4cd922ad4e"
      },
      "outputs": [
        {
          "data": {
            "image/png": "[encoded data removed]",
            "text/plain": [
              "<Figure size 432x288 with 1 Axes>"
            ]
          },
          "metadata": {},
          "output_type": "display_data"
        }
      ],
      "source": [
        "from sklearn.metrics import confusion_matrix\n",
        "import matplotlib.pyplot as plt\n",
        "import seaborn as sns; sns.set()\n",
        "mat = confusion_matrix(y_test, res)\n",
        "sns.heatmap(mat.T, square=True, annot=True, fmt='d', cbar=False,\n",
        "            xticklabels=[\"pos\",\"neg\",\"neu\"], yticklabels=[\"pos\",\"neg\",\"neu\"])\n",
        "plt.xlabel('true label')\n",
        "plt.ylabel('predicted label')"
      ]
    },
    {
      "cell_type": "code",
      "execution_count": 103,
      "metadata": {
        "colab": {
          "base_uri": "https://localhost:8080/"
        },
        "id": "RTlCasjPOmJ6",
        "outputId": "fd9f488c-1346-4fed-a97e-3b5373f8d43a"
      },
      "outputs": [
        {
          "data": {
            "text/plain": [
              "BernoulliNB()"
            ]
          },
          "execution_count": 103,
          "metadata": {},
          "output_type": "execute_result"
        }
      ],
      "source": [
        "from sklearn.naive_bayes import BernoulliNB\n",
        "clf = BernoulliNB()\n",
        "vectorized = count_vectorize.fit_transform(X_train[\"cleaned tweets\"])\n",
        "clf.fit(vectorized, y_train)"
      ]
    },
    {
      "cell_type": "code",
      "execution_count": 104,
      "metadata": {
        "id": "ot2m1nODPWmH"
      },
      "outputs": [],
      "source": [
        "vectorized = count_vectorize.transform(X_test[\"cleaned tweets\"])\n",
        "res=clf.predict(vectorized)"
      ]
    },
    {
      "cell_type": "code",
      "execution_count": 105,
      "metadata": {
        "colab": {
          "base_uri": "https://localhost:8080/"
        },
        "id": "0lyzNAB1PXX_",
        "outputId": "a6d4fddb-487b-49eb-91dd-4ad0cdd0857f"
      },
      "outputs": [
        {
          "data": {
            "text/plain": [
              "array(['Negative', 'Neutral', 'Positive', ..., 'Neutral', 'Positive',\n",
              "       'Positive'], dtype='<U8')"
            ]
          },
          "execution_count": 105,
          "metadata": {},
          "output_type": "execute_result"
        }
      ],
      "source": [
        "res"
      ]
    },
    {
      "cell_type": "code",
      "execution_count": 106,
      "metadata": {
        "colab": {
          "base_uri": "https://localhost:8080/",
          "height": 302
        },
        "id": "rrT_9AxDPYUD",
        "outputId": "858ef380-8b89-418b-cb59-4528c1ce486e"
      },
      "outputs": [
        {
          "data": {
            "text/plain": [
              "Text(89.18, 0.5, 'predicted label')"
            ]
          },
          "execution_count": 106,
          "metadata": {},
          "output_type": "execute_result"
        },
        {
          "data": {
            "image/png": "[encoded data removed]",
            "text/plain": [
              "<Figure size 432x288 with 1 Axes>"
            ]
          },
          "metadata": {},
          "output_type": "display_data"
        }
      ],
      "source": [
        "from sklearn.metrics import confusion_matrix\n",
        "import matplotlib.pyplot as plt\n",
        "import seaborn as sns; sns.set()\n",
        "mat = confusion_matrix(y_test, res)\n",
        "sns.heatmap(mat.T, square=True, annot=True, fmt='d', cbar=False,\n",
        "            xticklabels=[\"pos\",\"neg\",\"neu\"], yticklabels=[\"pos\",\"neg\",\"neu\"])\n",
        "plt.xlabel('true label')\n",
        "plt.ylabel('predicted label')"
      ]
    },
    {
      "cell_type": "code",
      "execution_count": 107,
      "metadata": {
        "colab": {
          "base_uri": "https://localhost:8080/"
        },
        "id": "m8jvkBqXPa7D",
        "outputId": "0d5e9d3c-14ed-4062-fe33-21bf2f989714"
      },
      "outputs": [
        {
          "data": {
            "text/plain": [
              "0.8530769230769231"
            ]
          },
          "execution_count": 107,
          "metadata": {},
          "output_type": "execute_result"
        }
      ],
      "source": [
        "from sklearn import metrics\n",
        "metrics.accuracy_score(res, y_test)"
      ]
    },
    {
      "cell_type": "code",
      "execution_count": 108,
      "metadata": {
        "colab": {
          "base_uri": "https://localhost:8080/"
        },
        "id": "BW266EeZPf4T",
        "outputId": "71132cc6-8cbc-4d53-a0a1-b9a3add0cca8"
      },
      "outputs": [
        {
          "name": "stderr",
          "output_type": "stream",
          "text": [
            "/usr/local/lib/python3.7/dist-packages/sklearn/linear_model/_logistic.py:818: ConvergenceWarning: lbfgs failed to converge (status=1):\n",
            "STOP: TOTAL NO. of ITERATIONS REACHED LIMIT.\n",
            "\n",
            "Increase the number of iterations (max_iter) or scale the data as shown in:\n",
            "    https://scikit-learn.org/stable/modules/preprocessing.html\n",
            "Please also refer to the documentation for alternative solver options:\n",
            "    https://scikit-learn.org/stable/modules/linear_model.html#logistic-regression\n",
            "  extra_warning_msg=_LOGISTIC_SOLVER_CONVERGENCE_MSG,\n"
          ]
        },
        {
          "data": {
            "text/plain": [
              "LogisticRegression()"
            ]
          },
          "execution_count": 108,
          "metadata": {},
          "output_type": "execute_result"
        }
      ],
      "source": [
        "from sklearn.linear_model import LogisticRegression\n",
        "logisticRegr = LogisticRegression()\n",
        "vectorized = count_vectorize.fit_transform(X_train[\"cleaned tweets\"])\n",
        "logisticRegr.fit(vectorized, y_train)"
      ]
    },
    {
      "cell_type": "code",
      "execution_count": 109,
      "metadata": {
        "id": "Vx91BaYYQD6m"
      },
      "outputs": [],
      "source": [
        "vectorized = count_vectorize.transform(X_test[\"cleaned tweets\"])\n",
        "res=logisticRegr.predict(vectorized)"
      ]
    },
    {
      "cell_type": "code",
      "execution_count": 110,
      "metadata": {
        "colab": {
          "base_uri": "https://localhost:8080/"
        },
        "id": "3zJb-AhaQJFI",
        "outputId": "d5334172-664f-4f03-b3e6-d7df99bd058d"
      },
      "outputs": [
        {
          "data": {
            "text/plain": [
              "array(['Positive', 'Neutral', 'Positive', ..., 'Neutral', 'Positive',\n",
              "       'Positive'], dtype=object)"
            ]
          },
          "execution_count": 110,
          "metadata": {},
          "output_type": "execute_result"
        }
      ],
      "source": [
        "res"
      ]
    },
    {
      "cell_type": "code",
      "execution_count": 111,
      "metadata": {
        "colab": {
          "base_uri": "https://localhost:8080/"
        },
        "id": "wTJEkpRlQKqE",
        "outputId": "90963125-c2ef-40c3-99bf-06aa6ae46b52"
      },
      "outputs": [
        {
          "data": {
            "text/plain": [
              "0.9338461538461539"
            ]
          },
          "execution_count": 111,
          "metadata": {},
          "output_type": "execute_result"
        }
      ],
      "source": [
        "metrics.accuracy_score(res, y_test)"
      ]
    },
    {
      "cell_type": "code",
      "execution_count": 112,
      "metadata": {
        "colab": {
          "base_uri": "https://localhost:8080/",
          "height": 302
        },
        "id": "S12nJArWQRT0",
        "outputId": "1c8c0904-3661-43d2-8f38-66e430840b2a"
      },
      "outputs": [
        {
          "data": {
            "text/plain": [
              "Text(89.18, 0.5, 'predicted label')"
            ]
          },
          "execution_count": 112,
          "metadata": {},
          "output_type": "execute_result"
        },
        {
          "data": {
            "image/png": "[encoded data removed]",
            "text/plain": [
              "<Figure size 432x288 with 1 Axes>"
            ]
          },
          "metadata": {},
          "output_type": "display_data"
        }
      ],
      "source": [
        "mat = confusion_matrix(y_test, res)\n",
        "sns.heatmap(mat.T, square=True, annot=True, fmt='d', cbar=False,\n",
        "            xticklabels=[\"pos\",\"neg\",\"neu\"], yticklabels=[\"pos\",\"neg\",\"neu\"])\n",
        "plt.xlabel('true label')\n",
        "plt.ylabel('predicted label')"
      ]
    },
    {
      "cell_type": "code",
      "execution_count": 113,
      "metadata": {
        "colab": {
          "base_uri": "https://localhost:8080/"
        },
        "id": "3AilSfElQUlU",
        "outputId": "368f964a-130b-423d-c2dd-50f524bb0dac"
      },
      "outputs": [
        {
          "name": "stderr",
          "output_type": "stream",
          "text": [
            "/usr/local/lib/python3.7/dist-packages/sklearn/svm/_base.py:1208: ConvergenceWarning: Liblinear failed to converge, increase the number of iterations.\n",
            "  ConvergenceWarning,\n"
          ]
        },
        {
          "data": {
            "text/plain": [
              "LinearSVC()"
            ]
          },
          "execution_count": 113,
          "metadata": {},
          "output_type": "execute_result"
        }
      ],
      "source": [
        "from sklearn.svm import LinearSVC\n",
        "clf=LinearSVC()\n",
        "vectorized = count_vectorize.fit_transform(X_train[\"cleaned tweets\"])\n",
        "clf.fit(vectorized, y_train)"
      ]
    },
    {
      "cell_type": "code",
      "execution_count": 114,
      "metadata": {
        "id": "fsNblz7dRKHI"
      },
      "outputs": [],
      "source": [
        "vectorized = count_vectorize.transform(X_test[\"cleaned tweets\"])\n",
        "res=clf.predict(vectorized)"
      ]
    },
    {
      "cell_type": "code",
      "execution_count": 115,
      "metadata": {
        "colab": {
          "base_uri": "https://localhost:8080/"
        },
        "id": "vKyteu0cRdE5",
        "outputId": "e65757f1-9b3d-4620-f8be-69e3356e3e2f"
      },
      "outputs": [
        {
          "data": {
            "text/plain": [
              "0.9357692307692308"
            ]
          },
          "execution_count": 115,
          "metadata": {},
          "output_type": "execute_result"
        }
      ],
      "source": [
        "metrics.accuracy_score(res, y_test)"
      ]
    },
    {
      "cell_type": "code",
      "execution_count": 116,
      "metadata": {
        "colab": {
          "base_uri": "https://localhost:8080/",
          "height": 302
        },
        "id": "85Mg1p3jRgPE",
        "outputId": "8acbcb0f-00f3-4710-e7f9-619a82e3c762"
      },
      "outputs": [
        {
          "data": {
            "text/plain": [
              "Text(89.18, 0.5, 'predicted label')"
            ]
          },
          "execution_count": 116,
          "metadata": {},
          "output_type": "execute_result"
        },
        {
          "data": {
            "image/png": "[encoded data removed]",
            "text/plain": [
              "<Figure size 432x288 with 1 Axes>"
            ]
          },
          "metadata": {},
          "output_type": "display_data"
        }
      ],
      "source": [
        "mat = confusion_matrix(y_test, res)\n",
        "sns.heatmap(mat.T, square=True, annot=True, fmt='d', cbar=False,\n",
        "            xticklabels=[\"pos\",\"neg\",\"neu\"], yticklabels=[\"pos\",\"neg\",\"neu\"])\n",
        "plt.xlabel('true label')\n",
        "plt.ylabel('predicted label')"
      ]
    },
    {
      "cell_type": "code",
      "execution_count": 117,
      "metadata": {
        "colab": {
          "base_uri": "https://localhost:8080/"
        },
        "id": "SKgfAN75Rh89",
        "outputId": "b6d44ecd-8cc5-4c37-87ef-f0aff5863a49"
      },
      "outputs": [
        {
          "data": {
            "text/plain": [
              "AdaBoostClassifier(n_estimators=100, random_state=0)"
            ]
          },
          "execution_count": 117,
          "metadata": {},
          "output_type": "execute_result"
        }
      ],
      "source": [
        "from sklearn.ensemble import AdaBoostClassifier\n",
        "clf = AdaBoostClassifier(n_estimators=100, random_state=0)\n",
        "vectorized = count_vectorize.fit_transform(X_train[\"cleaned tweets\"])\n",
        "clf.fit(vectorized, y_train)"
      ]
    },
    {
      "cell_type": "code",
      "execution_count": 118,
      "metadata": {
        "id": "TtTjtljqR5NY"
      },
      "outputs": [],
      "source": [
        "vectorized = count_vectorize.transform(X_test[\"cleaned tweets\"])\n",
        "res=clf.predict(vectorized)"
      ]
    },
    {
      "cell_type": "code",
      "execution_count": 119,
      "metadata": {
        "colab": {
          "base_uri": "https://localhost:8080/"
        },
        "id": "zdxPnHodR9M4",
        "outputId": "f8d3eaa3-3434-432b-d67a-dd9e864df921"
      },
      "outputs": [
        {
          "data": {
            "text/plain": [
              "0.8442307692307692"
            ]
          },
          "execution_count": 119,
          "metadata": {},
          "output_type": "execute_result"
        }
      ],
      "source": [
        "metrics.accuracy_score(res, y_test)"
      ]
    },
    {
      "cell_type": "code",
      "execution_count": 120,
      "metadata": {
        "colab": {
          "base_uri": "https://localhost:8080/",
          "height": 302
        },
        "id": "0Wcf1OwzR_Ju",
        "outputId": "c58f88d0-7da6-4b63-904e-66bc1114fddd"
      },
      "outputs": [
        {
          "data": {
            "text/plain": [
              "Text(89.18, 0.5, 'predicted label')"
            ]
          },
          "execution_count": 120,
          "metadata": {},
          "output_type": "execute_result"
        },
        {
          "data": {
            "image/png": "[encoded data removed]",
            "text/plain": [
              "<Figure size 432x288 with 1 Axes>"
            ]
          },
          "metadata": {},
          "output_type": "display_data"
        }
      ],
      "source": [
        "mat = confusion_matrix(y_test, res)\n",
        "sns.heatmap(mat.T, square=True, annot=True, fmt='d', cbar=False,\n",
        "            xticklabels=[\"pos\",\"neg\",\"neu\"], yticklabels=[\"pos\",\"neg\",\"neu\"])\n",
        "plt.xlabel('true label')\n",
        "plt.ylabel('predicted label')"
      ]
    },
    {
      "cell_type": "code",
      "execution_count": 121,
      "metadata": {
        "colab": {
          "base_uri": "https://localhost:8080/"
        },
        "id": "eXDKVfwKSAti",
        "outputId": "38319bb5-37df-4b92-d8e6-8487ba1d59d1"
      },
      "outputs": [
        {
          "data": {
            "text/plain": [
              "RidgeClassifier()"
            ]
          },
          "execution_count": 121,
          "metadata": {},
          "output_type": "execute_result"
        }
      ],
      "source": [
        "from sklearn.linear_model import RidgeClassifier\n",
        "clf = RidgeClassifier()\n",
        "vectorized = count_vectorize.fit_transform(X_train[\"cleaned tweets\"])\n",
        "clf.fit(vectorized, y_train)"
      ]
    },
    {
      "cell_type": "code",
      "execution_count": 122,
      "metadata": {
        "id": "Uv6uW5GkSMHP"
      },
      "outputs": [],
      "source": [
        "vectorized = count_vectorize.transform(X_test[\"cleaned tweets\"])\n",
        "res=clf.predict(vectorized)\n"
      ]
    },
    {
      "cell_type": "code",
      "execution_count": 123,
      "metadata": {
        "colab": {
          "base_uri": "https://localhost:8080/"
        },
        "id": "kN47d2yLSOn1",
        "outputId": "6dd0c52e-209a-4524-9b55-3fab4ab924e8"
      },
      "outputs": [
        {
          "data": {
            "text/plain": [
              "0.9276923076923077"
            ]
          },
          "execution_count": 123,
          "metadata": {},
          "output_type": "execute_result"
        }
      ],
      "source": [
        "metrics.accuracy_score(res, y_test)"
      ]
    },
    {
      "cell_type": "code",
      "execution_count": 124,
      "metadata": {
        "colab": {
          "base_uri": "https://localhost:8080/",
          "height": 302
        },
        "id": "ZvZIi1vASPyg",
        "outputId": "7d0c5de2-e9c7-4d8b-c419-46e960adbe98"
      },
      "outputs": [
        {
          "data": {
            "text/plain": [
              "Text(89.18, 0.5, 'predicted label')"
            ]
          },
          "execution_count": 124,
          "metadata": {},
          "output_type": "execute_result"
        },
        {
          "data": {
            "image/png": "[encoded data removed]",
            "text/plain": [
              "<Figure size 432x288 with 1 Axes>"
            ]
          },
          "metadata": {},
          "output_type": "display_data"
        }
      ],
      "source": [
        "mat = confusion_matrix(y_test, res)\n",
        "sns.heatmap(mat.T, square=True, annot=True, fmt='d', cbar=False,\n",
        "            xticklabels=[\"pos\",\"neg\",\"neu\"], yticklabels=[\"pos\",\"neg\",\"neu\"])\n",
        "plt.xlabel('true label')\n",
        "plt.ylabel('predicted label')"
      ]
    },
    {
      "cell_type": "code",
      "execution_count": 131,
      "metadata": {
        "colab": {
          "base_uri": "https://localhost:8080/"
        },
        "id": "GZJ3EAsfSRMM",
        "outputId": "cf076fc3-7715-402e-e870-bbc92e34405f"
      },
      "outputs": [
        {
          "data": {
            "text/plain": [
              "PassiveAggressiveClassifier(random_state=0)"
            ]
          },
          "execution_count": 131,
          "metadata": {},
          "output_type": "execute_result"
        }
      ],
      "source": [
        "from sklearn.linear_model import PassiveAggressiveClassifier\n",
        "clf = PassiveAggressiveClassifier(random_state=0)\n",
        "vectorized = count_vectorize.fit_transform(X_train[\"cleaned tweets\"])\n",
        "clf.fit(vectorized, y_train)"
      ]
    },
    {
      "cell_type": "code",
      "execution_count": 132,
      "metadata": {
        "id": "DoPTgjwPSpcD"
      },
      "outputs": [],
      "source": [
        "vectorized = count_vectorize.transform(X_test[\"cleaned tweets\"])\n",
        "res=clf.predict(vectorized)\n"
      ]
    },
    {
      "cell_type": "code",
      "execution_count": 133,
      "metadata": {
        "colab": {
          "base_uri": "https://localhost:8080/"
        },
        "id": "pSz-8V1rSrcw",
        "outputId": "8c57f015-7dd1-4e8c-ded3-015b404e5e6b"
      },
      "outputs": [
        {
          "data": {
            "text/plain": [
              "0.9323076923076923"
            ]
          },
          "execution_count": 133,
          "metadata": {},
          "output_type": "execute_result"
        }
      ],
      "source": [
        "metrics.accuracy_score(res, y_test)"
      ]
    },
    {
      "cell_type": "code",
      "execution_count": 134,
      "metadata": {
        "colab": {
          "base_uri": "https://localhost:8080/",
          "height": 302
        },
        "id": "fibKoyZaSsw4",
        "outputId": "81ba8866-fb89-4629-9b80-23b1bd21d6a2"
      },
      "outputs": [
        {
          "data": {
            "text/plain": [
              "Text(89.18, 0.5, 'predicted label')"
            ]
          },
          "execution_count": 134,
          "metadata": {},
          "output_type": "execute_result"
        },
        {
          "data": {
            "image/png": "[encoded data removed]",
            "text/plain": [
              "<Figure size 432x288 with 1 Axes>"
            ]
          },
          "metadata": {},
          "output_type": "display_data"
        }
      ],
      "source": [
        "mat = confusion_matrix(y_test, res)\n",
        "sns.heatmap(mat.T, square=True, annot=True, fmt='d', cbar=False,\n",
        "            xticklabels=[\"pos\",\"neg\",\"neu\"], yticklabels=[\"pos\",\"neg\",\"neu\"])\n",
        "plt.xlabel('true label')\n",
        "plt.ylabel('predicted label')"
      ]
    },
    {
      "cell_type": "code",
      "execution_count": 135,
      "metadata": {
        "colab": {
          "base_uri": "https://localhost:8080/"
        },
        "id": "b2Oqp32_S7yu",
        "outputId": "f17bb052-4345-4e92-e951-fcbfe0ed8a39"
      },
      "outputs": [
        {
          "data": {
            "text/plain": [
              "Perceptron()"
            ]
          },
          "execution_count": 135,
          "metadata": {},
          "output_type": "execute_result"
        }
      ],
      "source": [
        "from sklearn.linear_model import Perceptron\n",
        "clf = Perceptron(random_state=0)\n",
        "vectorized = count_vectorize.fit_transform(X_train[\"cleaned tweets\"])\n",
        "clf.fit(vectorized, y_train)"
      ]
    },
    {
      "cell_type": "code",
      "execution_count": 136,
      "metadata": {
        "id": "LxtF0kjITH0-"
      },
      "outputs": [],
      "source": [
        "vectorized = count_vectorize.transform(X_test[\"cleaned tweets\"])\n",
        "res=clf.predict(vectorized)\n"
      ]
    },
    {
      "cell_type": "code",
      "execution_count": 137,
      "metadata": {
        "colab": {
          "base_uri": "https://localhost:8080/"
        },
        "id": "16e4dwV1TJDT",
        "outputId": "9d096ddf-6327-416e-e82d-db9a793e736e"
      },
      "outputs": [
        {
          "data": {
            "text/plain": [
              "0.9276923076923077"
            ]
          },
          "execution_count": 137,
          "metadata": {},
          "output_type": "execute_result"
        }
      ],
      "source": [
        "metrics.accuracy_score(res, y_test)"
      ]
    },
    {
      "cell_type": "code",
      "execution_count": 138,
      "metadata": {
        "colab": {
          "base_uri": "https://localhost:8080/",
          "height": 302
        },
        "id": "exgwYwdATKgg",
        "outputId": "e6b7ed3f-e871-4d63-f316-9e08609bdc44"
      },
      "outputs": [
        {
          "data": {
            "text/plain": [
              "Text(89.18, 0.5, 'predicted label')"
            ]
          },
          "execution_count": 138,
          "metadata": {},
          "output_type": "execute_result"
        },
        {
          "data": {
            "image/png": "[encoded data removed]",
            "text/plain": [
              "<Figure size 432x288 with 1 Axes>"
            ]
          },
          "metadata": {},
          "output_type": "display_data"
        }
      ],
      "source": [
        "mat = confusion_matrix(y_test, res)\n",
        "sns.heatmap(mat.T, square=True, annot=True, fmt='d', cbar=False,\n",
        "            xticklabels=[\"pos\",\"neg\",\"neu\"], yticklabels=[\"pos\",\"neg\",\"neu\"])\n",
        "plt.xlabel('true label')\n",
        "plt.ylabel('predicted label')"
      ]
    },
    {
      "cell_type": "code",
      "execution_count": null,
      "metadata": {
        "id": "VfArOlmBTMHO"
      },
      "outputs": [],
      "source": []
    }
  ],
  "metadata": {
    "colab": {
      "collapsed_sections": [],
      "provenance": []
    },
    "kernelspec": {
      "display_name": "Python 3",
      "name": "python3"
    },
    "language_info": {
      "name": "python"
    }
  },
  "nbformat": 4,
  "nbformat_minor": 0
}
